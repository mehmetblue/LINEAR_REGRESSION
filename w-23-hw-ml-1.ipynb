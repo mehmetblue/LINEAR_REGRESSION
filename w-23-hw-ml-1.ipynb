{
 "cells": [
  {
   "cell_type": "code",
   "execution_count": 1,
   "id": "a55957da",
   "metadata": {
    "_cell_guid": "b1076dfc-b9ad-4769-8c92-a6c4dae69d19",
    "_uuid": "8f2839f25d086af736a60e9eeb907d3b93b6e0e5",
    "execution": {
     "iopub.execute_input": "2022-07-29T17:19:27.922496Z",
     "iopub.status.busy": "2022-07-29T17:19:27.921961Z",
     "iopub.status.idle": "2022-07-29T17:19:28.817422Z",
     "shell.execute_reply": "2022-07-29T17:19:28.816375Z"
    },
    "papermill": {
     "duration": 0.935725,
     "end_time": "2022-07-29T17:19:28.819943",
     "exception": false,
     "start_time": "2022-07-29T17:19:27.884218",
     "status": "completed"
    },
    "tags": []
   },
   "outputs": [
    {
     "name": "stdout",
     "output_type": "stream",
     "text": [
      "/kaggle/input/flight-price-prediction/business.csv\n",
      "/kaggle/input/flight-price-prediction/economy.csv\n",
      "/kaggle/input/flight-price-prediction/Clean_Dataset.csv\n"
     ]
    }
   ],
   "source": [
    "import numpy as np\n",
    "import pandas as pd\n",
    "import matplotlib.pyplot as plt\n",
    "import seaborn as sns\n",
    "# pd.reset_option(\"^display\")\n",
    "import warnings\n",
    "warnings.filterwarnings('ignore')\n",
    "\n",
    "\n",
    "import os\n",
    "for dirname, _, filenames in os.walk('/kaggle/input'):\n",
    "    for filename in filenames:\n",
    "        print(os.path.join(dirname, filename))"
   ]
  },
  {
   "cell_type": "markdown",
   "id": "d2a648ed",
   "metadata": {
    "papermill": {
     "duration": 0.03336,
     "end_time": "2022-07-29T17:19:28.888465",
     "exception": false,
     "start_time": "2022-07-29T17:19:28.855105",
     "status": "completed"
    },
    "tags": []
   },
   "source": [
    "# Dataset\n",
    "Dataset contains information about flight booking options from the website Easemytrip for flight travel between India's top 6 metro cities. There are 300261 datapoints and 11 features in the cleaned dataset.\n",
    "\n",
    "# Features\n",
    "The various features of the cleaned dataset are explained below:\n",
    "\n",
    "* Airline: The name of the airline company is stored in the airline column. It is a categorical feature having 6 different airlines.\n",
    "* Flight: Flight stores information regarding the plane's flight code. It is a categorical feature.\n",
    "* Source City: City from which the flight takes off. It is a categorical feature having 6 unique cities.\n",
    "* Departure Time: This is a derived categorical feature obtained created by grouping time periods into bins. It stores information about the departure time and have 6 unique time labels.\n",
    "* Stops: A categorical feature with 3 distinct values that stores the number of stops between the source and destination cities.\n",
    "* Arrival Time: This is a derived categorical feature created by grouping time intervals into bins. It has six distinct time labels and keeps information about the arrival time.\n",
    "* Destination City: City where the flight will land. It is a categorical feature having 6 unique cities.\n",
    "* Class: A categorical feature that contains information on seat class; it has two distinct values: Business and Economy.\n",
    "* Duration: A continuous feature that displays the overall amount of time it takes to travel between cities in hours. 10.Days Left: This is a derived characteristic that is calculated by subtracting the trip date by the booking date.\n",
    "* Price: Target variable stores information of the ticket price."
   ]
  },
  {
   "cell_type": "code",
   "execution_count": 2,
   "id": "64948f17",
   "metadata": {
    "execution": {
     "iopub.execute_input": "2022-07-29T17:19:28.958354Z",
     "iopub.status.busy": "2022-07-29T17:19:28.958008Z",
     "iopub.status.idle": "2022-07-29T17:19:29.741099Z",
     "shell.execute_reply": "2022-07-29T17:19:29.740101Z"
    },
    "papermill": {
     "duration": 0.820499,
     "end_time": "2022-07-29T17:19:29.743467",
     "exception": false,
     "start_time": "2022-07-29T17:19:28.922968",
     "status": "completed"
    },
    "tags": []
   },
   "outputs": [
    {
     "data": {
      "text/html": [
       "<div>\n",
       "<style scoped>\n",
       "    .dataframe tbody tr th:only-of-type {\n",
       "        vertical-align: middle;\n",
       "    }\n",
       "\n",
       "    .dataframe tbody tr th {\n",
       "        vertical-align: top;\n",
       "    }\n",
       "\n",
       "    .dataframe thead th {\n",
       "        text-align: right;\n",
       "    }\n",
       "</style>\n",
       "<table border=\"1\" class=\"dataframe\">\n",
       "  <thead>\n",
       "    <tr style=\"text-align: right;\">\n",
       "      <th></th>\n",
       "      <th>Unnamed: 0</th>\n",
       "      <th>airline</th>\n",
       "      <th>flight</th>\n",
       "      <th>source_city</th>\n",
       "      <th>departure_time</th>\n",
       "      <th>stops</th>\n",
       "      <th>arrival_time</th>\n",
       "      <th>destination_city</th>\n",
       "      <th>class</th>\n",
       "      <th>duration</th>\n",
       "      <th>days_left</th>\n",
       "      <th>price</th>\n",
       "    </tr>\n",
       "  </thead>\n",
       "  <tbody>\n",
       "    <tr>\n",
       "      <th>0</th>\n",
       "      <td>0</td>\n",
       "      <td>SpiceJet</td>\n",
       "      <td>SG-8709</td>\n",
       "      <td>Delhi</td>\n",
       "      <td>Evening</td>\n",
       "      <td>zero</td>\n",
       "      <td>Night</td>\n",
       "      <td>Mumbai</td>\n",
       "      <td>Economy</td>\n",
       "      <td>2.17</td>\n",
       "      <td>1</td>\n",
       "      <td>5953</td>\n",
       "    </tr>\n",
       "    <tr>\n",
       "      <th>1</th>\n",
       "      <td>1</td>\n",
       "      <td>SpiceJet</td>\n",
       "      <td>SG-8157</td>\n",
       "      <td>Delhi</td>\n",
       "      <td>Early_Morning</td>\n",
       "      <td>zero</td>\n",
       "      <td>Morning</td>\n",
       "      <td>Mumbai</td>\n",
       "      <td>Economy</td>\n",
       "      <td>2.33</td>\n",
       "      <td>1</td>\n",
       "      <td>5953</td>\n",
       "    </tr>\n",
       "    <tr>\n",
       "      <th>2</th>\n",
       "      <td>2</td>\n",
       "      <td>AirAsia</td>\n",
       "      <td>I5-764</td>\n",
       "      <td>Delhi</td>\n",
       "      <td>Early_Morning</td>\n",
       "      <td>zero</td>\n",
       "      <td>Early_Morning</td>\n",
       "      <td>Mumbai</td>\n",
       "      <td>Economy</td>\n",
       "      <td>2.17</td>\n",
       "      <td>1</td>\n",
       "      <td>5956</td>\n",
       "    </tr>\n",
       "    <tr>\n",
       "      <th>3</th>\n",
       "      <td>3</td>\n",
       "      <td>Vistara</td>\n",
       "      <td>UK-995</td>\n",
       "      <td>Delhi</td>\n",
       "      <td>Morning</td>\n",
       "      <td>zero</td>\n",
       "      <td>Afternoon</td>\n",
       "      <td>Mumbai</td>\n",
       "      <td>Economy</td>\n",
       "      <td>2.25</td>\n",
       "      <td>1</td>\n",
       "      <td>5955</td>\n",
       "    </tr>\n",
       "    <tr>\n",
       "      <th>4</th>\n",
       "      <td>4</td>\n",
       "      <td>Vistara</td>\n",
       "      <td>UK-963</td>\n",
       "      <td>Delhi</td>\n",
       "      <td>Morning</td>\n",
       "      <td>zero</td>\n",
       "      <td>Morning</td>\n",
       "      <td>Mumbai</td>\n",
       "      <td>Economy</td>\n",
       "      <td>2.33</td>\n",
       "      <td>1</td>\n",
       "      <td>5955</td>\n",
       "    </tr>\n",
       "  </tbody>\n",
       "</table>\n",
       "</div>"
      ],
      "text/plain": [
       "   Unnamed: 0   airline   flight source_city departure_time stops  \\\n",
       "0           0  SpiceJet  SG-8709       Delhi        Evening  zero   \n",
       "1           1  SpiceJet  SG-8157       Delhi  Early_Morning  zero   \n",
       "2           2   AirAsia   I5-764       Delhi  Early_Morning  zero   \n",
       "3           3   Vistara   UK-995       Delhi        Morning  zero   \n",
       "4           4   Vistara   UK-963       Delhi        Morning  zero   \n",
       "\n",
       "    arrival_time destination_city    class  duration  days_left  price  \n",
       "0          Night           Mumbai  Economy      2.17          1   5953  \n",
       "1        Morning           Mumbai  Economy      2.33          1   5953  \n",
       "2  Early_Morning           Mumbai  Economy      2.17          1   5956  \n",
       "3      Afternoon           Mumbai  Economy      2.25          1   5955  \n",
       "4        Morning           Mumbai  Economy      2.33          1   5955  "
      ]
     },
     "execution_count": 2,
     "metadata": {},
     "output_type": "execute_result"
    }
   ],
   "source": [
    "cd = pd.read_csv('/kaggle/input/flight-price-prediction/Clean_Dataset.csv')\n",
    "df = cd.copy()\n",
    "df.head()"
   ]
  },
  {
   "cell_type": "code",
   "execution_count": 3,
   "id": "a09a97ed",
   "metadata": {
    "execution": {
     "iopub.execute_input": "2022-07-29T17:19:29.819848Z",
     "iopub.status.busy": "2022-07-29T17:19:29.819535Z",
     "iopub.status.idle": "2022-07-29T17:19:29.825783Z",
     "shell.execute_reply": "2022-07-29T17:19:29.824817Z"
    },
    "papermill": {
     "duration": 0.046016,
     "end_time": "2022-07-29T17:19:29.827681",
     "exception": false,
     "start_time": "2022-07-29T17:19:29.781665",
     "status": "completed"
    },
    "tags": []
   },
   "outputs": [
    {
     "data": {
      "text/plain": [
       "(300153, 12)"
      ]
     },
     "execution_count": 3,
     "metadata": {},
     "output_type": "execute_result"
    }
   ],
   "source": [
    "df.shape"
   ]
  },
  {
   "cell_type": "code",
   "execution_count": 4,
   "id": "12c288ba",
   "metadata": {
    "execution": {
     "iopub.execute_input": "2022-07-29T17:19:29.895811Z",
     "iopub.status.busy": "2022-07-29T17:19:29.895533Z",
     "iopub.status.idle": "2022-07-29T17:19:29.954775Z",
     "shell.execute_reply": "2022-07-29T17:19:29.953766Z"
    },
    "papermill": {
     "duration": 0.096239,
     "end_time": "2022-07-29T17:19:29.957320",
     "exception": false,
     "start_time": "2022-07-29T17:19:29.861081",
     "status": "completed"
    },
    "tags": []
   },
   "outputs": [
    {
     "data": {
      "text/html": [
       "<div>\n",
       "<style scoped>\n",
       "    .dataframe tbody tr th:only-of-type {\n",
       "        vertical-align: middle;\n",
       "    }\n",
       "\n",
       "    .dataframe tbody tr th {\n",
       "        vertical-align: top;\n",
       "    }\n",
       "\n",
       "    .dataframe thead th {\n",
       "        text-align: right;\n",
       "    }\n",
       "</style>\n",
       "<table border=\"1\" class=\"dataframe\">\n",
       "  <thead>\n",
       "    <tr style=\"text-align: right;\">\n",
       "      <th></th>\n",
       "      <th>count</th>\n",
       "      <th>mean</th>\n",
       "      <th>std</th>\n",
       "      <th>min</th>\n",
       "      <th>25%</th>\n",
       "      <th>50%</th>\n",
       "      <th>75%</th>\n",
       "      <th>max</th>\n",
       "    </tr>\n",
       "  </thead>\n",
       "  <tbody>\n",
       "    <tr>\n",
       "      <th>Unnamed: 0</th>\n",
       "      <td>300153.0</td>\n",
       "      <td>150076.000000</td>\n",
       "      <td>86646.852011</td>\n",
       "      <td>0.00</td>\n",
       "      <td>75038.00</td>\n",
       "      <td>150076.00</td>\n",
       "      <td>225114.00</td>\n",
       "      <td>300152.00</td>\n",
       "    </tr>\n",
       "    <tr>\n",
       "      <th>duration</th>\n",
       "      <td>300153.0</td>\n",
       "      <td>12.221021</td>\n",
       "      <td>7.191997</td>\n",
       "      <td>0.83</td>\n",
       "      <td>6.83</td>\n",
       "      <td>11.25</td>\n",
       "      <td>16.17</td>\n",
       "      <td>49.83</td>\n",
       "    </tr>\n",
       "    <tr>\n",
       "      <th>days_left</th>\n",
       "      <td>300153.0</td>\n",
       "      <td>26.004751</td>\n",
       "      <td>13.561004</td>\n",
       "      <td>1.00</td>\n",
       "      <td>15.00</td>\n",
       "      <td>26.00</td>\n",
       "      <td>38.00</td>\n",
       "      <td>49.00</td>\n",
       "    </tr>\n",
       "    <tr>\n",
       "      <th>price</th>\n",
       "      <td>300153.0</td>\n",
       "      <td>20889.660523</td>\n",
       "      <td>22697.767366</td>\n",
       "      <td>1105.00</td>\n",
       "      <td>4783.00</td>\n",
       "      <td>7425.00</td>\n",
       "      <td>42521.00</td>\n",
       "      <td>123071.00</td>\n",
       "    </tr>\n",
       "  </tbody>\n",
       "</table>\n",
       "</div>"
      ],
      "text/plain": [
       "               count           mean           std      min       25%  \\\n",
       "Unnamed: 0  300153.0  150076.000000  86646.852011     0.00  75038.00   \n",
       "duration    300153.0      12.221021      7.191997     0.83      6.83   \n",
       "days_left   300153.0      26.004751     13.561004     1.00     15.00   \n",
       "price       300153.0   20889.660523  22697.767366  1105.00   4783.00   \n",
       "\n",
       "                  50%        75%        max  \n",
       "Unnamed: 0  150076.00  225114.00  300152.00  \n",
       "duration        11.25      16.17      49.83  \n",
       "days_left       26.00      38.00      49.00  \n",
       "price         7425.00   42521.00  123071.00  "
      ]
     },
     "execution_count": 4,
     "metadata": {},
     "output_type": "execute_result"
    }
   ],
   "source": [
    "df.describe().T"
   ]
  },
  {
   "cell_type": "code",
   "execution_count": 5,
   "id": "94bd17fb",
   "metadata": {
    "execution": {
     "iopub.execute_input": "2022-07-29T17:19:30.026874Z",
     "iopub.status.busy": "2022-07-29T17:19:30.026576Z",
     "iopub.status.idle": "2022-07-29T17:19:30.039089Z",
     "shell.execute_reply": "2022-07-29T17:19:30.038092Z"
    },
    "papermill": {
     "duration": 0.049269,
     "end_time": "2022-07-29T17:19:30.041211",
     "exception": false,
     "start_time": "2022-07-29T17:19:29.991942",
     "status": "completed"
    },
    "tags": []
   },
   "outputs": [
    {
     "data": {
      "text/plain": [
       "300153"
      ]
     },
     "execution_count": 5,
     "metadata": {},
     "output_type": "execute_result"
    }
   ],
   "source": [
    "df['Unnamed: 0'].nunique()"
   ]
  },
  {
   "cell_type": "code",
   "execution_count": 6,
   "id": "a5d5def6",
   "metadata": {
    "execution": {
     "iopub.execute_input": "2022-07-29T17:19:30.111739Z",
     "iopub.status.busy": "2022-07-29T17:19:30.111379Z",
     "iopub.status.idle": "2022-07-29T17:19:30.147537Z",
     "shell.execute_reply": "2022-07-29T17:19:30.146593Z"
    },
    "papermill": {
     "duration": 0.073352,
     "end_time": "2022-07-29T17:19:30.149778",
     "exception": false,
     "start_time": "2022-07-29T17:19:30.076426",
     "status": "completed"
    },
    "tags": []
   },
   "outputs": [
    {
     "data": {
      "text/html": [
       "<div>\n",
       "<style scoped>\n",
       "    .dataframe tbody tr th:only-of-type {\n",
       "        vertical-align: middle;\n",
       "    }\n",
       "\n",
       "    .dataframe tbody tr th {\n",
       "        vertical-align: top;\n",
       "    }\n",
       "\n",
       "    .dataframe thead th {\n",
       "        text-align: right;\n",
       "    }\n",
       "</style>\n",
       "<table border=\"1\" class=\"dataframe\">\n",
       "  <thead>\n",
       "    <tr style=\"text-align: right;\">\n",
       "      <th></th>\n",
       "      <th>airline</th>\n",
       "      <th>flight</th>\n",
       "      <th>source_city</th>\n",
       "      <th>departure_time</th>\n",
       "      <th>stops</th>\n",
       "      <th>arrival_time</th>\n",
       "      <th>destination_city</th>\n",
       "      <th>class</th>\n",
       "      <th>duration</th>\n",
       "      <th>days_left</th>\n",
       "      <th>price</th>\n",
       "    </tr>\n",
       "  </thead>\n",
       "  <tbody>\n",
       "    <tr>\n",
       "      <th>0</th>\n",
       "      <td>SpiceJet</td>\n",
       "      <td>SG-8709</td>\n",
       "      <td>Delhi</td>\n",
       "      <td>Evening</td>\n",
       "      <td>zero</td>\n",
       "      <td>Night</td>\n",
       "      <td>Mumbai</td>\n",
       "      <td>Economy</td>\n",
       "      <td>2.17</td>\n",
       "      <td>1</td>\n",
       "      <td>5953</td>\n",
       "    </tr>\n",
       "    <tr>\n",
       "      <th>1</th>\n",
       "      <td>SpiceJet</td>\n",
       "      <td>SG-8157</td>\n",
       "      <td>Delhi</td>\n",
       "      <td>Early_Morning</td>\n",
       "      <td>zero</td>\n",
       "      <td>Morning</td>\n",
       "      <td>Mumbai</td>\n",
       "      <td>Economy</td>\n",
       "      <td>2.33</td>\n",
       "      <td>1</td>\n",
       "      <td>5953</td>\n",
       "    </tr>\n",
       "    <tr>\n",
       "      <th>2</th>\n",
       "      <td>AirAsia</td>\n",
       "      <td>I5-764</td>\n",
       "      <td>Delhi</td>\n",
       "      <td>Early_Morning</td>\n",
       "      <td>zero</td>\n",
       "      <td>Early_Morning</td>\n",
       "      <td>Mumbai</td>\n",
       "      <td>Economy</td>\n",
       "      <td>2.17</td>\n",
       "      <td>1</td>\n",
       "      <td>5956</td>\n",
       "    </tr>\n",
       "    <tr>\n",
       "      <th>3</th>\n",
       "      <td>Vistara</td>\n",
       "      <td>UK-995</td>\n",
       "      <td>Delhi</td>\n",
       "      <td>Morning</td>\n",
       "      <td>zero</td>\n",
       "      <td>Afternoon</td>\n",
       "      <td>Mumbai</td>\n",
       "      <td>Economy</td>\n",
       "      <td>2.25</td>\n",
       "      <td>1</td>\n",
       "      <td>5955</td>\n",
       "    </tr>\n",
       "    <tr>\n",
       "      <th>4</th>\n",
       "      <td>Vistara</td>\n",
       "      <td>UK-963</td>\n",
       "      <td>Delhi</td>\n",
       "      <td>Morning</td>\n",
       "      <td>zero</td>\n",
       "      <td>Morning</td>\n",
       "      <td>Mumbai</td>\n",
       "      <td>Economy</td>\n",
       "      <td>2.33</td>\n",
       "      <td>1</td>\n",
       "      <td>5955</td>\n",
       "    </tr>\n",
       "  </tbody>\n",
       "</table>\n",
       "</div>"
      ],
      "text/plain": [
       "    airline   flight source_city departure_time stops   arrival_time  \\\n",
       "0  SpiceJet  SG-8709       Delhi        Evening  zero          Night   \n",
       "1  SpiceJet  SG-8157       Delhi  Early_Morning  zero        Morning   \n",
       "2   AirAsia   I5-764       Delhi  Early_Morning  zero  Early_Morning   \n",
       "3   Vistara   UK-995       Delhi        Morning  zero      Afternoon   \n",
       "4   Vistara   UK-963       Delhi        Morning  zero        Morning   \n",
       "\n",
       "  destination_city    class  duration  days_left  price  \n",
       "0           Mumbai  Economy      2.17          1   5953  \n",
       "1           Mumbai  Economy      2.33          1   5953  \n",
       "2           Mumbai  Economy      2.17          1   5956  \n",
       "3           Mumbai  Economy      2.25          1   5955  \n",
       "4           Mumbai  Economy      2.33          1   5955  "
      ]
     },
     "execution_count": 6,
     "metadata": {},
     "output_type": "execute_result"
    }
   ],
   "source": [
    "# it is the same as index\n",
    "df.drop('Unnamed: 0', axis=1, inplace=True)\n",
    "df.head()"
   ]
  },
  {
   "cell_type": "code",
   "execution_count": 7,
   "id": "4b054b8f",
   "metadata": {
    "execution": {
     "iopub.execute_input": "2022-07-29T17:19:30.221757Z",
     "iopub.status.busy": "2022-07-29T17:19:30.221354Z",
     "iopub.status.idle": "2022-07-29T17:19:30.269839Z",
     "shell.execute_reply": "2022-07-29T17:19:30.268766Z"
    },
    "papermill": {
     "duration": 0.086439,
     "end_time": "2022-07-29T17:19:30.271932",
     "exception": false,
     "start_time": "2022-07-29T17:19:30.185493",
     "status": "completed"
    },
    "tags": []
   },
   "outputs": [
    {
     "data": {
      "text/plain": [
       "Vistara      127859\n",
       "Air_India     80892\n",
       "Indigo        43120\n",
       "GO_FIRST      23173\n",
       "AirAsia       16098\n",
       "SpiceJet       9011\n",
       "Name: airline, dtype: int64"
      ]
     },
     "execution_count": 7,
     "metadata": {},
     "output_type": "execute_result"
    }
   ],
   "source": [
    "df.airline.value_counts()"
   ]
  },
  {
   "cell_type": "code",
   "execution_count": 8,
   "id": "9f60422a",
   "metadata": {
    "execution": {
     "iopub.execute_input": "2022-07-29T17:19:30.343788Z",
     "iopub.status.busy": "2022-07-29T17:19:30.343422Z",
     "iopub.status.idle": "2022-07-29T17:19:30.388075Z",
     "shell.execute_reply": "2022-07-29T17:19:30.387021Z"
    },
    "papermill": {
     "duration": 0.083763,
     "end_time": "2022-07-29T17:19:30.390334",
     "exception": false,
     "start_time": "2022-07-29T17:19:30.306571",
     "status": "completed"
    },
    "tags": []
   },
   "outputs": [
    {
     "data": {
      "text/plain": [
       "UK-706     3235\n",
       "UK-772     2741\n",
       "UK-720     2650\n",
       "UK-836     2542\n",
       "UK-822     2468\n",
       "           ... \n",
       "SG-9923       1\n",
       "6E-6474       1\n",
       "6E-865        1\n",
       "G8-705        1\n",
       "G8-107        1\n",
       "Name: flight, Length: 1561, dtype: int64"
      ]
     },
     "execution_count": 8,
     "metadata": {},
     "output_type": "execute_result"
    }
   ],
   "source": [
    "df.flight.value_counts()"
   ]
  },
  {
   "cell_type": "code",
   "execution_count": 9,
   "id": "1388f664",
   "metadata": {
    "execution": {
     "iopub.execute_input": "2022-07-29T17:19:30.461856Z",
     "iopub.status.busy": "2022-07-29T17:19:30.461528Z",
     "iopub.status.idle": "2022-07-29T17:19:30.507778Z",
     "shell.execute_reply": "2022-07-29T17:19:30.506918Z"
    },
    "papermill": {
     "duration": 0.08405,
     "end_time": "2022-07-29T17:19:30.509802",
     "exception": false,
     "start_time": "2022-07-29T17:19:30.425752",
     "status": "completed"
    },
    "tags": []
   },
   "outputs": [
    {
     "data": {
      "text/plain": [
       "one            250863\n",
       "zero            36004\n",
       "two_or_more     13286\n",
       "Name: stops, dtype: int64"
      ]
     },
     "execution_count": 9,
     "metadata": {},
     "output_type": "execute_result"
    }
   ],
   "source": [
    "df.stops.value_counts()"
   ]
  },
  {
   "cell_type": "code",
   "execution_count": 10,
   "id": "7ddf1d73",
   "metadata": {
    "execution": {
     "iopub.execute_input": "2022-07-29T17:19:30.580839Z",
     "iopub.status.busy": "2022-07-29T17:19:30.579905Z",
     "iopub.status.idle": "2022-07-29T17:19:30.625862Z",
     "shell.execute_reply": "2022-07-29T17:19:30.624918Z"
    },
    "papermill": {
     "duration": 0.083124,
     "end_time": "2022-07-29T17:19:30.627724",
     "exception": false,
     "start_time": "2022-07-29T17:19:30.544600",
     "status": "completed"
    },
    "tags": []
   },
   "outputs": [
    {
     "data": {
      "text/plain": [
       "Night            91538\n",
       "Evening          78323\n",
       "Morning          62735\n",
       "Afternoon        38139\n",
       "Early_Morning    15417\n",
       "Late_Night       14001\n",
       "Name: arrival_time, dtype: int64"
      ]
     },
     "execution_count": 10,
     "metadata": {},
     "output_type": "execute_result"
    }
   ],
   "source": [
    "df.arrival_time.value_counts()"
   ]
  },
  {
   "cell_type": "code",
   "execution_count": 11,
   "id": "b05796cb",
   "metadata": {
    "execution": {
     "iopub.execute_input": "2022-07-29T17:19:30.698236Z",
     "iopub.status.busy": "2022-07-29T17:19:30.697479Z",
     "iopub.status.idle": "2022-07-29T17:19:30.743067Z",
     "shell.execute_reply": "2022-07-29T17:19:30.742071Z"
    },
    "papermill": {
     "duration": 0.083035,
     "end_time": "2022-07-29T17:19:30.745223",
     "exception": false,
     "start_time": "2022-07-29T17:19:30.662188",
     "status": "completed"
    },
    "tags": []
   },
   "outputs": [
    {
     "data": {
      "text/plain": [
       "Mumbai       59097\n",
       "Delhi        57360\n",
       "Bangalore    51068\n",
       "Kolkata      49534\n",
       "Hyderabad    42726\n",
       "Chennai      40368\n",
       "Name: destination_city, dtype: int64"
      ]
     },
     "execution_count": 11,
     "metadata": {},
     "output_type": "execute_result"
    }
   ],
   "source": [
    "df.destination_city.value_counts()"
   ]
  },
  {
   "cell_type": "code",
   "execution_count": 12,
   "id": "ffdfd2b5",
   "metadata": {
    "execution": {
     "iopub.execute_input": "2022-07-29T17:19:30.816271Z",
     "iopub.status.busy": "2022-07-29T17:19:30.815986Z",
     "iopub.status.idle": "2022-07-29T17:19:30.858127Z",
     "shell.execute_reply": "2022-07-29T17:19:30.857251Z"
    },
    "papermill": {
     "duration": 0.079597,
     "end_time": "2022-07-29T17:19:30.859961",
     "exception": false,
     "start_time": "2022-07-29T17:19:30.780364",
     "status": "completed"
    },
    "tags": []
   },
   "outputs": [
    {
     "data": {
      "text/plain": [
       "Economy     206666\n",
       "Business     93487\n",
       "Name: class, dtype: int64"
      ]
     },
     "execution_count": 12,
     "metadata": {},
     "output_type": "execute_result"
    }
   ],
   "source": [
    "df['class'].value_counts()"
   ]
  },
  {
   "cell_type": "code",
   "execution_count": 13,
   "id": "e63f788b",
   "metadata": {
    "execution": {
     "iopub.execute_input": "2022-07-29T17:19:30.932561Z",
     "iopub.status.busy": "2022-07-29T17:19:30.931664Z",
     "iopub.status.idle": "2022-07-29T17:19:30.945970Z",
     "shell.execute_reply": "2022-07-29T17:19:30.944867Z"
    },
    "papermill": {
     "duration": 0.053102,
     "end_time": "2022-07-29T17:19:30.948187",
     "exception": false,
     "start_time": "2022-07-29T17:19:30.895085",
     "status": "completed"
    },
    "tags": []
   },
   "outputs": [
    {
     "data": {
      "text/plain": [
       "2.17     4242\n",
       "2.25     4036\n",
       "2.75     2879\n",
       "2.08     2755\n",
       "2.83     2323\n",
       "         ... \n",
       "37.17       1\n",
       "38.75       1\n",
       "38.50       1\n",
       "36.25       1\n",
       "41.50       1\n",
       "Name: duration, Length: 476, dtype: int64"
      ]
     },
     "execution_count": 13,
     "metadata": {},
     "output_type": "execute_result"
    }
   ],
   "source": [
    "df['duration'].value_counts()"
   ]
  },
  {
   "cell_type": "code",
   "execution_count": 14,
   "id": "b4b99c06",
   "metadata": {
    "execution": {
     "iopub.execute_input": "2022-07-29T17:19:31.020303Z",
     "iopub.status.busy": "2022-07-29T17:19:31.020028Z",
     "iopub.status.idle": "2022-07-29T17:19:31.029268Z",
     "shell.execute_reply": "2022-07-29T17:19:31.028290Z"
    },
    "papermill": {
     "duration": 0.047619,
     "end_time": "2022-07-29T17:19:31.031378",
     "exception": false,
     "start_time": "2022-07-29T17:19:30.983759",
     "status": "completed"
    },
    "tags": []
   },
   "outputs": [
    {
     "data": {
      "text/plain": [
       "25    6633\n",
       "18    6602\n",
       "39    6593\n",
       "32    6585\n",
       "26    6573\n",
       "24    6542\n",
       "19    6537\n",
       "31    6534\n",
       "33    6532\n",
       "40    6531\n",
       "41    6525\n",
       "28    6522\n",
       "38    6512\n",
       "20    6502\n",
       "30    6501\n",
       "42    6497\n",
       "22    6494\n",
       "36    6490\n",
       "21    6479\n",
       "37    6476\n",
       "43    6472\n",
       "44    6436\n",
       "17    6419\n",
       "11    6417\n",
       "34    6412\n",
       "13    6404\n",
       "23    6401\n",
       "29    6397\n",
       "12    6381\n",
       "27    6360\n",
       "14    6349\n",
       "15    6340\n",
       "45    6314\n",
       "35    6291\n",
       "16    6272\n",
       "46    6160\n",
       "49    6154\n",
       "48    6078\n",
       "47    6069\n",
       "10    5822\n",
       "8     5767\n",
       "6     5740\n",
       "7     5703\n",
       "9     5665\n",
       "5     5392\n",
       "4     5077\n",
       "3     4248\n",
       "2     4026\n",
       "1     1927\n",
       "Name: days_left, dtype: int64"
      ]
     },
     "execution_count": 14,
     "metadata": {},
     "output_type": "execute_result"
    }
   ],
   "source": [
    "df['days_left'].value_counts()"
   ]
  },
  {
   "cell_type": "code",
   "execution_count": 15,
   "id": "2bdbf4a1",
   "metadata": {
    "execution": {
     "iopub.execute_input": "2022-07-29T17:19:31.103778Z",
     "iopub.status.busy": "2022-07-29T17:19:31.103493Z",
     "iopub.status.idle": "2022-07-29T17:19:31.114145Z",
     "shell.execute_reply": "2022-07-29T17:19:31.113245Z"
    },
    "papermill": {
     "duration": 0.048748,
     "end_time": "2022-07-29T17:19:31.116030",
     "exception": false,
     "start_time": "2022-07-29T17:19:31.067282",
     "status": "completed"
    },
    "tags": []
   },
   "outputs": [
    {
     "data": {
      "text/plain": [
       "54608    1445\n",
       "2339     1442\n",
       "54684    1390\n",
       "60978    1383\n",
       "60508    1230\n",
       "         ... \n",
       "12014       1\n",
       "26912       1\n",
       "20145       1\n",
       "25462       1\n",
       "7533        1\n",
       "Name: price, Length: 12157, dtype: int64"
      ]
     },
     "execution_count": 15,
     "metadata": {},
     "output_type": "execute_result"
    }
   ],
   "source": [
    "df['price'].value_counts()"
   ]
  },
  {
   "cell_type": "code",
   "execution_count": 16,
   "id": "d5c4dc72",
   "metadata": {
    "execution": {
     "iopub.execute_input": "2022-07-29T17:19:31.188419Z",
     "iopub.status.busy": "2022-07-29T17:19:31.187654Z",
     "iopub.status.idle": "2022-07-29T17:19:31.413719Z",
     "shell.execute_reply": "2022-07-29T17:19:31.412643Z"
    },
    "papermill": {
     "duration": 0.264255,
     "end_time": "2022-07-29T17:19:31.415892",
     "exception": false,
     "start_time": "2022-07-29T17:19:31.151637",
     "status": "completed"
    },
    "tags": []
   },
   "outputs": [
    {
     "data": {
      "text/plain": [
       "airline             0\n",
       "flight              0\n",
       "source_city         0\n",
       "departure_time      0\n",
       "stops               0\n",
       "arrival_time        0\n",
       "destination_city    0\n",
       "class               0\n",
       "duration            0\n",
       "days_left           0\n",
       "price               0\n",
       "dtype: int64"
      ]
     },
     "execution_count": 16,
     "metadata": {},
     "output_type": "execute_result"
    }
   ],
   "source": [
    "# no nulls\n",
    "df.isnull().sum()"
   ]
  },
  {
   "cell_type": "code",
   "execution_count": 17,
   "id": "80549d2f",
   "metadata": {
    "execution": {
     "iopub.execute_input": "2022-07-29T17:19:31.488788Z",
     "iopub.status.busy": "2022-07-29T17:19:31.487976Z",
     "iopub.status.idle": "2022-07-29T17:19:31.708562Z",
     "shell.execute_reply": "2022-07-29T17:19:31.707474Z"
    },
    "papermill": {
     "duration": 0.258853,
     "end_time": "2022-07-29T17:19:31.710941",
     "exception": false,
     "start_time": "2022-07-29T17:19:31.452088",
     "status": "completed"
    },
    "tags": []
   },
   "outputs": [
    {
     "data": {
      "text/plain": [
       "False"
      ]
     },
     "execution_count": 17,
     "metadata": {},
     "output_type": "execute_result"
    }
   ],
   "source": [
    "df.isnull().values.any()"
   ]
  },
  {
   "cell_type": "code",
   "execution_count": 18,
   "id": "7f55f36d",
   "metadata": {
    "execution": {
     "iopub.execute_input": "2022-07-29T17:19:31.785118Z",
     "iopub.status.busy": "2022-07-29T17:19:31.784524Z",
     "iopub.status.idle": "2022-07-29T17:19:31.811534Z",
     "shell.execute_reply": "2022-07-29T17:19:31.810689Z"
    },
    "papermill": {
     "duration": 0.065993,
     "end_time": "2022-07-29T17:19:31.813496",
     "exception": false,
     "start_time": "2022-07-29T17:19:31.747503",
     "status": "completed"
    },
    "tags": []
   },
   "outputs": [
    {
     "data": {
      "text/html": [
       "<div>\n",
       "<style scoped>\n",
       "    .dataframe tbody tr th:only-of-type {\n",
       "        vertical-align: middle;\n",
       "    }\n",
       "\n",
       "    .dataframe tbody tr th {\n",
       "        vertical-align: top;\n",
       "    }\n",
       "\n",
       "    .dataframe thead th {\n",
       "        text-align: right;\n",
       "    }\n",
       "</style>\n",
       "<table border=\"1\" class=\"dataframe\">\n",
       "  <thead>\n",
       "    <tr style=\"text-align: right;\">\n",
       "      <th></th>\n",
       "      <th>duration</th>\n",
       "      <th>days_left</th>\n",
       "      <th>price</th>\n",
       "    </tr>\n",
       "  </thead>\n",
       "  <tbody>\n",
       "    <tr>\n",
       "      <th>duration</th>\n",
       "      <td>1.000000</td>\n",
       "      <td>-0.039157</td>\n",
       "      <td>0.204222</td>\n",
       "    </tr>\n",
       "    <tr>\n",
       "      <th>days_left</th>\n",
       "      <td>-0.039157</td>\n",
       "      <td>1.000000</td>\n",
       "      <td>-0.091949</td>\n",
       "    </tr>\n",
       "    <tr>\n",
       "      <th>price</th>\n",
       "      <td>0.204222</td>\n",
       "      <td>-0.091949</td>\n",
       "      <td>1.000000</td>\n",
       "    </tr>\n",
       "  </tbody>\n",
       "</table>\n",
       "</div>"
      ],
      "text/plain": [
       "           duration  days_left     price\n",
       "duration   1.000000  -0.039157  0.204222\n",
       "days_left -0.039157   1.000000 -0.091949\n",
       "price      0.204222  -0.091949  1.000000"
      ]
     },
     "execution_count": 18,
     "metadata": {},
     "output_type": "execute_result"
    }
   ],
   "source": [
    "# correlation between numberic columns\n",
    "df.corr()"
   ]
  },
  {
   "cell_type": "code",
   "execution_count": 19,
   "id": "2aa0881f",
   "metadata": {
    "execution": {
     "iopub.execute_input": "2022-07-29T17:19:31.886888Z",
     "iopub.status.busy": "2022-07-29T17:19:31.885427Z",
     "iopub.status.idle": "2022-07-29T17:19:32.118051Z",
     "shell.execute_reply": "2022-07-29T17:19:32.116382Z"
    },
    "papermill": {
     "duration": 0.271061,
     "end_time": "2022-07-29T17:19:32.120055",
     "exception": false,
     "start_time": "2022-07-29T17:19:31.848994",
     "status": "completed"
    },
    "tags": []
   },
   "outputs": [
    {
     "name": "stdout",
     "output_type": "stream",
     "text": [
      "<class 'pandas.core.frame.DataFrame'>\n",
      "RangeIndex: 300153 entries, 0 to 300152\n",
      "Data columns (total 11 columns):\n",
      " #   Column            Non-Null Count   Dtype  \n",
      "---  ------            --------------   -----  \n",
      " 0   airline           300153 non-null  object \n",
      " 1   flight            300153 non-null  object \n",
      " 2   source_city       300153 non-null  object \n",
      " 3   departure_time    300153 non-null  object \n",
      " 4   stops             300153 non-null  object \n",
      " 5   arrival_time      300153 non-null  object \n",
      " 6   destination_city  300153 non-null  object \n",
      " 7   class             300153 non-null  object \n",
      " 8   duration          300153 non-null  float64\n",
      " 9   days_left         300153 non-null  int64  \n",
      " 10  price             300153 non-null  int64  \n",
      "dtypes: float64(1), int64(2), object(8)\n",
      "memory usage: 25.2+ MB\n"
     ]
    }
   ],
   "source": [
    "df.info()"
   ]
  },
  {
   "cell_type": "code",
   "execution_count": 20,
   "id": "9a959e20",
   "metadata": {
    "execution": {
     "iopub.execute_input": "2022-07-29T17:19:32.194430Z",
     "iopub.status.busy": "2022-07-29T17:19:32.193682Z",
     "iopub.status.idle": "2022-07-29T17:19:32.454636Z",
     "shell.execute_reply": "2022-07-29T17:19:32.453750Z"
    },
    "papermill": {
     "duration": 0.300522,
     "end_time": "2022-07-29T17:19:32.457162",
     "exception": false,
     "start_time": "2022-07-29T17:19:32.156640",
     "status": "completed"
    },
    "tags": []
   },
   "outputs": [
    {
     "data": {
      "text/plain": [
       "[Text(0.5, 0, 'airline'), Text(0, 0.5, 'Frequency of airline')]"
      ]
     },
     "execution_count": 20,
     "metadata": {},
     "output_type": "execute_result"
    },
    {
     "data": {
      "image/png": "[encoded data removed]",
      "text/plain": [
       "<Figure size 720x576 with 1 Axes>"
      ]
     },
     "metadata": {
      "needs_background": "light"
     },
     "output_type": "display_data"
    }
   ],
   "source": [
    "# airline companies and flight numbers\n",
    "plt.figure(figsize=(10, 8))\n",
    "plt1 = df.airline.value_counts().plot(kind='bar')\n",
    "plt.title('Airline histogram', fontsize=25)\n",
    "plt1.set(xlabel = 'airline', ylabel='Frequency of airline')"
   ]
  },
  {
   "cell_type": "code",
   "execution_count": 21,
   "id": "2408fb5d",
   "metadata": {
    "execution": {
     "iopub.execute_input": "2022-07-29T17:19:32.531862Z",
     "iopub.status.busy": "2022-07-29T17:19:32.531568Z",
     "iopub.status.idle": "2022-07-29T17:19:32.897463Z",
     "shell.execute_reply": "2022-07-29T17:19:32.896603Z"
    },
    "papermill": {
     "duration": 0.404621,
     "end_time": "2022-07-29T17:19:32.899530",
     "exception": false,
     "start_time": "2022-07-29T17:19:32.494909",
     "status": "completed"
    },
    "tags": []
   },
   "outputs": [
    {
     "data": {
      "image/png": "[encoded data removed]",
      "text/plain": [
       "<Figure size 1440x576 with 2 Axes>"
      ]
     },
     "metadata": {
      "needs_background": "light"
     },
     "output_type": "display_data"
    }
   ],
   "source": [
    "# flight numbers acording to source city\n",
    "plt.figure(figsize=(20,8))\n",
    "plt.subplot(1,2,1)\n",
    "plt.title('Source histogram')\n",
    "plt1 = df['source_city'].value_counts().plot(kind='bar')\n",
    "plt1.set(xlabel = 'Source city', ylabel='Frequency of source city')\n",
    "\n",
    "# flight numbers acording to destination city\n",
    "plt.subplot(1,2,2)\n",
    "plt.title('Destination histogram')\n",
    "plt1 = df['destination_city'].value_counts().plot(kind='bar')\n",
    "plt1.set(xlabel = 'Destination city', ylabel='Frequency of destination city')\n",
    "plt.show()"
   ]
  },
  {
   "cell_type": "code",
   "execution_count": 22,
   "id": "93ad463f",
   "metadata": {
    "execution": {
     "iopub.execute_input": "2022-07-29T17:19:32.977121Z",
     "iopub.status.busy": "2022-07-29T17:19:32.976810Z",
     "iopub.status.idle": "2022-07-29T17:19:33.755619Z",
     "shell.execute_reply": "2022-07-29T17:19:33.754738Z"
    },
    "papermill": {
     "duration": 0.82063,
     "end_time": "2022-07-29T17:19:33.757805",
     "exception": false,
     "start_time": "2022-07-29T17:19:32.937175",
     "status": "completed"
    },
    "tags": []
   },
   "outputs": [
    {
     "data": {
      "image/png": "[encoded data removed]",
      "text/plain": [
       "<Figure size 1440x576 with 2 Axes>"
      ]
     },
     "metadata": {
      "needs_background": "light"
     },
     "output_type": "display_data"
    }
   ],
   "source": [
    "plt.figure(figsize=(20,8))\n",
    "\n",
    "# economy vs business\n",
    "plt.subplot(1,2,1)\n",
    "plt.title('Class Histogram')\n",
    "sns.countplot(df['class'], palette=(\"cubehelix\"))\n",
    "\n",
    "# class vs price\n",
    "plt.subplot(1,2,2)\n",
    "plt.title('Class vs Price')\n",
    "sns.boxplot(x=df['class'], y=df.price, palette=(\"cubehelix\"))\n",
    "\n",
    "plt.show()"
   ]
  },
  {
   "cell_type": "code",
   "execution_count": 23,
   "id": "ccdef2cb",
   "metadata": {
    "execution": {
     "iopub.execute_input": "2022-07-29T17:19:33.832678Z",
     "iopub.status.busy": "2022-07-29T17:19:33.831988Z",
     "iopub.status.idle": "2022-07-29T17:19:33.865605Z",
     "shell.execute_reply": "2022-07-29T17:19:33.864680Z"
    },
    "papermill": {
     "duration": 0.072911,
     "end_time": "2022-07-29T17:19:33.867549",
     "exception": false,
     "start_time": "2022-07-29T17:19:33.794638",
     "status": "completed"
    },
    "tags": []
   },
   "outputs": [
    {
     "data": {
      "text/plain": [
       "airline\n",
       "Vistara      30396.536302\n",
       "Air_India    23507.019112\n",
       "SpiceJet      6179.278881\n",
       "GO_FIRST      5652.007595\n",
       "Indigo        5324.216303\n",
       "AirAsia       4091.072742\n",
       "Name: price, dtype: float64"
      ]
     },
     "execution_count": 23,
     "metadata": {},
     "output_type": "execute_result"
    }
   ],
   "source": [
    "# airlines companies and average ticket prices\n",
    "df.groupby('airline')['price'].mean().sort_values(ascending=False)"
   ]
  },
  {
   "cell_type": "code",
   "execution_count": 24,
   "id": "07265b9d",
   "metadata": {
    "execution": {
     "iopub.execute_input": "2022-07-29T17:19:33.943060Z",
     "iopub.status.busy": "2022-07-29T17:19:33.942351Z",
     "iopub.status.idle": "2022-07-29T17:19:34.767033Z",
     "shell.execute_reply": "2022-07-29T17:19:34.766091Z"
    },
    "papermill": {
     "duration": 0.864508,
     "end_time": "2022-07-29T17:19:34.769024",
     "exception": false,
     "start_time": "2022-07-29T17:19:33.904516",
     "status": "completed"
    },
    "tags": []
   },
   "outputs": [
    {
     "data": {
      "image/png": "[encoded data removed]",
      "text/plain": [
       "<Figure size 1440x576 with 2 Axes>"
      ]
     },
     "metadata": {
      "needs_background": "light"
     },
     "output_type": "display_data"
    }
   ],
   "source": [
    "plt.figure(figsize=(20,8))\n",
    "\n",
    "# airline companies and flight numbers\n",
    "plt.subplot(1,2,1)\n",
    "plt.title('Airline Histogram')\n",
    "sns.countplot(df.airline, palette=(\"Blues_d\"))\n",
    "\n",
    "# airline companies and prices\n",
    "plt.subplot(1,2,2)\n",
    "plt.title('Airline vs Price')\n",
    "sns.boxplot(x=df.airline, y=df.price, palette=(\"PuBuGn\"))\n",
    "\n",
    "plt.show()"
   ]
  },
  {
   "cell_type": "code",
   "execution_count": 25,
   "id": "64568cf9",
   "metadata": {
    "execution": {
     "iopub.execute_input": "2022-07-29T17:19:34.845674Z",
     "iopub.status.busy": "2022-07-29T17:19:34.844786Z",
     "iopub.status.idle": "2022-07-29T17:19:36.256632Z",
     "shell.execute_reply": "2022-07-29T17:19:36.255657Z"
    },
    "papermill": {
     "duration": 1.452516,
     "end_time": "2022-07-29T17:19:36.258811",
     "exception": false,
     "start_time": "2022-07-29T17:19:34.806295",
     "status": "completed"
    },
    "tags": []
   },
   "outputs": [
    {
     "data": {
      "image/png": "[encoded data removed]",
      "text/plain": [
       "<Figure size 1440x576 with 2 Axes>"
      ]
     },
     "metadata": {
      "needs_background": "light"
     },
     "output_type": "display_data"
    }
   ],
   "source": [
    "plt.figure(figsize=(20,8))\n",
    "\n",
    "# price density\n",
    "plt.subplot(1,2,1)\n",
    "plt.title('Flight Price Distribution Plot')\n",
    "sns.distplot(df.price)\n",
    "\n",
    "# price spread\n",
    "plt.subplot(1,2,2)\n",
    "plt.title('Flight Price Spread')\n",
    "sns.boxplot(y=df.price)\n",
    "\n",
    "plt.show()"
   ]
  },
  {
   "cell_type": "code",
   "execution_count": 26,
   "id": "d8b9a0d7",
   "metadata": {
    "execution": {
     "iopub.execute_input": "2022-07-29T17:19:36.336403Z",
     "iopub.status.busy": "2022-07-29T17:19:36.336087Z",
     "iopub.status.idle": "2022-07-29T17:19:36.351684Z",
     "shell.execute_reply": "2022-07-29T17:19:36.350712Z"
    },
    "papermill": {
     "duration": 0.056128,
     "end_time": "2022-07-29T17:19:36.353620",
     "exception": false,
     "start_time": "2022-07-29T17:19:36.297492",
     "status": "completed"
    },
    "tags": []
   },
   "outputs": [
    {
     "data": {
      "text/html": [
       "<div>\n",
       "<style scoped>\n",
       "    .dataframe tbody tr th:only-of-type {\n",
       "        vertical-align: middle;\n",
       "    }\n",
       "\n",
       "    .dataframe tbody tr th {\n",
       "        vertical-align: top;\n",
       "    }\n",
       "\n",
       "    .dataframe thead th {\n",
       "        text-align: right;\n",
       "    }\n",
       "</style>\n",
       "<table border=\"1\" class=\"dataframe\">\n",
       "  <thead>\n",
       "    <tr style=\"text-align: right;\">\n",
       "      <th></th>\n",
       "      <th>airline</th>\n",
       "      <th>flight</th>\n",
       "      <th>source_city</th>\n",
       "      <th>departure_time</th>\n",
       "      <th>stops</th>\n",
       "      <th>arrival_time</th>\n",
       "      <th>destination_city</th>\n",
       "      <th>class</th>\n",
       "      <th>duration</th>\n",
       "      <th>days_left</th>\n",
       "      <th>price</th>\n",
       "    </tr>\n",
       "  </thead>\n",
       "  <tbody>\n",
       "    <tr>\n",
       "      <th>0</th>\n",
       "      <td>SpiceJet</td>\n",
       "      <td>SG-8709</td>\n",
       "      <td>Delhi</td>\n",
       "      <td>Evening</td>\n",
       "      <td>zero</td>\n",
       "      <td>Night</td>\n",
       "      <td>Mumbai</td>\n",
       "      <td>Economy</td>\n",
       "      <td>2.17</td>\n",
       "      <td>1</td>\n",
       "      <td>5953</td>\n",
       "    </tr>\n",
       "    <tr>\n",
       "      <th>1</th>\n",
       "      <td>SpiceJet</td>\n",
       "      <td>SG-8157</td>\n",
       "      <td>Delhi</td>\n",
       "      <td>Early_Morning</td>\n",
       "      <td>zero</td>\n",
       "      <td>Morning</td>\n",
       "      <td>Mumbai</td>\n",
       "      <td>Economy</td>\n",
       "      <td>2.33</td>\n",
       "      <td>1</td>\n",
       "      <td>5953</td>\n",
       "    </tr>\n",
       "    <tr>\n",
       "      <th>2</th>\n",
       "      <td>AirAsia</td>\n",
       "      <td>I5-764</td>\n",
       "      <td>Delhi</td>\n",
       "      <td>Early_Morning</td>\n",
       "      <td>zero</td>\n",
       "      <td>Early_Morning</td>\n",
       "      <td>Mumbai</td>\n",
       "      <td>Economy</td>\n",
       "      <td>2.17</td>\n",
       "      <td>1</td>\n",
       "      <td>5956</td>\n",
       "    </tr>\n",
       "    <tr>\n",
       "      <th>3</th>\n",
       "      <td>Vistara</td>\n",
       "      <td>UK-995</td>\n",
       "      <td>Delhi</td>\n",
       "      <td>Morning</td>\n",
       "      <td>zero</td>\n",
       "      <td>Afternoon</td>\n",
       "      <td>Mumbai</td>\n",
       "      <td>Economy</td>\n",
       "      <td>2.25</td>\n",
       "      <td>1</td>\n",
       "      <td>5955</td>\n",
       "    </tr>\n",
       "    <tr>\n",
       "      <th>4</th>\n",
       "      <td>Vistara</td>\n",
       "      <td>UK-963</td>\n",
       "      <td>Delhi</td>\n",
       "      <td>Morning</td>\n",
       "      <td>zero</td>\n",
       "      <td>Morning</td>\n",
       "      <td>Mumbai</td>\n",
       "      <td>Economy</td>\n",
       "      <td>2.33</td>\n",
       "      <td>1</td>\n",
       "      <td>5955</td>\n",
       "    </tr>\n",
       "  </tbody>\n",
       "</table>\n",
       "</div>"
      ],
      "text/plain": [
       "    airline   flight source_city departure_time stops   arrival_time  \\\n",
       "0  SpiceJet  SG-8709       Delhi        Evening  zero          Night   \n",
       "1  SpiceJet  SG-8157       Delhi  Early_Morning  zero        Morning   \n",
       "2   AirAsia   I5-764       Delhi  Early_Morning  zero  Early_Morning   \n",
       "3   Vistara   UK-995       Delhi        Morning  zero      Afternoon   \n",
       "4   Vistara   UK-963       Delhi        Morning  zero        Morning   \n",
       "\n",
       "  destination_city    class  duration  days_left  price  \n",
       "0           Mumbai  Economy      2.17          1   5953  \n",
       "1           Mumbai  Economy      2.33          1   5953  \n",
       "2           Mumbai  Economy      2.17          1   5956  \n",
       "3           Mumbai  Economy      2.25          1   5955  \n",
       "4           Mumbai  Economy      2.33          1   5955  "
      ]
     },
     "execution_count": 26,
     "metadata": {},
     "output_type": "execute_result"
    }
   ],
   "source": [
    "df.head()"
   ]
  },
  {
   "cell_type": "code",
   "execution_count": 27,
   "id": "06d364ef",
   "metadata": {
    "execution": {
     "iopub.execute_input": "2022-07-29T17:19:36.432192Z",
     "iopub.status.busy": "2022-07-29T17:19:36.431314Z",
     "iopub.status.idle": "2022-07-29T17:20:15.082687Z",
     "shell.execute_reply": "2022-07-29T17:20:15.081640Z"
    },
    "papermill": {
     "duration": 38.693262,
     "end_time": "2022-07-29T17:20:15.085074",
     "exception": false,
     "start_time": "2022-07-29T17:19:36.391812",
     "status": "completed"
    },
    "tags": []
   },
   "outputs": [
    {
     "data": {
      "text/plain": [
       "<seaborn.axisgrid.JointGrid at 0x7fc681169410>"
      ]
     },
     "execution_count": 27,
     "metadata": {},
     "output_type": "execute_result"
    },
    {
     "data": {
      "image/png": "[encoded data removed]",
      "text/plain": [
       "<Figure size 432x432 with 3 Axes>"
      ]
     },
     "metadata": {
      "needs_background": "light"
     },
     "output_type": "display_data"
    }
   ],
   "source": [
    "# days left vs price\n",
    "sns.jointplot(x = \"days_left\", y = \"price\", data = df, kind = \"reg\")\n",
    "# sns.jointplot(x = \"days_left\", y = \"price\", data = df.iloc[:500], kind = \"reg\") # get a readable graph"
   ]
  },
  {
   "cell_type": "markdown",
   "id": "a9b3fb93",
   "metadata": {
    "papermill": {
     "duration": 0.038607,
     "end_time": "2022-07-29T17:20:15.164803",
     "exception": false,
     "start_time": "2022-07-29T17:20:15.126196",
     "status": "completed"
    },
    "tags": []
   },
   "source": [
    "# Simple Linear Regression"
   ]
  },
  {
   "cell_type": "markdown",
   "id": "ade488e7",
   "metadata": {
    "papermill": {
     "duration": 0.045739,
     "end_time": "2022-07-29T17:20:15.249688",
     "exception": false,
     "start_time": "2022-07-29T17:20:15.203949",
     "status": "completed"
    },
    "tags": []
   },
   "source": [
    "### Model"
   ]
  },
  {
   "cell_type": "code",
   "execution_count": 28,
   "id": "8815d22c",
   "metadata": {
    "execution": {
     "iopub.execute_input": "2022-07-29T17:20:15.329935Z",
     "iopub.status.busy": "2022-07-29T17:20:15.329555Z",
     "iopub.status.idle": "2022-07-29T17:20:15.644375Z",
     "shell.execute_reply": "2022-07-29T17:20:15.643406Z"
    },
    "papermill": {
     "duration": 0.356766,
     "end_time": "2022-07-29T17:20:15.646837",
     "exception": false,
     "start_time": "2022-07-29T17:20:15.290071",
     "status": "completed"
    },
    "tags": []
   },
   "outputs": [],
   "source": [
    "from sklearn.linear_model import LinearRegression"
   ]
  },
  {
   "cell_type": "code",
   "execution_count": 29,
   "id": "5d53fff2",
   "metadata": {
    "execution": {
     "iopub.execute_input": "2022-07-29T17:20:15.726753Z",
     "iopub.status.busy": "2022-07-29T17:20:15.726384Z",
     "iopub.status.idle": "2022-07-29T17:20:15.749173Z",
     "shell.execute_reply": "2022-07-29T17:20:15.748253Z"
    },
    "papermill": {
     "duration": 0.065042,
     "end_time": "2022-07-29T17:20:15.751448",
     "exception": false,
     "start_time": "2022-07-29T17:20:15.686406",
     "status": "completed"
    },
    "tags": []
   },
   "outputs": [],
   "source": [
    "# model training\n",
    "X = df[[\"days_left\"]]\n",
    "y = df[\"price\"]\n",
    "reg = LinearRegression()\n",
    "model = reg.fit(X, y)"
   ]
  },
  {
   "cell_type": "code",
   "execution_count": 30,
   "id": "19e55ae0",
   "metadata": {
    "execution": {
     "iopub.execute_input": "2022-07-29T17:20:15.833112Z",
     "iopub.status.busy": "2022-07-29T17:20:15.832222Z",
     "iopub.status.idle": "2022-07-29T17:20:15.842540Z",
     "shell.execute_reply": "2022-07-29T17:20:15.841519Z"
    },
    "papermill": {
     "duration": 0.052681,
     "end_time": "2022-07-29T17:20:15.844514",
     "exception": false,
     "start_time": "2022-07-29T17:20:15.791833",
     "status": "completed"
    },
    "tags": []
   },
   "outputs": [
    {
     "data": {
      "text/html": [
       "<div>\n",
       "<style scoped>\n",
       "    .dataframe tbody tr th:only-of-type {\n",
       "        vertical-align: middle;\n",
       "    }\n",
       "\n",
       "    .dataframe tbody tr th {\n",
       "        vertical-align: top;\n",
       "    }\n",
       "\n",
       "    .dataframe thead th {\n",
       "        text-align: right;\n",
       "    }\n",
       "</style>\n",
       "<table border=\"1\" class=\"dataframe\">\n",
       "  <thead>\n",
       "    <tr style=\"text-align: right;\">\n",
       "      <th></th>\n",
       "      <th>days_left</th>\n",
       "    </tr>\n",
       "  </thead>\n",
       "  <tbody>\n",
       "    <tr>\n",
       "      <th>0</th>\n",
       "      <td>1</td>\n",
       "    </tr>\n",
       "    <tr>\n",
       "      <th>1</th>\n",
       "      <td>1</td>\n",
       "    </tr>\n",
       "    <tr>\n",
       "      <th>2</th>\n",
       "      <td>1</td>\n",
       "    </tr>\n",
       "    <tr>\n",
       "      <th>3</th>\n",
       "      <td>1</td>\n",
       "    </tr>\n",
       "    <tr>\n",
       "      <th>4</th>\n",
       "      <td>1</td>\n",
       "    </tr>\n",
       "    <tr>\n",
       "      <th>...</th>\n",
       "      <td>...</td>\n",
       "    </tr>\n",
       "    <tr>\n",
       "      <th>300148</th>\n",
       "      <td>49</td>\n",
       "    </tr>\n",
       "    <tr>\n",
       "      <th>300149</th>\n",
       "      <td>49</td>\n",
       "    </tr>\n",
       "    <tr>\n",
       "      <th>300150</th>\n",
       "      <td>49</td>\n",
       "    </tr>\n",
       "    <tr>\n",
       "      <th>300151</th>\n",
       "      <td>49</td>\n",
       "    </tr>\n",
       "    <tr>\n",
       "      <th>300152</th>\n",
       "      <td>49</td>\n",
       "    </tr>\n",
       "  </tbody>\n",
       "</table>\n",
       "<p>300153 rows × 1 columns</p>\n",
       "</div>"
      ],
      "text/plain": [
       "        days_left\n",
       "0               1\n",
       "1               1\n",
       "2               1\n",
       "3               1\n",
       "4               1\n",
       "...           ...\n",
       "300148         49\n",
       "300149         49\n",
       "300150         49\n",
       "300151         49\n",
       "300152         49\n",
       "\n",
       "[300153 rows x 1 columns]"
      ]
     },
     "execution_count": 30,
     "metadata": {},
     "output_type": "execute_result"
    }
   ],
   "source": [
    "X"
   ]
  },
  {
   "cell_type": "code",
   "execution_count": 31,
   "id": "425184e0",
   "metadata": {
    "execution": {
     "iopub.execute_input": "2022-07-29T17:20:15.924850Z",
     "iopub.status.busy": "2022-07-29T17:20:15.924539Z",
     "iopub.status.idle": "2022-07-29T17:20:15.932087Z",
     "shell.execute_reply": "2022-07-29T17:20:15.931168Z"
    },
    "papermill": {
     "duration": 0.050303,
     "end_time": "2022-07-29T17:20:15.934064",
     "exception": false,
     "start_time": "2022-07-29T17:20:15.883761",
     "status": "completed"
    },
    "tags": []
   },
   "outputs": [
    {
     "data": {
      "text/plain": [
       "0          5953\n",
       "1          5953\n",
       "2          5956\n",
       "3          5955\n",
       "4          5955\n",
       "          ...  \n",
       "300148    69265\n",
       "300149    77105\n",
       "300150    79099\n",
       "300151    81585\n",
       "300152    81585\n",
       "Name: price, Length: 300153, dtype: int64"
      ]
     },
     "execution_count": 31,
     "metadata": {},
     "output_type": "execute_result"
    }
   ],
   "source": [
    "y"
   ]
  },
  {
   "cell_type": "code",
   "execution_count": 32,
   "id": "0fdd6999",
   "metadata": {
    "execution": {
     "iopub.execute_input": "2022-07-29T17:20:16.015919Z",
     "iopub.status.busy": "2022-07-29T17:20:16.015439Z",
     "iopub.status.idle": "2022-07-29T17:20:16.022686Z",
     "shell.execute_reply": "2022-07-29T17:20:16.021763Z"
    },
    "papermill": {
     "duration": 0.049814,
     "end_time": "2022-07-29T17:20:16.024677",
     "exception": false,
     "start_time": "2022-07-29T17:20:15.974863",
     "status": "completed"
    },
    "tags": []
   },
   "outputs": [
    {
     "data": {
      "text/plain": [
       "24891.76853390277"
      ]
     },
     "execution_count": 32,
     "metadata": {},
     "output_type": "execute_result"
    }
   ],
   "source": [
    "# when x=0 y's value\n",
    "model.intercept_"
   ]
  },
  {
   "cell_type": "code",
   "execution_count": 33,
   "id": "b7478529",
   "metadata": {
    "execution": {
     "iopub.execute_input": "2022-07-29T17:20:16.104748Z",
     "iopub.status.busy": "2022-07-29T17:20:16.103988Z",
     "iopub.status.idle": "2022-07-29T17:20:16.110280Z",
     "shell.execute_reply": "2022-07-29T17:20:16.109378Z"
    },
    "papermill": {
     "duration": 0.048233,
     "end_time": "2022-07-29T17:20:16.112165",
     "exception": false,
     "start_time": "2022-07-29T17:20:16.063932",
     "status": "completed"
    },
    "tags": []
   },
   "outputs": [
    {
     "data": {
      "text/plain": [
       "array([-153.89910961])"
      ]
     },
     "execution_count": 33,
     "metadata": {},
     "output_type": "execute_result"
    }
   ],
   "source": [
    "# coefficients of x\n",
    "model.coef_"
   ]
  },
  {
   "cell_type": "code",
   "execution_count": 34,
   "id": "156bbe4a",
   "metadata": {
    "execution": {
     "iopub.execute_input": "2022-07-29T17:20:16.193344Z",
     "iopub.status.busy": "2022-07-29T17:20:16.193023Z",
     "iopub.status.idle": "2022-07-29T17:20:16.205615Z",
     "shell.execute_reply": "2022-07-29T17:20:16.204608Z"
    },
    "papermill": {
     "duration": 0.054982,
     "end_time": "2022-07-29T17:20:16.207583",
     "exception": false,
     "start_time": "2022-07-29T17:20:16.152601",
     "status": "completed"
    },
    "tags": []
   },
   "outputs": [
    {
     "data": {
      "text/plain": [
       "0.008454532568481943"
      ]
     },
     "execution_count": 34,
     "metadata": {},
     "output_type": "execute_result"
    }
   ],
   "source": [
    "model.score(X,y)"
   ]
  },
  {
   "cell_type": "code",
   "execution_count": 35,
   "id": "32445ec8",
   "metadata": {
    "execution": {
     "iopub.execute_input": "2022-07-29T17:20:16.287425Z",
     "iopub.status.busy": "2022-07-29T17:20:16.287155Z",
     "iopub.status.idle": "2022-07-29T17:20:16.350556Z",
     "shell.execute_reply": "2022-07-29T17:20:16.349718Z"
    },
    "papermill": {
     "duration": 0.105272,
     "end_time": "2022-07-29T17:20:16.352611",
     "exception": false,
     "start_time": "2022-07-29T17:20:16.247339",
     "status": "completed"
    },
    "tags": []
   },
   "outputs": [
    {
     "data": {
      "text/html": [
       "<div>\n",
       "<style scoped>\n",
       "    .dataframe tbody tr th:only-of-type {\n",
       "        vertical-align: middle;\n",
       "    }\n",
       "\n",
       "    .dataframe tbody tr th {\n",
       "        vertical-align: top;\n",
       "    }\n",
       "\n",
       "    .dataframe thead th {\n",
       "        text-align: right;\n",
       "    }\n",
       "</style>\n",
       "<table border=\"1\" class=\"dataframe\">\n",
       "  <thead>\n",
       "    <tr style=\"text-align: right;\">\n",
       "      <th></th>\n",
       "      <th>gercek_y</th>\n",
       "      <th>tahmin_y</th>\n",
       "    </tr>\n",
       "  </thead>\n",
       "  <tbody>\n",
       "    <tr>\n",
       "      <th>0</th>\n",
       "      <td>19699.98339</td>\n",
       "      <td>21813.786342</td>\n",
       "    </tr>\n",
       "  </tbody>\n",
       "</table>\n",
       "</div>"
      ],
      "text/plain": [
       "      gercek_y      tahmin_y\n",
       "0  19699.98339  21813.786342"
      ]
     },
     "execution_count": 35,
     "metadata": {},
     "output_type": "execute_result"
    }
   ],
   "source": [
    "# days left 20 prices mean and prediction\n",
    "c_t = pd.DataFrame({\"gercek_y\": df.loc[df[\"days_left\"] == 20].mean()[2],\n",
    "                   \"tahmin_y\": reg.predict([[20]])})\n",
    "c_t"
   ]
  },
  {
   "cell_type": "code",
   "execution_count": 36,
   "id": "7325ab37",
   "metadata": {
    "execution": {
     "iopub.execute_input": "2022-07-29T17:20:16.433989Z",
     "iopub.status.busy": "2022-07-29T17:20:16.433617Z",
     "iopub.status.idle": "2022-07-29T17:20:16.447477Z",
     "shell.execute_reply": "2022-07-29T17:20:16.446219Z"
    },
    "papermill": {
     "duration": 0.057393,
     "end_time": "2022-07-29T17:20:16.450203",
     "exception": false,
     "start_time": "2022-07-29T17:20:16.392810",
     "status": "completed"
    },
    "tags": []
   },
   "outputs": [
    {
     "data": {
      "text/html": [
       "<div>\n",
       "<style scoped>\n",
       "    .dataframe tbody tr th:only-of-type {\n",
       "        vertical-align: middle;\n",
       "    }\n",
       "\n",
       "    .dataframe tbody tr th {\n",
       "        vertical-align: top;\n",
       "    }\n",
       "\n",
       "    .dataframe thead th {\n",
       "        text-align: right;\n",
       "    }\n",
       "</style>\n",
       "<table border=\"1\" class=\"dataframe\">\n",
       "  <thead>\n",
       "    <tr style=\"text-align: right;\">\n",
       "      <th></th>\n",
       "      <th>gercek_y</th>\n",
       "      <th>tahmin_y</th>\n",
       "    </tr>\n",
       "  </thead>\n",
       "  <tbody>\n",
       "    <tr>\n",
       "      <th>0</th>\n",
       "      <td>5953</td>\n",
       "      <td>24737.869424</td>\n",
       "    </tr>\n",
       "    <tr>\n",
       "      <th>1</th>\n",
       "      <td>5953</td>\n",
       "      <td>24737.869424</td>\n",
       "    </tr>\n",
       "    <tr>\n",
       "      <th>2</th>\n",
       "      <td>5956</td>\n",
       "      <td>24737.869424</td>\n",
       "    </tr>\n",
       "    <tr>\n",
       "      <th>3</th>\n",
       "      <td>5955</td>\n",
       "      <td>24737.869424</td>\n",
       "    </tr>\n",
       "    <tr>\n",
       "      <th>4</th>\n",
       "      <td>5955</td>\n",
       "      <td>24737.869424</td>\n",
       "    </tr>\n",
       "  </tbody>\n",
       "</table>\n",
       "</div>"
      ],
      "text/plain": [
       "   gercek_y      tahmin_y\n",
       "0      5953  24737.869424\n",
       "1      5953  24737.869424\n",
       "2      5956  24737.869424\n",
       "3      5955  24737.869424\n",
       "4      5955  24737.869424"
      ]
     },
     "execution_count": 36,
     "metadata": {},
     "output_type": "execute_result"
    }
   ],
   "source": [
    "# real values and predicted values for first five\n",
    "k_t = pd.DataFrame({\"gercek_y\": y[0:5],\n",
    "                   \"tahmin_y\": reg.predict(X)[0:5]})\n",
    "k_t"
   ]
  },
  {
   "cell_type": "markdown",
   "id": "46bed6bc",
   "metadata": {
    "papermill": {
     "duration": 0.039796,
     "end_time": "2022-07-29T17:20:16.529765",
     "exception": false,
     "start_time": "2022-07-29T17:20:16.489969",
     "status": "completed"
    },
    "tags": []
   },
   "source": [
    "### Hata Tespiti"
   ]
  },
  {
   "cell_type": "code",
   "execution_count": 37,
   "id": "cfd907cf",
   "metadata": {
    "execution": {
     "iopub.execute_input": "2022-07-29T17:20:16.610957Z",
     "iopub.status.busy": "2022-07-29T17:20:16.610387Z",
     "iopub.status.idle": "2022-07-29T17:20:16.615098Z",
     "shell.execute_reply": "2022-07-29T17:20:16.614034Z"
    },
    "papermill": {
     "duration": 0.047885,
     "end_time": "2022-07-29T17:20:16.617323",
     "exception": false,
     "start_time": "2022-07-29T17:20:16.569438",
     "status": "completed"
    },
    "tags": []
   },
   "outputs": [],
   "source": [
    "from sklearn.metrics import mean_squared_error, r2_score"
   ]
  },
  {
   "cell_type": "code",
   "execution_count": 38,
   "id": "67f8876f",
   "metadata": {
    "execution": {
     "iopub.execute_input": "2022-07-29T17:20:16.698223Z",
     "iopub.status.busy": "2022-07-29T17:20:16.697657Z",
     "iopub.status.idle": "2022-07-29T17:20:16.707888Z",
     "shell.execute_reply": "2022-07-29T17:20:16.706893Z"
    },
    "papermill": {
     "duration": 0.053531,
     "end_time": "2022-07-29T17:20:16.710276",
     "exception": false,
     "start_time": "2022-07-29T17:20:16.656745",
     "status": "completed"
    },
    "tags": []
   },
   "outputs": [
    {
     "data": {
      "text/html": [
       "<div>\n",
       "<style scoped>\n",
       "    .dataframe tbody tr th:only-of-type {\n",
       "        vertical-align: middle;\n",
       "    }\n",
       "\n",
       "    .dataframe tbody tr th {\n",
       "        vertical-align: top;\n",
       "    }\n",
       "\n",
       "    .dataframe thead th {\n",
       "        text-align: right;\n",
       "    }\n",
       "</style>\n",
       "<table border=\"1\" class=\"dataframe\">\n",
       "  <thead>\n",
       "    <tr style=\"text-align: right;\">\n",
       "      <th></th>\n",
       "      <th>gercek_y</th>\n",
       "      <th>tahmin_y</th>\n",
       "      <th>hata</th>\n",
       "    </tr>\n",
       "  </thead>\n",
       "  <tbody>\n",
       "    <tr>\n",
       "      <th>0</th>\n",
       "      <td>5953</td>\n",
       "      <td>24737.869424</td>\n",
       "      <td>-18784.869424</td>\n",
       "    </tr>\n",
       "    <tr>\n",
       "      <th>1</th>\n",
       "      <td>5953</td>\n",
       "      <td>24737.869424</td>\n",
       "      <td>-18784.869424</td>\n",
       "    </tr>\n",
       "    <tr>\n",
       "      <th>2</th>\n",
       "      <td>5956</td>\n",
       "      <td>24737.869424</td>\n",
       "      <td>-18781.869424</td>\n",
       "    </tr>\n",
       "    <tr>\n",
       "      <th>3</th>\n",
       "      <td>5955</td>\n",
       "      <td>24737.869424</td>\n",
       "      <td>-18782.869424</td>\n",
       "    </tr>\n",
       "    <tr>\n",
       "      <th>4</th>\n",
       "      <td>5955</td>\n",
       "      <td>24737.869424</td>\n",
       "      <td>-18782.869424</td>\n",
       "    </tr>\n",
       "  </tbody>\n",
       "</table>\n",
       "</div>"
      ],
      "text/plain": [
       "   gercek_y      tahmin_y          hata\n",
       "0      5953  24737.869424 -18784.869424\n",
       "1      5953  24737.869424 -18784.869424\n",
       "2      5956  24737.869424 -18781.869424\n",
       "3      5955  24737.869424 -18782.869424\n",
       "4      5955  24737.869424 -18782.869424"
      ]
     },
     "execution_count": 38,
     "metadata": {},
     "output_type": "execute_result"
    }
   ],
   "source": [
    "k_t['hata'] = k_t['gercek_y'] - k_t['tahmin_y']\n",
    "k_t"
   ]
  },
  {
   "cell_type": "code",
   "execution_count": 39,
   "id": "2c610481",
   "metadata": {
    "execution": {
     "iopub.execute_input": "2022-07-29T17:20:16.792136Z",
     "iopub.status.busy": "2022-07-29T17:20:16.791247Z",
     "iopub.status.idle": "2022-07-29T17:20:16.802591Z",
     "shell.execute_reply": "2022-07-29T17:20:16.801603Z"
    },
    "papermill": {
     "duration": 0.054636,
     "end_time": "2022-07-29T17:20:16.804545",
     "exception": false,
     "start_time": "2022-07-29T17:20:16.749909",
     "status": "completed"
    },
    "tags": []
   },
   "outputs": [
    {
     "data": {
      "text/html": [
       "<div>\n",
       "<style scoped>\n",
       "    .dataframe tbody tr th:only-of-type {\n",
       "        vertical-align: middle;\n",
       "    }\n",
       "\n",
       "    .dataframe tbody tr th {\n",
       "        vertical-align: top;\n",
       "    }\n",
       "\n",
       "    .dataframe thead th {\n",
       "        text-align: right;\n",
       "    }\n",
       "</style>\n",
       "<table border=\"1\" class=\"dataframe\">\n",
       "  <thead>\n",
       "    <tr style=\"text-align: right;\">\n",
       "      <th></th>\n",
       "      <th>gercek_y</th>\n",
       "      <th>tahmin_y</th>\n",
       "      <th>hata</th>\n",
       "      <th>hata_kare</th>\n",
       "    </tr>\n",
       "  </thead>\n",
       "  <tbody>\n",
       "    <tr>\n",
       "      <th>0</th>\n",
       "      <td>5953</td>\n",
       "      <td>24737.869424</td>\n",
       "      <td>-18784.869424</td>\n",
       "      <td>3.528713e+08</td>\n",
       "    </tr>\n",
       "    <tr>\n",
       "      <th>1</th>\n",
       "      <td>5953</td>\n",
       "      <td>24737.869424</td>\n",
       "      <td>-18784.869424</td>\n",
       "      <td>3.528713e+08</td>\n",
       "    </tr>\n",
       "    <tr>\n",
       "      <th>2</th>\n",
       "      <td>5956</td>\n",
       "      <td>24737.869424</td>\n",
       "      <td>-18781.869424</td>\n",
       "      <td>3.527586e+08</td>\n",
       "    </tr>\n",
       "    <tr>\n",
       "      <th>3</th>\n",
       "      <td>5955</td>\n",
       "      <td>24737.869424</td>\n",
       "      <td>-18782.869424</td>\n",
       "      <td>3.527962e+08</td>\n",
       "    </tr>\n",
       "    <tr>\n",
       "      <th>4</th>\n",
       "      <td>5955</td>\n",
       "      <td>24737.869424</td>\n",
       "      <td>-18782.869424</td>\n",
       "      <td>3.527962e+08</td>\n",
       "    </tr>\n",
       "  </tbody>\n",
       "</table>\n",
       "</div>"
      ],
      "text/plain": [
       "   gercek_y      tahmin_y          hata     hata_kare\n",
       "0      5953  24737.869424 -18784.869424  3.528713e+08\n",
       "1      5953  24737.869424 -18784.869424  3.528713e+08\n",
       "2      5956  24737.869424 -18781.869424  3.527586e+08\n",
       "3      5955  24737.869424 -18782.869424  3.527962e+08\n",
       "4      5955  24737.869424 -18782.869424  3.527962e+08"
      ]
     },
     "execution_count": 39,
     "metadata": {},
     "output_type": "execute_result"
    }
   ],
   "source": [
    "# new column for square of error\n",
    "k_t['hata_kare'] = k_t['hata']**2\n",
    "k_t"
   ]
  },
  {
   "cell_type": "code",
   "execution_count": 40,
   "id": "0d7ec4ac",
   "metadata": {
    "execution": {
     "iopub.execute_input": "2022-07-29T17:20:16.886533Z",
     "iopub.status.busy": "2022-07-29T17:20:16.885766Z",
     "iopub.status.idle": "2022-07-29T17:20:16.892808Z",
     "shell.execute_reply": "2022-07-29T17:20:16.891857Z"
    },
    "papermill": {
     "duration": 0.049539,
     "end_time": "2022-07-29T17:20:16.894677",
     "exception": false,
     "start_time": "2022-07-29T17:20:16.845138",
     "status": "completed"
    },
    "tags": []
   },
   "outputs": [
    {
     "data": {
      "text/plain": [
       "1764093625.2664616"
      ]
     },
     "execution_count": 40,
     "metadata": {},
     "output_type": "execute_result"
    }
   ],
   "source": [
    "np.sum(k_t['hata_kare'])"
   ]
  },
  {
   "cell_type": "code",
   "execution_count": 41,
   "id": "eaacd314",
   "metadata": {
    "execution": {
     "iopub.execute_input": "2022-07-29T17:20:16.975319Z",
     "iopub.status.busy": "2022-07-29T17:20:16.974713Z",
     "iopub.status.idle": "2022-07-29T17:20:16.981397Z",
     "shell.execute_reply": "2022-07-29T17:20:16.980419Z"
    },
    "papermill": {
     "duration": 0.049319,
     "end_time": "2022-07-29T17:20:16.983326",
     "exception": false,
     "start_time": "2022-07-29T17:20:16.934007",
     "status": "completed"
    },
    "tags": []
   },
   "outputs": [
    {
     "data": {
      "text/plain": [
       "352818725.05329233"
      ]
     },
     "execution_count": 41,
     "metadata": {},
     "output_type": "execute_result"
    }
   ],
   "source": [
    "np.mean(k_t['hata_kare'])"
   ]
  },
  {
   "cell_type": "code",
   "execution_count": 42,
   "id": "209d607c",
   "metadata": {
    "execution": {
     "iopub.execute_input": "2022-07-29T17:20:17.066608Z",
     "iopub.status.busy": "2022-07-29T17:20:17.066329Z",
     "iopub.status.idle": "2022-07-29T17:20:17.072592Z",
     "shell.execute_reply": "2022-07-29T17:20:17.071676Z"
    },
    "papermill": {
     "duration": 0.050365,
     "end_time": "2022-07-29T17:20:17.074769",
     "exception": false,
     "start_time": "2022-07-29T17:20:17.024404",
     "status": "completed"
    },
    "tags": []
   },
   "outputs": [
    {
     "data": {
      "text/plain": [
       "18783.46946262304"
      ]
     },
     "execution_count": 42,
     "metadata": {},
     "output_type": "execute_result"
    }
   ],
   "source": [
    "np.sqrt(np.mean(k_t['hata_kare']))"
   ]
  },
  {
   "cell_type": "markdown",
   "id": "3c100fdc",
   "metadata": {
    "papermill": {
     "duration": 0.067478,
     "end_time": "2022-07-29T17:20:17.183373",
     "exception": false,
     "start_time": "2022-07-29T17:20:17.115895",
     "status": "completed"
    },
    "tags": []
   },
   "source": [
    "# Multiple Linear Regression"
   ]
  },
  {
   "cell_type": "code",
   "execution_count": 43,
   "id": "cd520e9c",
   "metadata": {
    "execution": {
     "iopub.execute_input": "2022-07-29T17:20:17.319539Z",
     "iopub.status.busy": "2022-07-29T17:20:17.319120Z",
     "iopub.status.idle": "2022-07-29T17:20:17.334357Z",
     "shell.execute_reply": "2022-07-29T17:20:17.333362Z"
    },
    "papermill": {
     "duration": 0.10686,
     "end_time": "2022-07-29T17:20:17.336384",
     "exception": false,
     "start_time": "2022-07-29T17:20:17.229524",
     "status": "completed"
    },
    "tags": []
   },
   "outputs": [
    {
     "data": {
      "text/html": [
       "<div>\n",
       "<style scoped>\n",
       "    .dataframe tbody tr th:only-of-type {\n",
       "        vertical-align: middle;\n",
       "    }\n",
       "\n",
       "    .dataframe tbody tr th {\n",
       "        vertical-align: top;\n",
       "    }\n",
       "\n",
       "    .dataframe thead th {\n",
       "        text-align: right;\n",
       "    }\n",
       "</style>\n",
       "<table border=\"1\" class=\"dataframe\">\n",
       "  <thead>\n",
       "    <tr style=\"text-align: right;\">\n",
       "      <th></th>\n",
       "      <th>airline</th>\n",
       "      <th>flight</th>\n",
       "      <th>source_city</th>\n",
       "      <th>departure_time</th>\n",
       "      <th>stops</th>\n",
       "      <th>arrival_time</th>\n",
       "      <th>destination_city</th>\n",
       "      <th>class</th>\n",
       "      <th>duration</th>\n",
       "      <th>days_left</th>\n",
       "      <th>price</th>\n",
       "    </tr>\n",
       "  </thead>\n",
       "  <tbody>\n",
       "    <tr>\n",
       "      <th>0</th>\n",
       "      <td>SpiceJet</td>\n",
       "      <td>SG-8709</td>\n",
       "      <td>Delhi</td>\n",
       "      <td>Evening</td>\n",
       "      <td>zero</td>\n",
       "      <td>Night</td>\n",
       "      <td>Mumbai</td>\n",
       "      <td>Economy</td>\n",
       "      <td>2.17</td>\n",
       "      <td>1</td>\n",
       "      <td>5953</td>\n",
       "    </tr>\n",
       "    <tr>\n",
       "      <th>1</th>\n",
       "      <td>SpiceJet</td>\n",
       "      <td>SG-8157</td>\n",
       "      <td>Delhi</td>\n",
       "      <td>Early_Morning</td>\n",
       "      <td>zero</td>\n",
       "      <td>Morning</td>\n",
       "      <td>Mumbai</td>\n",
       "      <td>Economy</td>\n",
       "      <td>2.33</td>\n",
       "      <td>1</td>\n",
       "      <td>5953</td>\n",
       "    </tr>\n",
       "    <tr>\n",
       "      <th>2</th>\n",
       "      <td>AirAsia</td>\n",
       "      <td>I5-764</td>\n",
       "      <td>Delhi</td>\n",
       "      <td>Early_Morning</td>\n",
       "      <td>zero</td>\n",
       "      <td>Early_Morning</td>\n",
       "      <td>Mumbai</td>\n",
       "      <td>Economy</td>\n",
       "      <td>2.17</td>\n",
       "      <td>1</td>\n",
       "      <td>5956</td>\n",
       "    </tr>\n",
       "    <tr>\n",
       "      <th>3</th>\n",
       "      <td>Vistara</td>\n",
       "      <td>UK-995</td>\n",
       "      <td>Delhi</td>\n",
       "      <td>Morning</td>\n",
       "      <td>zero</td>\n",
       "      <td>Afternoon</td>\n",
       "      <td>Mumbai</td>\n",
       "      <td>Economy</td>\n",
       "      <td>2.25</td>\n",
       "      <td>1</td>\n",
       "      <td>5955</td>\n",
       "    </tr>\n",
       "    <tr>\n",
       "      <th>4</th>\n",
       "      <td>Vistara</td>\n",
       "      <td>UK-963</td>\n",
       "      <td>Delhi</td>\n",
       "      <td>Morning</td>\n",
       "      <td>zero</td>\n",
       "      <td>Morning</td>\n",
       "      <td>Mumbai</td>\n",
       "      <td>Economy</td>\n",
       "      <td>2.33</td>\n",
       "      <td>1</td>\n",
       "      <td>5955</td>\n",
       "    </tr>\n",
       "  </tbody>\n",
       "</table>\n",
       "</div>"
      ],
      "text/plain": [
       "    airline   flight source_city departure_time stops   arrival_time  \\\n",
       "0  SpiceJet  SG-8709       Delhi        Evening  zero          Night   \n",
       "1  SpiceJet  SG-8157       Delhi  Early_Morning  zero        Morning   \n",
       "2   AirAsia   I5-764       Delhi  Early_Morning  zero  Early_Morning   \n",
       "3   Vistara   UK-995       Delhi        Morning  zero      Afternoon   \n",
       "4   Vistara   UK-963       Delhi        Morning  zero        Morning   \n",
       "\n",
       "  destination_city    class  duration  days_left  price  \n",
       "0           Mumbai  Economy      2.17          1   5953  \n",
       "1           Mumbai  Economy      2.33          1   5953  \n",
       "2           Mumbai  Economy      2.17          1   5956  \n",
       "3           Mumbai  Economy      2.25          1   5955  \n",
       "4           Mumbai  Economy      2.33          1   5955  "
      ]
     },
     "execution_count": 43,
     "metadata": {},
     "output_type": "execute_result"
    }
   ],
   "source": [
    "from sklearn.model_selection import train_test_split, cross_val_score, cross_val_predict\n",
    "df.head()"
   ]
  },
  {
   "cell_type": "code",
   "execution_count": 44,
   "id": "5db7dff9",
   "metadata": {
    "execution": {
     "iopub.execute_input": "2022-07-29T17:20:17.419296Z",
     "iopub.status.busy": "2022-07-29T17:20:17.418656Z",
     "iopub.status.idle": "2022-07-29T17:20:17.422859Z",
     "shell.execute_reply": "2022-07-29T17:20:17.421898Z"
    },
    "papermill": {
     "duration": 0.047627,
     "end_time": "2022-07-29T17:20:17.424802",
     "exception": false,
     "start_time": "2022-07-29T17:20:17.377175",
     "status": "completed"
    },
    "tags": []
   },
   "outputs": [],
   "source": [
    "# df.flight.value_counts(dropna=False).to_frame()\n",
    "# df.airline.value_counts(dropna=False).to_frame()\n",
    "# df.source_city.value_counts(dropna=False).to_frame()\n",
    "# df.departure_time.value_counts(dropna=False).to_frame()\n",
    "# df.stops.value_counts(dropna=False).to_frame()\n",
    "# df.destination_city.value_counts(dropna=False).to_frame()"
   ]
  },
  {
   "cell_type": "code",
   "execution_count": 45,
   "id": "494691c3",
   "metadata": {
    "execution": {
     "iopub.execute_input": "2022-07-29T17:20:17.510040Z",
     "iopub.status.busy": "2022-07-29T17:20:17.509746Z",
     "iopub.status.idle": "2022-07-29T17:20:17.532349Z",
     "shell.execute_reply": "2022-07-29T17:20:17.531459Z"
    },
    "papermill": {
     "duration": 0.06734,
     "end_time": "2022-07-29T17:20:17.534341",
     "exception": false,
     "start_time": "2022-07-29T17:20:17.467001",
     "status": "completed"
    },
    "tags": []
   },
   "outputs": [
    {
     "data": {
      "text/html": [
       "<div>\n",
       "<style scoped>\n",
       "    .dataframe tbody tr th:only-of-type {\n",
       "        vertical-align: middle;\n",
       "    }\n",
       "\n",
       "    .dataframe tbody tr th {\n",
       "        vertical-align: top;\n",
       "    }\n",
       "\n",
       "    .dataframe thead th {\n",
       "        text-align: right;\n",
       "    }\n",
       "</style>\n",
       "<table border=\"1\" class=\"dataframe\">\n",
       "  <thead>\n",
       "    <tr style=\"text-align: right;\">\n",
       "      <th></th>\n",
       "      <th>airline</th>\n",
       "      <th>source_city</th>\n",
       "      <th>departure_time</th>\n",
       "      <th>stops</th>\n",
       "      <th>class</th>\n",
       "      <th>duration</th>\n",
       "      <th>days_left</th>\n",
       "      <th>price</th>\n",
       "    </tr>\n",
       "  </thead>\n",
       "  <tbody>\n",
       "    <tr>\n",
       "      <th>0</th>\n",
       "      <td>SpiceJet</td>\n",
       "      <td>Delhi</td>\n",
       "      <td>Evening</td>\n",
       "      <td>zero</td>\n",
       "      <td>Economy</td>\n",
       "      <td>2.17</td>\n",
       "      <td>1</td>\n",
       "      <td>5953</td>\n",
       "    </tr>\n",
       "    <tr>\n",
       "      <th>1</th>\n",
       "      <td>SpiceJet</td>\n",
       "      <td>Delhi</td>\n",
       "      <td>Early_Morning</td>\n",
       "      <td>zero</td>\n",
       "      <td>Economy</td>\n",
       "      <td>2.33</td>\n",
       "      <td>1</td>\n",
       "      <td>5953</td>\n",
       "    </tr>\n",
       "    <tr>\n",
       "      <th>2</th>\n",
       "      <td>AirAsia</td>\n",
       "      <td>Delhi</td>\n",
       "      <td>Early_Morning</td>\n",
       "      <td>zero</td>\n",
       "      <td>Economy</td>\n",
       "      <td>2.17</td>\n",
       "      <td>1</td>\n",
       "      <td>5956</td>\n",
       "    </tr>\n",
       "    <tr>\n",
       "      <th>3</th>\n",
       "      <td>Vistara</td>\n",
       "      <td>Delhi</td>\n",
       "      <td>Morning</td>\n",
       "      <td>zero</td>\n",
       "      <td>Economy</td>\n",
       "      <td>2.25</td>\n",
       "      <td>1</td>\n",
       "      <td>5955</td>\n",
       "    </tr>\n",
       "    <tr>\n",
       "      <th>4</th>\n",
       "      <td>Vistara</td>\n",
       "      <td>Delhi</td>\n",
       "      <td>Morning</td>\n",
       "      <td>zero</td>\n",
       "      <td>Economy</td>\n",
       "      <td>2.33</td>\n",
       "      <td>1</td>\n",
       "      <td>5955</td>\n",
       "    </tr>\n",
       "  </tbody>\n",
       "</table>\n",
       "</div>"
      ],
      "text/plain": [
       "    airline source_city departure_time stops    class  duration  days_left  \\\n",
       "0  SpiceJet       Delhi        Evening  zero  Economy      2.17          1   \n",
       "1  SpiceJet       Delhi  Early_Morning  zero  Economy      2.33          1   \n",
       "2   AirAsia       Delhi  Early_Morning  zero  Economy      2.17          1   \n",
       "3   Vistara       Delhi        Morning  zero  Economy      2.25          1   \n",
       "4   Vistara       Delhi        Morning  zero  Economy      2.33          1   \n",
       "\n",
       "   price  \n",
       "0   5953  \n",
       "1   5953  \n",
       "2   5956  \n",
       "3   5955  \n",
       "4   5955  "
      ]
     },
     "execution_count": 45,
     "metadata": {},
     "output_type": "execute_result"
    }
   ],
   "source": [
    "# flight column dropped because of it not avaible for one hot encoding,\n",
    "# arrival_time and destination_city column are same as departure_time and source_city\n",
    "df = df.drop(['flight','arrival_time', 'destination_city'], axis=1)\n",
    "df.head()"
   ]
  },
  {
   "cell_type": "code",
   "execution_count": 46,
   "id": "5cbafb74",
   "metadata": {
    "execution": {
     "iopub.execute_input": "2022-07-29T17:20:17.618632Z",
     "iopub.status.busy": "2022-07-29T17:20:17.616797Z",
     "iopub.status.idle": "2022-07-29T17:20:17.800533Z",
     "shell.execute_reply": "2022-07-29T17:20:17.799617Z"
    },
    "papermill": {
     "duration": 0.22788,
     "end_time": "2022-07-29T17:20:17.802605",
     "exception": false,
     "start_time": "2022-07-29T17:20:17.574725",
     "status": "completed"
    },
    "tags": []
   },
   "outputs": [
    {
     "data": {
      "text/html": [
       "<div>\n",
       "<style scoped>\n",
       "    .dataframe tbody tr th:only-of-type {\n",
       "        vertical-align: middle;\n",
       "    }\n",
       "\n",
       "    .dataframe tbody tr th {\n",
       "        vertical-align: top;\n",
       "    }\n",
       "\n",
       "    .dataframe thead th {\n",
       "        text-align: right;\n",
       "    }\n",
       "</style>\n",
       "<table border=\"1\" class=\"dataframe\">\n",
       "  <thead>\n",
       "    <tr style=\"text-align: right;\">\n",
       "      <th></th>\n",
       "      <th>airline_AirAsia</th>\n",
       "      <th>airline_Air_India</th>\n",
       "      <th>airline_GO_FIRST</th>\n",
       "      <th>airline_Indigo</th>\n",
       "      <th>airline_SpiceJet</th>\n",
       "      <th>airline_Vistara</th>\n",
       "      <th>source_city_Bangalore</th>\n",
       "      <th>source_city_Chennai</th>\n",
       "      <th>source_city_Delhi</th>\n",
       "      <th>source_city_Hyderabad</th>\n",
       "      <th>...</th>\n",
       "      <th>departure_time_Early_Morning</th>\n",
       "      <th>departure_time_Evening</th>\n",
       "      <th>departure_time_Late_Night</th>\n",
       "      <th>departure_time_Morning</th>\n",
       "      <th>departure_time_Night</th>\n",
       "      <th>stops_one</th>\n",
       "      <th>stops_two_or_more</th>\n",
       "      <th>stops_zero</th>\n",
       "      <th>class_Business</th>\n",
       "      <th>class_Economy</th>\n",
       "    </tr>\n",
       "  </thead>\n",
       "  <tbody>\n",
       "    <tr>\n",
       "      <th>0</th>\n",
       "      <td>0</td>\n",
       "      <td>0</td>\n",
       "      <td>0</td>\n",
       "      <td>0</td>\n",
       "      <td>1</td>\n",
       "      <td>0</td>\n",
       "      <td>0</td>\n",
       "      <td>0</td>\n",
       "      <td>1</td>\n",
       "      <td>0</td>\n",
       "      <td>...</td>\n",
       "      <td>0</td>\n",
       "      <td>1</td>\n",
       "      <td>0</td>\n",
       "      <td>0</td>\n",
       "      <td>0</td>\n",
       "      <td>0</td>\n",
       "      <td>0</td>\n",
       "      <td>1</td>\n",
       "      <td>0</td>\n",
       "      <td>1</td>\n",
       "    </tr>\n",
       "    <tr>\n",
       "      <th>1</th>\n",
       "      <td>0</td>\n",
       "      <td>0</td>\n",
       "      <td>0</td>\n",
       "      <td>0</td>\n",
       "      <td>1</td>\n",
       "      <td>0</td>\n",
       "      <td>0</td>\n",
       "      <td>0</td>\n",
       "      <td>1</td>\n",
       "      <td>0</td>\n",
       "      <td>...</td>\n",
       "      <td>1</td>\n",
       "      <td>0</td>\n",
       "      <td>0</td>\n",
       "      <td>0</td>\n",
       "      <td>0</td>\n",
       "      <td>0</td>\n",
       "      <td>0</td>\n",
       "      <td>1</td>\n",
       "      <td>0</td>\n",
       "      <td>1</td>\n",
       "    </tr>\n",
       "    <tr>\n",
       "      <th>2</th>\n",
       "      <td>1</td>\n",
       "      <td>0</td>\n",
       "      <td>0</td>\n",
       "      <td>0</td>\n",
       "      <td>0</td>\n",
       "      <td>0</td>\n",
       "      <td>0</td>\n",
       "      <td>0</td>\n",
       "      <td>1</td>\n",
       "      <td>0</td>\n",
       "      <td>...</td>\n",
       "      <td>1</td>\n",
       "      <td>0</td>\n",
       "      <td>0</td>\n",
       "      <td>0</td>\n",
       "      <td>0</td>\n",
       "      <td>0</td>\n",
       "      <td>0</td>\n",
       "      <td>1</td>\n",
       "      <td>0</td>\n",
       "      <td>1</td>\n",
       "    </tr>\n",
       "    <tr>\n",
       "      <th>3</th>\n",
       "      <td>0</td>\n",
       "      <td>0</td>\n",
       "      <td>0</td>\n",
       "      <td>0</td>\n",
       "      <td>0</td>\n",
       "      <td>1</td>\n",
       "      <td>0</td>\n",
       "      <td>0</td>\n",
       "      <td>1</td>\n",
       "      <td>0</td>\n",
       "      <td>...</td>\n",
       "      <td>0</td>\n",
       "      <td>0</td>\n",
       "      <td>0</td>\n",
       "      <td>1</td>\n",
       "      <td>0</td>\n",
       "      <td>0</td>\n",
       "      <td>0</td>\n",
       "      <td>1</td>\n",
       "      <td>0</td>\n",
       "      <td>1</td>\n",
       "    </tr>\n",
       "    <tr>\n",
       "      <th>4</th>\n",
       "      <td>0</td>\n",
       "      <td>0</td>\n",
       "      <td>0</td>\n",
       "      <td>0</td>\n",
       "      <td>0</td>\n",
       "      <td>1</td>\n",
       "      <td>0</td>\n",
       "      <td>0</td>\n",
       "      <td>1</td>\n",
       "      <td>0</td>\n",
       "      <td>...</td>\n",
       "      <td>0</td>\n",
       "      <td>0</td>\n",
       "      <td>0</td>\n",
       "      <td>1</td>\n",
       "      <td>0</td>\n",
       "      <td>0</td>\n",
       "      <td>0</td>\n",
       "      <td>1</td>\n",
       "      <td>0</td>\n",
       "      <td>1</td>\n",
       "    </tr>\n",
       "  </tbody>\n",
       "</table>\n",
       "<p>5 rows × 23 columns</p>\n",
       "</div>"
      ],
      "text/plain": [
       "   airline_AirAsia  airline_Air_India  airline_GO_FIRST  airline_Indigo  \\\n",
       "0                0                  0                 0               0   \n",
       "1                0                  0                 0               0   \n",
       "2                1                  0                 0               0   \n",
       "3                0                  0                 0               0   \n",
       "4                0                  0                 0               0   \n",
       "\n",
       "   airline_SpiceJet  airline_Vistara  source_city_Bangalore  \\\n",
       "0                 1                0                      0   \n",
       "1                 1                0                      0   \n",
       "2                 0                0                      0   \n",
       "3                 0                1                      0   \n",
       "4                 0                1                      0   \n",
       "\n",
       "   source_city_Chennai  source_city_Delhi  source_city_Hyderabad  ...  \\\n",
       "0                    0                  1                      0  ...   \n",
       "1                    0                  1                      0  ...   \n",
       "2                    0                  1                      0  ...   \n",
       "3                    0                  1                      0  ...   \n",
       "4                    0                  1                      0  ...   \n",
       "\n",
       "   departure_time_Early_Morning  departure_time_Evening  \\\n",
       "0                             0                       1   \n",
       "1                             1                       0   \n",
       "2                             1                       0   \n",
       "3                             0                       0   \n",
       "4                             0                       0   \n",
       "\n",
       "   departure_time_Late_Night  departure_time_Morning  departure_time_Night  \\\n",
       "0                          0                       0                     0   \n",
       "1                          0                       0                     0   \n",
       "2                          0                       0                     0   \n",
       "3                          0                       1                     0   \n",
       "4                          0                       1                     0   \n",
       "\n",
       "   stops_one  stops_two_or_more  stops_zero  class_Business  class_Economy  \n",
       "0          0                  0           1               0              1  \n",
       "1          0                  0           1               0              1  \n",
       "2          0                  0           1               0              1  \n",
       "3          0                  0           1               0              1  \n",
       "4          0                  0           1               0              1  \n",
       "\n",
       "[5 rows x 23 columns]"
      ]
     },
     "execution_count": 46,
     "metadata": {},
     "output_type": "execute_result"
    }
   ],
   "source": [
    "# one hot encoding object columns\n",
    "dms = pd.get_dummies(df[['airline', 'source_city','departure_time','stops','class']])\n",
    "dms.head()"
   ]
  },
  {
   "cell_type": "code",
   "execution_count": 47,
   "id": "b4dd87fd",
   "metadata": {
    "execution": {
     "iopub.execute_input": "2022-07-29T17:20:17.887509Z",
     "iopub.status.busy": "2022-07-29T17:20:17.887156Z",
     "iopub.status.idle": "2022-07-29T17:20:17.895310Z",
     "shell.execute_reply": "2022-07-29T17:20:17.894351Z"
    },
    "papermill": {
     "duration": 0.052285,
     "end_time": "2022-07-29T17:20:17.897277",
     "exception": false,
     "start_time": "2022-07-29T17:20:17.844992",
     "status": "completed"
    },
    "tags": []
   },
   "outputs": [],
   "source": [
    "X_ = df.drop(['airline', 'source_city','departure_time','stops','class'], axis=1)"
   ]
  },
  {
   "cell_type": "code",
   "execution_count": 48,
   "id": "b7a92d1e",
   "metadata": {
    "execution": {
     "iopub.execute_input": "2022-07-29T17:20:17.980909Z",
     "iopub.status.busy": "2022-07-29T17:20:17.980096Z",
     "iopub.status.idle": "2022-07-29T17:20:18.023583Z",
     "shell.execute_reply": "2022-07-29T17:20:18.021641Z"
    },
    "papermill": {
     "duration": 0.088078,
     "end_time": "2022-07-29T17:20:18.026440",
     "exception": false,
     "start_time": "2022-07-29T17:20:17.938362",
     "status": "completed"
    },
    "tags": []
   },
   "outputs": [
    {
     "name": "stdout",
     "output_type": "stream",
     "text": [
      "<class 'pandas.core.frame.DataFrame'>\n",
      "RangeIndex: 300153 entries, 0 to 300152\n",
      "Data columns (total 26 columns):\n",
      " #   Column                        Non-Null Count   Dtype  \n",
      "---  ------                        --------------   -----  \n",
      " 0   duration                      300153 non-null  float64\n",
      " 1   days_left                     300153 non-null  int64  \n",
      " 2   price                         300153 non-null  int64  \n",
      " 3   airline_AirAsia               300153 non-null  uint8  \n",
      " 4   airline_Air_India             300153 non-null  uint8  \n",
      " 5   airline_GO_FIRST              300153 non-null  uint8  \n",
      " 6   airline_Indigo                300153 non-null  uint8  \n",
      " 7   airline_SpiceJet              300153 non-null  uint8  \n",
      " 8   airline_Vistara               300153 non-null  uint8  \n",
      " 9   source_city_Bangalore         300153 non-null  uint8  \n",
      " 10  source_city_Chennai           300153 non-null  uint8  \n",
      " 11  source_city_Delhi             300153 non-null  uint8  \n",
      " 12  source_city_Hyderabad         300153 non-null  uint8  \n",
      " 13  source_city_Kolkata           300153 non-null  uint8  \n",
      " 14  source_city_Mumbai            300153 non-null  uint8  \n",
      " 15  departure_time_Afternoon      300153 non-null  uint8  \n",
      " 16  departure_time_Early_Morning  300153 non-null  uint8  \n",
      " 17  departure_time_Evening        300153 non-null  uint8  \n",
      " 18  departure_time_Late_Night     300153 non-null  uint8  \n",
      " 19  departure_time_Morning        300153 non-null  uint8  \n",
      " 20  departure_time_Night          300153 non-null  uint8  \n",
      " 21  stops_one                     300153 non-null  uint8  \n",
      " 22  stops_two_or_more             300153 non-null  uint8  \n",
      " 23  stops_zero                    300153 non-null  uint8  \n",
      " 24  class_Business                300153 non-null  uint8  \n",
      " 25  class_Economy                 300153 non-null  uint8  \n",
      "dtypes: float64(1), int64(2), uint8(23)\n",
      "memory usage: 13.5 MB\n"
     ]
    }
   ],
   "source": [
    "X = pd.concat([X_, dms], axis = 1)\n",
    "df1 = X.copy()\n",
    "df1.info()"
   ]
  },
  {
   "cell_type": "code",
   "execution_count": 49,
   "id": "301cec40",
   "metadata": {
    "execution": {
     "iopub.execute_input": "2022-07-29T17:20:18.110781Z",
     "iopub.status.busy": "2022-07-29T17:20:18.110460Z",
     "iopub.status.idle": "2022-07-29T17:20:18.189935Z",
     "shell.execute_reply": "2022-07-29T17:20:18.188772Z"
    },
    "papermill": {
     "duration": 0.123137,
     "end_time": "2022-07-29T17:20:18.192092",
     "exception": false,
     "start_time": "2022-07-29T17:20:18.068955",
     "status": "completed"
    },
    "tags": []
   },
   "outputs": [
    {
     "name": "stdout",
     "output_type": "stream",
     "text": [
      "X_train (240122, 24)\n",
      "y_train (240122,)\n",
      "X_test (60031, 24)\n",
      "y_test (60031,)\n",
      "training (300153, 25)\n"
     ]
    }
   ],
   "source": [
    "df1 = df1.drop(\"class_Business\", axis=1)\n",
    "\n",
    "X = df1.drop(\"price\", axis = 1)\n",
    "\n",
    "y = df1[\"price\"]\n",
    "\n",
    "X_train, X_test, y_train, y_test = train_test_split(X, y, test_size = 0.20, random_state= 42)\n",
    "\n",
    "print(\"X_train\", X_train.shape)\n",
    "print(\"y_train\",y_train.shape)\n",
    "print(\"X_test\",X_test.shape)\n",
    "print(\"y_test\",y_test.shape)\n",
    "\n",
    "training = df1.copy()\n",
    "\n",
    "print(\"training\", training.shape)"
   ]
  },
  {
   "cell_type": "code",
   "execution_count": 50,
   "id": "084243e9",
   "metadata": {
    "execution": {
     "iopub.execute_input": "2022-07-29T17:20:18.276801Z",
     "iopub.status.busy": "2022-07-29T17:20:18.276448Z",
     "iopub.status.idle": "2022-07-29T17:20:18.475352Z",
     "shell.execute_reply": "2022-07-29T17:20:18.474206Z"
    },
    "papermill": {
     "duration": 0.243945,
     "end_time": "2022-07-29T17:20:18.478672",
     "exception": false,
     "start_time": "2022-07-29T17:20:18.234727",
     "status": "completed"
    },
    "tags": []
   },
   "outputs": [
    {
     "data": {
      "text/plain": [
       "53293.816241769746"
      ]
     },
     "execution_count": 50,
     "metadata": {},
     "output_type": "execute_result"
    }
   ],
   "source": [
    "lm = LinearRegression()\n",
    "model = lm.fit(X_train, y_train)\n",
    "model.intercept_"
   ]
  },
  {
   "cell_type": "code",
   "execution_count": 51,
   "id": "6066583a",
   "metadata": {
    "execution": {
     "iopub.execute_input": "2022-07-29T17:20:18.609122Z",
     "iopub.status.busy": "2022-07-29T17:20:18.608808Z",
     "iopub.status.idle": "2022-07-29T17:20:18.615190Z",
     "shell.execute_reply": "2022-07-29T17:20:18.614293Z"
    },
    "papermill": {
     "duration": 0.058933,
     "end_time": "2022-07-29T17:20:18.617046",
     "exception": false,
     "start_time": "2022-07-29T17:20:18.558113",
     "status": "completed"
    },
    "tags": []
   },
   "outputs": [
    {
     "data": {
      "text/plain": [
       "array([ 4.55927498e+01, -1.31055902e+02, -1.81809700e+03, -1.66306066e+03,\n",
       "       -9.39823004e+01,  4.90405278e+02,  7.40536451e+02,  2.34419823e+03,\n",
       "        1.56064623e+02,  1.71250429e+02, -8.60116993e+02, -1.09207100e+03,\n",
       "        1.56052083e+03,  6.43521114e+01, -5.81420098e+02,  6.42894586e+01,\n",
       "        3.58112583e+01,  4.85518331e+02,  1.70444601e+02, -1.74643551e+02,\n",
       "        1.79444136e+03,  4.26222918e+03, -6.05667054e+03, -4.49869366e+04])"
      ]
     },
     "execution_count": 51,
     "metadata": {},
     "output_type": "execute_result"
    }
   ],
   "source": [
    "model.coef_"
   ]
  },
  {
   "cell_type": "markdown",
   "id": "7559cb95",
   "metadata": {
    "papermill": {
     "duration": 0.041172,
     "end_time": "2022-07-29T17:20:18.699403",
     "exception": false,
     "start_time": "2022-07-29T17:20:18.658231",
     "status": "completed"
    },
    "tags": []
   },
   "source": [
    "## Prediction"
   ]
  },
  {
   "cell_type": "code",
   "execution_count": 52,
   "id": "4e1701d0",
   "metadata": {
    "execution": {
     "iopub.execute_input": "2022-07-29T17:20:18.784635Z",
     "iopub.status.busy": "2022-07-29T17:20:18.782923Z",
     "iopub.status.idle": "2022-07-29T17:20:18.807277Z",
     "shell.execute_reply": "2022-07-29T17:20:18.806341Z"
    },
    "papermill": {
     "duration": 0.069115,
     "end_time": "2022-07-29T17:20:18.809474",
     "exception": false,
     "start_time": "2022-07-29T17:20:18.740359",
     "status": "completed"
    },
    "tags": []
   },
   "outputs": [
    {
     "data": {
      "text/html": [
       "<div>\n",
       "<style scoped>\n",
       "    .dataframe tbody tr th:only-of-type {\n",
       "        vertical-align: middle;\n",
       "    }\n",
       "\n",
       "    .dataframe tbody tr th {\n",
       "        vertical-align: top;\n",
       "    }\n",
       "\n",
       "    .dataframe thead th {\n",
       "        text-align: right;\n",
       "    }\n",
       "</style>\n",
       "<table border=\"1\" class=\"dataframe\">\n",
       "  <thead>\n",
       "    <tr style=\"text-align: right;\">\n",
       "      <th></th>\n",
       "      <th>0</th>\n",
       "      <th>1</th>\n",
       "      <th>2</th>\n",
       "      <th>3</th>\n",
       "      <th>4</th>\n",
       "      <th>5</th>\n",
       "      <th>6</th>\n",
       "      <th>7</th>\n",
       "      <th>8</th>\n",
       "      <th>9</th>\n",
       "      <th>...</th>\n",
       "      <th>14</th>\n",
       "      <th>15</th>\n",
       "      <th>16</th>\n",
       "      <th>17</th>\n",
       "      <th>18</th>\n",
       "      <th>19</th>\n",
       "      <th>20</th>\n",
       "      <th>21</th>\n",
       "      <th>22</th>\n",
       "      <th>23</th>\n",
       "    </tr>\n",
       "  </thead>\n",
       "  <tbody>\n",
       "    <tr>\n",
       "      <th>0</th>\n",
       "      <td>2.41</td>\n",
       "      <td>22.0</td>\n",
       "      <td>1.0</td>\n",
       "      <td>0.0</td>\n",
       "      <td>0.0</td>\n",
       "      <td>0.0</td>\n",
       "      <td>0.0</td>\n",
       "      <td>0.0</td>\n",
       "      <td>1.0</td>\n",
       "      <td>0.0</td>\n",
       "      <td>...</td>\n",
       "      <td>1.0</td>\n",
       "      <td>0.0</td>\n",
       "      <td>0.0</td>\n",
       "      <td>0.0</td>\n",
       "      <td>0.0</td>\n",
       "      <td>0.0</td>\n",
       "      <td>1.0</td>\n",
       "      <td>0.0</td>\n",
       "      <td>0.0</td>\n",
       "      <td>1.0</td>\n",
       "    </tr>\n",
       "  </tbody>\n",
       "</table>\n",
       "<p>1 rows × 24 columns</p>\n",
       "</div>"
      ],
      "text/plain": [
       "     0     1    2    3    4    5    6    7    8    9   ...   14   15   16  \\\n",
       "0  2.41  22.0  1.0  0.0  0.0  0.0  0.0  0.0  1.0  0.0  ...  1.0  0.0  0.0   \n",
       "\n",
       "    17   18   19   20   21   22   23  \n",
       "0  0.0  0.0  0.0  1.0  0.0  0.0  1.0  \n",
       "\n",
       "[1 rows x 24 columns]"
      ]
     },
     "execution_count": 52,
     "metadata": {},
     "output_type": "execute_result"
    }
   ],
   "source": [
    "new_data = [[2.41], [22],[1],[0], [0],[0],[0],[0], [1],[0],[0], [0],[0],[0], [1],[0],[0], [0],[0],[0], [1],[0],[0], [1]]\n",
    "new_data = pd.DataFrame(new_data).T\n",
    "new_data.head()"
   ]
  },
  {
   "cell_type": "code",
   "execution_count": 53,
   "id": "dfcf82d4",
   "metadata": {
    "execution": {
     "iopub.execute_input": "2022-07-29T17:20:18.894236Z",
     "iopub.status.busy": "2022-07-29T17:20:18.893955Z",
     "iopub.status.idle": "2022-07-29T17:20:18.901381Z",
     "shell.execute_reply": "2022-07-29T17:20:18.900516Z"
    },
    "papermill": {
     "duration": 0.051652,
     "end_time": "2022-07-29T17:20:18.903275",
     "exception": false,
     "start_time": "2022-07-29T17:20:18.851623",
     "status": "completed"
    },
    "tags": []
   },
   "outputs": [
    {
     "data": {
      "text/plain": [
       "array([5084.51721574])"
      ]
     },
     "execution_count": 53,
     "metadata": {},
     "output_type": "execute_result"
    }
   ],
   "source": [
    "model.predict(new_data)"
   ]
  },
  {
   "cell_type": "code",
   "execution_count": 54,
   "id": "914aa47b",
   "metadata": {
    "execution": {
     "iopub.execute_input": "2022-07-29T17:20:18.989062Z",
     "iopub.status.busy": "2022-07-29T17:20:18.988240Z",
     "iopub.status.idle": "2022-07-29T17:20:19.018607Z",
     "shell.execute_reply": "2022-07-29T17:20:19.017578Z"
    },
    "papermill": {
     "duration": 0.076217,
     "end_time": "2022-07-29T17:20:19.021305",
     "exception": false,
     "start_time": "2022-07-29T17:20:18.945088",
     "status": "completed"
    },
    "tags": []
   },
   "outputs": [
    {
     "data": {
      "text/plain": [
       "6845.13245156569"
      ]
     },
     "execution_count": 54,
     "metadata": {},
     "output_type": "execute_result"
    }
   ],
   "source": [
    "# train data\n",
    "rmse = np.sqrt(mean_squared_error(y_train, model.predict(X_train)))\n",
    "rmse"
   ]
  },
  {
   "cell_type": "code",
   "execution_count": 55,
   "id": "6b44761e",
   "metadata": {
    "execution": {
     "iopub.execute_input": "2022-07-29T17:20:19.166398Z",
     "iopub.status.busy": "2022-07-29T17:20:19.166066Z",
     "iopub.status.idle": "2022-07-29T17:20:19.181036Z",
     "shell.execute_reply": "2022-07-29T17:20:19.180144Z"
    },
    "papermill": {
     "duration": 0.083079,
     "end_time": "2022-07-29T17:20:19.183675",
     "exception": false,
     "start_time": "2022-07-29T17:20:19.100596",
     "status": "completed"
    },
    "tags": []
   },
   "outputs": [
    {
     "data": {
      "text/plain": [
       "6859.877949346091"
      ]
     },
     "execution_count": 55,
     "metadata": {},
     "output_type": "execute_result"
    }
   ],
   "source": [
    "# test data\n",
    "rmse = np.sqrt(mean_squared_error(y_test, model.predict(X_test)))\n",
    "rmse"
   ]
  },
  {
   "cell_type": "markdown",
   "id": "624af676",
   "metadata": {
    "papermill": {
     "duration": 0.063939,
     "end_time": "2022-07-29T17:20:19.325532",
     "exception": false,
     "start_time": "2022-07-29T17:20:19.261593",
     "status": "completed"
    },
    "tags": []
   },
   "source": [
    "# Model Tuning"
   ]
  },
  {
   "cell_type": "code",
   "execution_count": 56,
   "id": "258ad0e4",
   "metadata": {
    "execution": {
     "iopub.execute_input": "2022-07-29T17:20:19.413018Z",
     "iopub.status.busy": "2022-07-29T17:20:19.412592Z",
     "iopub.status.idle": "2022-07-29T17:20:19.444721Z",
     "shell.execute_reply": "2022-07-29T17:20:19.443649Z"
    },
    "papermill": {
     "duration": 0.078188,
     "end_time": "2022-07-29T17:20:19.447526",
     "exception": false,
     "start_time": "2022-07-29T17:20:19.369338",
     "status": "completed"
    },
    "tags": []
   },
   "outputs": [
    {
     "data": {
      "text/plain": [
       "0.9090377632547896"
      ]
     },
     "execution_count": 56,
     "metadata": {},
     "output_type": "execute_result"
    }
   ],
   "source": [
    "model.score(X_train, y_train)"
   ]
  },
  {
   "cell_type": "code",
   "execution_count": 57,
   "id": "f0f1fbb8",
   "metadata": {
    "execution": {
     "iopub.execute_input": "2022-07-29T17:20:19.591727Z",
     "iopub.status.busy": "2022-07-29T17:20:19.590658Z",
     "iopub.status.idle": "2022-07-29T17:20:22.260405Z",
     "shell.execute_reply": "2022-07-29T17:20:22.259438Z"
    },
    "papermill": {
     "duration": 2.736262,
     "end_time": "2022-07-29T17:20:22.263250",
     "exception": false,
     "start_time": "2022-07-29T17:20:19.526988",
     "status": "completed"
    },
    "tags": []
   },
   "outputs": [
    {
     "data": {
      "text/plain": [
       "6845.596754035166"
      ]
     },
     "execution_count": 57,
     "metadata": {},
     "output_type": "execute_result"
    }
   ],
   "source": [
    "# train data\n",
    "np.sqrt(-cross_val_score(model, \n",
    "                X_train, \n",
    "                y_train, \n",
    "                cv = 10, \n",
    "                scoring = \"neg_mean_squared_error\")).mean()"
   ]
  },
  {
   "cell_type": "code",
   "execution_count": 58,
   "id": "ddc4b078",
   "metadata": {
    "execution": {
     "iopub.execute_input": "2022-07-29T17:20:22.430948Z",
     "iopub.status.busy": "2022-07-29T17:20:22.430599Z",
     "iopub.status.idle": "2022-07-29T17:20:23.317903Z",
     "shell.execute_reply": "2022-07-29T17:20:23.316870Z"
    },
    "papermill": {
     "duration": 0.933836,
     "end_time": "2022-07-29T17:20:23.321038",
     "exception": false,
     "start_time": "2022-07-29T17:20:22.387202",
     "status": "completed"
    },
    "tags": []
   },
   "outputs": [
    {
     "data": {
      "text/plain": [
       "6860.827286208287"
      ]
     },
     "execution_count": 58,
     "metadata": {},
     "output_type": "execute_result"
    }
   ],
   "source": [
    "# test data\n",
    "np.sqrt(-cross_val_score(model, \n",
    "                X_test, \n",
    "                y_test, \n",
    "                cv = 10, \n",
    "                scoring = \"neg_mean_squared_error\")).mean()"
   ]
  },
  {
   "cell_type": "markdown",
   "id": "489270c1",
   "metadata": {
    "papermill": {
     "duration": 0.042319,
     "end_time": "2022-07-29T17:20:23.491136",
     "exception": false,
     "start_time": "2022-07-29T17:20:23.448817",
     "status": "completed"
    },
    "tags": []
   },
   "source": [
    "# PCR"
   ]
  },
  {
   "cell_type": "markdown",
   "id": "3f58e770",
   "metadata": {
    "papermill": {
     "duration": 0.04185,
     "end_time": "2022-07-29T17:20:23.576296",
     "exception": false,
     "start_time": "2022-07-29T17:20:23.534446",
     "status": "completed"
    },
    "tags": []
   },
   "source": [
    "## Model"
   ]
  },
  {
   "cell_type": "code",
   "execution_count": 59,
   "id": "6c4ad48b",
   "metadata": {
    "execution": {
     "iopub.execute_input": "2022-07-29T17:20:23.663075Z",
     "iopub.status.busy": "2022-07-29T17:20:23.662736Z",
     "iopub.status.idle": "2022-07-29T17:20:23.745144Z",
     "shell.execute_reply": "2022-07-29T17:20:23.744108Z"
    },
    "papermill": {
     "duration": 0.127318,
     "end_time": "2022-07-29T17:20:23.747365",
     "exception": false,
     "start_time": "2022-07-29T17:20:23.620047",
     "status": "completed"
    },
    "tags": []
   },
   "outputs": [
    {
     "name": "stdout",
     "output_type": "stream",
     "text": [
      "X_train (225114, 24)\n",
      "y_train (225114,)\n",
      "X_test (75039, 24)\n",
      "y_test (75039,)\n",
      "training (300153, 25)\n"
     ]
    }
   ],
   "source": [
    "X_train, X_test, y_train, y_test = train_test_split(X, \n",
    "                                                    y, \n",
    "                                                    test_size=0.25, \n",
    "                                                    random_state=42)\n",
    "\n",
    "print(\"X_train\", X_train.shape)\n",
    "\n",
    "print(\"y_train\",y_train.shape)\n",
    "\n",
    "print(\"X_test\",X_test.shape)\n",
    "\n",
    "print(\"y_test\",y_test.shape)\n",
    "\n",
    "training = df1.copy()\n",
    "\n",
    "print(\"training\", training.shape)"
   ]
  },
  {
   "cell_type": "code",
   "execution_count": 60,
   "id": "c902349f",
   "metadata": {
    "execution": {
     "iopub.execute_input": "2022-07-29T17:20:23.834118Z",
     "iopub.status.busy": "2022-07-29T17:20:23.833389Z",
     "iopub.status.idle": "2022-07-29T17:20:23.856094Z",
     "shell.execute_reply": "2022-07-29T17:20:23.854961Z"
    },
    "papermill": {
     "duration": 0.068463,
     "end_time": "2022-07-29T17:20:23.858051",
     "exception": false,
     "start_time": "2022-07-29T17:20:23.789588",
     "status": "completed"
    },
    "tags": []
   },
   "outputs": [],
   "source": [
    "from sklearn.decomposition import PCA\n",
    "from sklearn.preprocessing import scale \n",
    "pca = PCA()"
   ]
  },
  {
   "cell_type": "code",
   "execution_count": 61,
   "id": "50125ba6",
   "metadata": {
    "execution": {
     "iopub.execute_input": "2022-07-29T17:20:23.943948Z",
     "iopub.status.busy": "2022-07-29T17:20:23.943077Z",
     "iopub.status.idle": "2022-07-29T17:20:24.564956Z",
     "shell.execute_reply": "2022-07-29T17:20:24.564002Z"
    },
    "papermill": {
     "duration": 0.667595,
     "end_time": "2022-07-29T17:20:24.568255",
     "exception": false,
     "start_time": "2022-07-29T17:20:23.900660",
     "status": "completed"
    },
    "tags": []
   },
   "outputs": [
    {
     "data": {
      "text/plain": [
       "(225114, 24)"
      ]
     },
     "execution_count": 61,
     "metadata": {},
     "output_type": "execute_result"
    }
   ],
   "source": [
    "X_reduced_train = pca.fit_transform(scale(X_train))\n",
    "X_reduced_train.shape"
   ]
  },
  {
   "cell_type": "code",
   "execution_count": 62,
   "id": "4722c9de",
   "metadata": {
    "execution": {
     "iopub.execute_input": "2022-07-29T17:20:24.745317Z",
     "iopub.status.busy": "2022-07-29T17:20:24.744905Z",
     "iopub.status.idle": "2022-07-29T17:20:24.755927Z",
     "shell.execute_reply": "2022-07-29T17:20:24.754862Z"
    },
    "papermill": {
     "duration": 0.084854,
     "end_time": "2022-07-29T17:20:24.758688",
     "exception": false,
     "start_time": "2022-07-29T17:20:24.673834",
     "status": "completed"
    },
    "tags": []
   },
   "outputs": [
    {
     "data": {
      "text/plain": [
       "array([[-2.23435003e+00,  1.88294722e+00, -5.14811011e-01,\n",
       "         9.57914990e-01,  8.94391582e-01,  6.41168313e-01,\n",
       "        -1.32895420e+00, -5.01750557e-01, -4.31106581e-01,\n",
       "         1.31177042e+00,  9.80502518e-01,  9.51588725e-01,\n",
       "        -3.38746783e-01,  6.42383959e-01, -6.40966397e-01,\n",
       "         6.93725040e-01, -6.02154738e-01,  1.18663286e+00,\n",
       "         2.57752761e-01,  1.59324420e+00,  5.79124065e-14,\n",
       "         7.25018663e-15, -2.39174205e-14, -6.39650087e-15]])"
      ]
     },
     "execution_count": 62,
     "metadata": {},
     "output_type": "execute_result"
    }
   ],
   "source": [
    "X_reduced_train[0:1,:]"
   ]
  },
  {
   "cell_type": "code",
   "execution_count": 63,
   "id": "03deaf38",
   "metadata": {
    "execution": {
     "iopub.execute_input": "2022-07-29T17:20:24.898909Z",
     "iopub.status.busy": "2022-07-29T17:20:24.898337Z",
     "iopub.status.idle": "2022-07-29T17:20:24.909766Z",
     "shell.execute_reply": "2022-07-29T17:20:24.908904Z"
    },
    "papermill": {
     "duration": 0.08293,
     "end_time": "2022-07-29T17:20:24.912000",
     "exception": false,
     "start_time": "2022-07-29T17:20:24.829070",
     "status": "completed"
    },
    "tags": []
   },
   "outputs": [
    {
     "data": {
      "text/plain": [
       "array([-2.23435003, -1.69368459, -1.22479576, ..., -0.90937662,\n",
       "        0.56470031, -0.9541461 ])"
      ]
     },
     "execution_count": 63,
     "metadata": {},
     "output_type": "execute_result"
    }
   ],
   "source": [
    "X_reduced_train[:,0]"
   ]
  },
  {
   "cell_type": "code",
   "execution_count": 64,
   "id": "4ff11a93",
   "metadata": {
    "execution": {
     "iopub.execute_input": "2022-07-29T17:20:24.998632Z",
     "iopub.status.busy": "2022-07-29T17:20:24.998333Z",
     "iopub.status.idle": "2022-07-29T17:20:25.004657Z",
     "shell.execute_reply": "2022-07-29T17:20:25.003762Z"
    },
    "papermill": {
     "duration": 0.051757,
     "end_time": "2022-07-29T17:20:25.006632",
     "exception": false,
     "start_time": "2022-07-29T17:20:24.954875",
     "status": "completed"
    },
    "tags": []
   },
   "outputs": [
    {
     "data": {
      "text/plain": [
       "array([10.63, 17.53, 23.91, 29.69, 35.37])"
      ]
     },
     "execution_count": 64,
     "metadata": {},
     "output_type": "execute_result"
    }
   ],
   "source": [
    "np.cumsum(np.round(pca.explained_variance_ratio_, decimals = 4)*100)[0:5]"
   ]
  },
  {
   "cell_type": "code",
   "execution_count": 65,
   "id": "26b18d7f",
   "metadata": {
    "execution": {
     "iopub.execute_input": "2022-07-29T17:20:25.093340Z",
     "iopub.status.busy": "2022-07-29T17:20:25.092997Z",
     "iopub.status.idle": "2022-07-29T17:20:25.097319Z",
     "shell.execute_reply": "2022-07-29T17:20:25.096271Z"
    },
    "papermill": {
     "duration": 0.050052,
     "end_time": "2022-07-29T17:20:25.099373",
     "exception": false,
     "start_time": "2022-07-29T17:20:25.049321",
     "status": "completed"
    },
    "tags": []
   },
   "outputs": [],
   "source": [
    "# np.cumsum(np.round(pca.explained_variance_ratio_, decimals = 4)*100)[0:10]"
   ]
  },
  {
   "cell_type": "code",
   "execution_count": 66,
   "id": "c18ccc6a",
   "metadata": {
    "execution": {
     "iopub.execute_input": "2022-07-29T17:20:25.185673Z",
     "iopub.status.busy": "2022-07-29T17:20:25.185404Z",
     "iopub.status.idle": "2022-07-29T17:20:25.189614Z",
     "shell.execute_reply": "2022-07-29T17:20:25.188689Z"
    },
    "papermill": {
     "duration": 0.04995,
     "end_time": "2022-07-29T17:20:25.191582",
     "exception": false,
     "start_time": "2022-07-29T17:20:25.141632",
     "status": "completed"
    },
    "tags": []
   },
   "outputs": [],
   "source": [
    "lm = LinearRegression()"
   ]
  },
  {
   "cell_type": "code",
   "execution_count": 67,
   "id": "0650f319",
   "metadata": {
    "execution": {
     "iopub.execute_input": "2022-07-29T17:20:25.278057Z",
     "iopub.status.busy": "2022-07-29T17:20:25.277577Z",
     "iopub.status.idle": "2022-07-29T17:20:25.442742Z",
     "shell.execute_reply": "2022-07-29T17:20:25.441468Z"
    },
    "papermill": {
     "duration": 0.213088,
     "end_time": "2022-07-29T17:20:25.446898",
     "exception": false,
     "start_time": "2022-07-29T17:20:25.233810",
     "status": "completed"
    },
    "tags": []
   },
   "outputs": [],
   "source": [
    "pcr_model = lm.fit(X_reduced_train, y_train)"
   ]
  },
  {
   "cell_type": "code",
   "execution_count": 68,
   "id": "4b62fd7d",
   "metadata": {
    "execution": {
     "iopub.execute_input": "2022-07-29T17:20:25.586391Z",
     "iopub.status.busy": "2022-07-29T17:20:25.586004Z",
     "iopub.status.idle": "2022-07-29T17:20:25.592304Z",
     "shell.execute_reply": "2022-07-29T17:20:25.591368Z"
    },
    "papermill": {
     "duration": 0.063649,
     "end_time": "2022-07-29T17:20:25.594816",
     "exception": false,
     "start_time": "2022-07-29T17:20:25.531167",
     "status": "completed"
    },
    "tags": []
   },
   "outputs": [
    {
     "data": {
      "text/plain": [
       "20883.254107928657"
      ]
     },
     "execution_count": 68,
     "metadata": {},
     "output_type": "execute_result"
    }
   ],
   "source": [
    "pcr_model.intercept_"
   ]
  },
  {
   "cell_type": "code",
   "execution_count": 69,
   "id": "e8be9a0c",
   "metadata": {
    "execution": {
     "iopub.execute_input": "2022-07-29T17:20:25.682667Z",
     "iopub.status.busy": "2022-07-29T17:20:25.681929Z",
     "iopub.status.idle": "2022-07-29T17:20:25.689161Z",
     "shell.execute_reply": "2022-07-29T17:20:25.688008Z"
    },
    "papermill": {
     "duration": 0.053446,
     "end_time": "2022-07-29T17:20:25.691104",
     "exception": false,
     "start_time": "2022-07-29T17:20:25.637658",
     "status": "completed"
    },
    "tags": []
   },
   "outputs": [
    {
     "data": {
      "text/plain": [
       "array([-6.82916006e+03,  7.03874823e+03,  3.54280523e+03,  1.14402296e+03,\n",
       "       -2.00265193e+03, -3.12148719e+03, -2.93052801e+03, -2.33499070e+03,\n",
       "       -9.67219698e+02, -5.04283919e+02,  9.70322444e+02, -5.02016490e+03,\n",
       "        4.97482597e+03,  8.37208277e+01, -4.71858555e+01, -4.64825457e+02,\n",
       "       -1.49305621e+03,  3.91007194e+03,  1.51141993e+04,  2.95026040e+03,\n",
       "       -1.92655813e+16,  6.64713983e+14, -2.77475394e+14,  3.54344499e+13])"
      ]
     },
     "execution_count": 69,
     "metadata": {},
     "output_type": "execute_result"
    }
   ],
   "source": [
    "pcr_model.coef_"
   ]
  },
  {
   "cell_type": "markdown",
   "id": "633bed8a",
   "metadata": {
    "papermill": {
     "duration": 0.04314,
     "end_time": "2022-07-29T17:20:25.777307",
     "exception": false,
     "start_time": "2022-07-29T17:20:25.734167",
     "status": "completed"
    },
    "tags": []
   },
   "source": [
    "## Prediction"
   ]
  },
  {
   "cell_type": "code",
   "execution_count": 70,
   "id": "0a12c7a1",
   "metadata": {
    "execution": {
     "iopub.execute_input": "2022-07-29T17:20:25.866255Z",
     "iopub.status.busy": "2022-07-29T17:20:25.865578Z",
     "iopub.status.idle": "2022-07-29T17:20:25.878860Z",
     "shell.execute_reply": "2022-07-29T17:20:25.877757Z"
    },
    "papermill": {
     "duration": 0.060227,
     "end_time": "2022-07-29T17:20:25.880891",
     "exception": false,
     "start_time": "2022-07-29T17:20:25.820664",
     "status": "completed"
    },
    "tags": []
   },
   "outputs": [],
   "source": [
    "y_pred = pcr_model.predict(X_reduced_train)"
   ]
  },
  {
   "cell_type": "code",
   "execution_count": 71,
   "id": "a1d82409",
   "metadata": {
    "execution": {
     "iopub.execute_input": "2022-07-29T17:20:26.028290Z",
     "iopub.status.busy": "2022-07-29T17:20:26.027979Z",
     "iopub.status.idle": "2022-07-29T17:20:26.034239Z",
     "shell.execute_reply": "2022-07-29T17:20:26.033321Z"
    },
    "papermill": {
     "duration": 0.075544,
     "end_time": "2022-07-29T17:20:26.036683",
     "exception": false,
     "start_time": "2022-07-29T17:20:25.961139",
     "status": "completed"
    },
    "tags": []
   },
   "outputs": [
    {
     "data": {
      "text/plain": [
       "array([56977.84276228, 48913.2364397 ,  6462.18236538, 59216.1356578 ,\n",
       "       51533.68605099])"
      ]
     },
     "execution_count": 71,
     "metadata": {},
     "output_type": "execute_result"
    }
   ],
   "source": [
    "y_pred[0:5]"
   ]
  },
  {
   "cell_type": "code",
   "execution_count": 72,
   "id": "99383181",
   "metadata": {
    "execution": {
     "iopub.execute_input": "2022-07-29T17:20:26.124911Z",
     "iopub.status.busy": "2022-07-29T17:20:26.124007Z",
     "iopub.status.idle": "2022-07-29T17:20:26.132304Z",
     "shell.execute_reply": "2022-07-29T17:20:26.131333Z"
    },
    "papermill": {
     "duration": 0.054457,
     "end_time": "2022-07-29T17:20:26.134275",
     "exception": false,
     "start_time": "2022-07-29T17:20:26.079818",
     "status": "completed"
    },
    "tags": []
   },
   "outputs": [
    {
     "data": {
      "text/plain": [
       "6847.358492535665"
      ]
     },
     "execution_count": 72,
     "metadata": {},
     "output_type": "execute_result"
    }
   ],
   "source": [
    "np.sqrt(mean_squared_error(y_train, y_pred))"
   ]
  },
  {
   "cell_type": "code",
   "execution_count": 73,
   "id": "9a5d979b",
   "metadata": {
    "execution": {
     "iopub.execute_input": "2022-07-29T17:20:26.223137Z",
     "iopub.status.busy": "2022-07-29T17:20:26.222851Z",
     "iopub.status.idle": "2022-07-29T17:20:26.229675Z",
     "shell.execute_reply": "2022-07-29T17:20:26.228760Z"
    },
    "papermill": {
     "duration": 0.053487,
     "end_time": "2022-07-29T17:20:26.231648",
     "exception": false,
     "start_time": "2022-07-29T17:20:26.178161",
     "status": "completed"
    },
    "tags": []
   },
   "outputs": [
    {
     "data": {
      "text/plain": [
       "20889.660523133203"
      ]
     },
     "execution_count": 73,
     "metadata": {},
     "output_type": "execute_result"
    }
   ],
   "source": [
    "df1[\"price\"].mean()"
   ]
  },
  {
   "cell_type": "code",
   "execution_count": 74,
   "id": "2292eec5",
   "metadata": {
    "execution": {
     "iopub.execute_input": "2022-07-29T17:20:26.319815Z",
     "iopub.status.busy": "2022-07-29T17:20:26.318894Z",
     "iopub.status.idle": "2022-07-29T17:20:26.443830Z",
     "shell.execute_reply": "2022-07-29T17:20:26.442781Z"
    },
    "papermill": {
     "duration": 0.171847,
     "end_time": "2022-07-29T17:20:26.446631",
     "exception": false,
     "start_time": "2022-07-29T17:20:26.274784",
     "status": "completed"
    },
    "tags": []
   },
   "outputs": [
    {
     "data": {
      "text/plain": [
       "9008.773521833915"
      ]
     },
     "execution_count": 74,
     "metadata": {},
     "output_type": "execute_result"
    }
   ],
   "source": [
    "pca2 = PCA()\n",
    "X_reduced_test = pca2.fit_transform(scale(X_test))\n",
    "y_pred = pcr_model.predict(X_reduced_test)\n",
    "np.sqrt(mean_squared_error(y_test, y_pred))"
   ]
  },
  {
   "cell_type": "markdown",
   "id": "863d11fa",
   "metadata": {
    "papermill": {
     "duration": 0.062428,
     "end_time": "2022-07-29T17:20:26.587549",
     "exception": false,
     "start_time": "2022-07-29T17:20:26.525121",
     "status": "completed"
    },
    "tags": []
   },
   "source": [
    "## Model Tuning"
   ]
  },
  {
   "cell_type": "code",
   "execution_count": 75,
   "id": "ac9b749b",
   "metadata": {
    "execution": {
     "iopub.execute_input": "2022-07-29T17:20:26.676380Z",
     "iopub.status.busy": "2022-07-29T17:20:26.675554Z",
     "iopub.status.idle": "2022-07-29T17:20:26.736380Z",
     "shell.execute_reply": "2022-07-29T17:20:26.734832Z"
    },
    "papermill": {
     "duration": 0.108809,
     "end_time": "2022-07-29T17:20:26.739464",
     "exception": false,
     "start_time": "2022-07-29T17:20:26.630655",
     "status": "completed"
    },
    "tags": []
   },
   "outputs": [
    {
     "name": "stdout",
     "output_type": "stream",
     "text": [
      "16786.507756999676\n"
     ]
    }
   ],
   "source": [
    "lm = LinearRegression()\n",
    "pcr_model = lm.fit(X_reduced_train[:,0:10], y_train)\n",
    "y_pred = pcr_model.predict(X_reduced_test[:,0:10])\n",
    "print(np.sqrt(mean_squared_error(y_test, y_pred)))"
   ]
  },
  {
   "cell_type": "code",
   "execution_count": 76,
   "id": "ff558627",
   "metadata": {
    "execution": {
     "iopub.execute_input": "2022-07-29T17:20:26.916902Z",
     "iopub.status.busy": "2022-07-29T17:20:26.916566Z",
     "iopub.status.idle": "2022-07-29T17:20:26.921173Z",
     "shell.execute_reply": "2022-07-29T17:20:26.920180Z"
    },
    "papermill": {
     "duration": 0.051654,
     "end_time": "2022-07-29T17:20:26.923161",
     "exception": false,
     "start_time": "2022-07-29T17:20:26.871507",
     "status": "completed"
    },
    "tags": []
   },
   "outputs": [],
   "source": [
    "from sklearn import model_selection"
   ]
  },
  {
   "cell_type": "code",
   "execution_count": 77,
   "id": "311e4bc0",
   "metadata": {
    "execution": {
     "iopub.execute_input": "2022-07-29T17:20:27.011944Z",
     "iopub.status.busy": "2022-07-29T17:20:27.011168Z",
     "iopub.status.idle": "2022-07-29T17:20:27.016097Z",
     "shell.execute_reply": "2022-07-29T17:20:27.015257Z"
    },
    "papermill": {
     "duration": 0.051283,
     "end_time": "2022-07-29T17:20:27.018258",
     "exception": false,
     "start_time": "2022-07-29T17:20:26.966975",
     "status": "completed"
    },
    "tags": []
   },
   "outputs": [],
   "source": [
    "cv_10 = model_selection.KFold(n_splits = 10,\n",
    "                             shuffle = True,\n",
    "                             random_state = 1)"
   ]
  },
  {
   "cell_type": "code",
   "execution_count": 78,
   "id": "69faac04",
   "metadata": {
    "execution": {
     "iopub.execute_input": "2022-07-29T17:20:27.107817Z",
     "iopub.status.busy": "2022-07-29T17:20:27.107487Z",
     "iopub.status.idle": "2022-07-29T17:20:27.111693Z",
     "shell.execute_reply": "2022-07-29T17:20:27.110767Z"
    },
    "papermill": {
     "duration": 0.051667,
     "end_time": "2022-07-29T17:20:27.114016",
     "exception": false,
     "start_time": "2022-07-29T17:20:27.062349",
     "status": "completed"
    },
    "tags": []
   },
   "outputs": [],
   "source": [
    "lm = LinearRegression()"
   ]
  },
  {
   "cell_type": "code",
   "execution_count": 79,
   "id": "5de0b9eb",
   "metadata": {
    "execution": {
     "iopub.execute_input": "2022-07-29T17:20:27.212217Z",
     "iopub.status.busy": "2022-07-29T17:20:27.211920Z",
     "iopub.status.idle": "2022-07-29T17:20:27.216234Z",
     "shell.execute_reply": "2022-07-29T17:20:27.215354Z"
    },
    "papermill": {
     "duration": 0.051485,
     "end_time": "2022-07-29T17:20:27.218310",
     "exception": false,
     "start_time": "2022-07-29T17:20:27.166825",
     "status": "completed"
    },
    "tags": []
   },
   "outputs": [],
   "source": [
    "RMSE = []"
   ]
  },
  {
   "cell_type": "code",
   "execution_count": 80,
   "id": "6c0d0013",
   "metadata": {
    "execution": {
     "iopub.execute_input": "2022-07-29T17:20:27.307520Z",
     "iopub.status.busy": "2022-07-29T17:20:27.307262Z",
     "iopub.status.idle": "2022-07-29T17:21:01.091059Z",
     "shell.execute_reply": "2022-07-29T17:21:01.089852Z"
    },
    "papermill": {
     "duration": 33.831567,
     "end_time": "2022-07-29T17:21:01.094482",
     "exception": false,
     "start_time": "2022-07-29T17:20:27.262915",
     "status": "completed"
    },
    "tags": []
   },
   "outputs": [],
   "source": [
    "for i in np.arange(1, X_reduced_train.shape[1] + 1):\n",
    "    \n",
    "    score = np.sqrt(-1*model_selection.cross_val_score(lm, \n",
    "                                                       X_reduced_train[:,:i], \n",
    "                                                       y_train.ravel(), \n",
    "                                                       cv=cv_10, \n",
    "                                                       scoring='neg_mean_squared_error').mean())\n",
    "    RMSE.append(score)"
   ]
  },
  {
   "cell_type": "code",
   "execution_count": 81,
   "id": "9d8857f4",
   "metadata": {
    "execution": {
     "iopub.execute_input": "2022-07-29T17:21:01.268839Z",
     "iopub.status.busy": "2022-07-29T17:21:01.268480Z",
     "iopub.status.idle": "2022-07-29T17:21:01.272660Z",
     "shell.execute_reply": "2022-07-29T17:21:01.271768Z"
    },
    "papermill": {
     "duration": 0.05062,
     "end_time": "2022-07-29T17:21:01.274639",
     "exception": false,
     "start_time": "2022-07-29T17:21:01.224019",
     "status": "completed"
    },
    "tags": []
   },
   "outputs": [],
   "source": [
    "import matplotlib.pyplot as plt"
   ]
  },
  {
   "cell_type": "code",
   "execution_count": 82,
   "id": "4d2bf75c",
   "metadata": {
    "execution": {
     "iopub.execute_input": "2022-07-29T17:21:01.361503Z",
     "iopub.status.busy": "2022-07-29T17:21:01.360795Z",
     "iopub.status.idle": "2022-07-29T17:21:01.528682Z",
     "shell.execute_reply": "2022-07-29T17:21:01.527691Z"
    },
    "papermill": {
     "duration": 0.213553,
     "end_time": "2022-07-29T17:21:01.530695",
     "exception": false,
     "start_time": "2022-07-29T17:21:01.317142",
     "status": "completed"
    },
    "tags": []
   },
   "outputs": [
    {
     "data": {
      "image/png": "[encoded data removed]",
      "text/plain": [
       "<Figure size 432x288 with 1 Axes>"
      ]
     },
     "metadata": {
      "needs_background": "light"
     },
     "output_type": "display_data"
    }
   ],
   "source": [
    "plt.plot(RMSE, '-v')\n",
    "plt.xlabel('Number of Components')\n",
    "plt.ylabel('RMSE')\n",
    "plt.title('PCR Model Tuning for Ticket Price Prediction Model');"
   ]
  },
  {
   "cell_type": "code",
   "execution_count": 83,
   "id": "54f98e77",
   "metadata": {
    "execution": {
     "iopub.execute_input": "2022-07-29T17:21:01.619972Z",
     "iopub.status.busy": "2022-07-29T17:21:01.618498Z",
     "iopub.status.idle": "2022-07-29T17:21:01.623306Z",
     "shell.execute_reply": "2022-07-29T17:21:01.622463Z"
    },
    "papermill": {
     "duration": 0.051268,
     "end_time": "2022-07-29T17:21:01.625201",
     "exception": false,
     "start_time": "2022-07-29T17:21:01.573933",
     "status": "completed"
    },
    "tags": []
   },
   "outputs": [],
   "source": [
    "lm = LinearRegression()"
   ]
  },
  {
   "cell_type": "code",
   "execution_count": 84,
   "id": "4a94ce8b",
   "metadata": {
    "execution": {
     "iopub.execute_input": "2022-07-29T17:21:01.713836Z",
     "iopub.status.busy": "2022-07-29T17:21:01.713222Z",
     "iopub.status.idle": "2022-07-29T17:21:01.865443Z",
     "shell.execute_reply": "2022-07-29T17:21:01.862167Z"
    },
    "papermill": {
     "duration": 0.200834,
     "end_time": "2022-07-29T17:21:01.869676",
     "exception": false,
     "start_time": "2022-07-29T17:21:01.668842",
     "status": "completed"
    },
    "tags": []
   },
   "outputs": [
    {
     "name": "stdout",
     "output_type": "stream",
     "text": [
      "6847.3624636545055\n"
     ]
    }
   ],
   "source": [
    "pcr_model = lm.fit(X_reduced_train[:,0:20], y_train)\n",
    "y_pred = pcr_model.predict(X_reduced_train[:,0:20])\n",
    "print(np.sqrt(mean_squared_error(y_train, y_pred)))"
   ]
  },
  {
   "cell_type": "code",
   "execution_count": 85,
   "id": "d1f76c11",
   "metadata": {
    "execution": {
     "iopub.execute_input": "2022-07-29T17:21:02.034280Z",
     "iopub.status.busy": "2022-07-29T17:21:02.033633Z",
     "iopub.status.idle": "2022-07-29T17:21:02.041073Z",
     "shell.execute_reply": "2022-07-29T17:21:02.040050Z"
    },
    "papermill": {
     "duration": 0.055424,
     "end_time": "2022-07-29T17:21:02.043988",
     "exception": false,
     "start_time": "2022-07-29T17:21:01.988564",
     "status": "completed"
    },
    "tags": []
   },
   "outputs": [],
   "source": [
    "y_pred = pcr_model.predict(X_reduced_test[:,0:20])"
   ]
  },
  {
   "cell_type": "code",
   "execution_count": 86,
   "id": "46fc9d7d",
   "metadata": {
    "execution": {
     "iopub.execute_input": "2022-07-29T17:21:02.191485Z",
     "iopub.status.busy": "2022-07-29T17:21:02.191191Z",
     "iopub.status.idle": "2022-07-29T17:21:02.197358Z",
     "shell.execute_reply": "2022-07-29T17:21:02.196421Z"
    },
    "papermill": {
     "duration": 0.075078,
     "end_time": "2022-07-29T17:21:02.199801",
     "exception": false,
     "start_time": "2022-07-29T17:21:02.124723",
     "status": "completed"
    },
    "tags": []
   },
   "outputs": [
    {
     "name": "stdout",
     "output_type": "stream",
     "text": [
      "9008.824966205219\n"
     ]
    }
   ],
   "source": [
    "print(np.sqrt(mean_squared_error(y_test, y_pred)))"
   ]
  },
  {
   "cell_type": "markdown",
   "id": "c59bf929",
   "metadata": {
    "papermill": {
     "duration": 0.04365,
     "end_time": "2022-07-29T17:21:02.288015",
     "exception": false,
     "start_time": "2022-07-29T17:21:02.244365",
     "status": "completed"
    },
    "tags": []
   },
   "source": [
    "# PLS"
   ]
  },
  {
   "cell_type": "markdown",
   "id": "872ea35d",
   "metadata": {
    "papermill": {
     "duration": 0.043255,
     "end_time": "2022-07-29T17:21:02.374613",
     "exception": false,
     "start_time": "2022-07-29T17:21:02.331358",
     "status": "completed"
    },
    "tags": []
   },
   "source": [
    "## Model"
   ]
  },
  {
   "cell_type": "code",
   "execution_count": 87,
   "id": "184d9d83",
   "metadata": {
    "execution": {
     "iopub.execute_input": "2022-07-29T17:21:02.462464Z",
     "iopub.status.busy": "2022-07-29T17:21:02.462117Z",
     "iopub.status.idle": "2022-07-29T17:21:02.534260Z",
     "shell.execute_reply": "2022-07-29T17:21:02.532695Z"
    },
    "papermill": {
     "duration": 0.119294,
     "end_time": "2022-07-29T17:21:02.537012",
     "exception": false,
     "start_time": "2022-07-29T17:21:02.417718",
     "status": "completed"
    },
    "tags": []
   },
   "outputs": [
    {
     "name": "stdout",
     "output_type": "stream",
     "text": [
      "X_train (225114, 24)\n",
      "y_train (225114,)\n",
      "X_test (75039, 24)\n",
      "y_test (75039,)\n",
      "training (300153, 25)\n"
     ]
    }
   ],
   "source": [
    "X_train, X_test, y_train, y_test = train_test_split(X, \n",
    "                                                    y, \n",
    "                                                    test_size=0.25, \n",
    "                                                    random_state=42)\n",
    "\n",
    "print(\"X_train\", X_train.shape)\n",
    "\n",
    "print(\"y_train\",y_train.shape)\n",
    "\n",
    "print(\"X_test\",X_test.shape)\n",
    "\n",
    "print(\"y_test\",y_test.shape)\n",
    "\n",
    "training = df1.copy()\n",
    "\n",
    "print(\"training\", training.shape)"
   ]
  },
  {
   "cell_type": "code",
   "execution_count": 88,
   "id": "1f96225d",
   "metadata": {
    "execution": {
     "iopub.execute_input": "2022-07-29T17:21:02.626227Z",
     "iopub.status.busy": "2022-07-29T17:21:02.625914Z",
     "iopub.status.idle": "2022-07-29T17:21:02.633637Z",
     "shell.execute_reply": "2022-07-29T17:21:02.632624Z"
    },
    "papermill": {
     "duration": 0.054344,
     "end_time": "2022-07-29T17:21:02.635793",
     "exception": false,
     "start_time": "2022-07-29T17:21:02.581449",
     "status": "completed"
    },
    "tags": []
   },
   "outputs": [],
   "source": [
    "from sklearn.cross_decomposition import PLSRegression, PLSSVD"
   ]
  },
  {
   "cell_type": "code",
   "execution_count": 89,
   "id": "e599a106",
   "metadata": {
    "execution": {
     "iopub.execute_input": "2022-07-29T17:21:02.725893Z",
     "iopub.status.busy": "2022-07-29T17:21:02.724993Z",
     "iopub.status.idle": "2022-07-29T17:21:02.936875Z",
     "shell.execute_reply": "2022-07-29T17:21:02.935825Z"
    },
    "papermill": {
     "duration": 0.260958,
     "end_time": "2022-07-29T17:21:02.940313",
     "exception": false,
     "start_time": "2022-07-29T17:21:02.679355",
     "status": "completed"
    },
    "tags": []
   },
   "outputs": [
    {
     "data": {
      "text/plain": [
       "array([[-3.89887789e+02],\n",
       "       [-1.80481500e+03],\n",
       "       [-1.71442348e+03],\n",
       "       [ 1.18022447e+02],\n",
       "       [-1.89105571e+03],\n",
       "       [-1.76382972e+03],\n",
       "       [-1.14984612e+03],\n",
       "       [ 3.34247366e+03],\n",
       "       [ 1.34218704e+02],\n",
       "       [-2.82005458e+01],\n",
       "       [-1.11902943e+02],\n",
       "       [-6.61928867e+02],\n",
       "       [ 5.00462104e+02],\n",
       "       [ 1.22960161e+02],\n",
       "       [ 6.49925421e+00],\n",
       "       [ 1.08437296e+02],\n",
       "       [-5.07392228e+01],\n",
       "       [ 1.60506744e+02],\n",
       "       [ 6.44896847e+01],\n",
       "       [-1.76428284e+02],\n",
       "       [ 1.06556135e+02],\n",
       "       [-3.98155912e+01],\n",
       "       [-9.62786506e+01],\n",
       "       [-1.82225000e+04]])"
      ]
     },
     "execution_count": 89,
     "metadata": {},
     "output_type": "execute_result"
    }
   ],
   "source": [
    "pls_model = PLSRegression().fit(X_train, y_train)\n",
    "pls_model.coef_"
   ]
  },
  {
   "cell_type": "markdown",
   "id": "6cbdb96d",
   "metadata": {
    "papermill": {
     "duration": 0.05934,
     "end_time": "2022-07-29T17:21:03.084110",
     "exception": false,
     "start_time": "2022-07-29T17:21:03.024770",
     "status": "completed"
    },
    "tags": []
   },
   "source": [
    "## Prediction"
   ]
  },
  {
   "cell_type": "code",
   "execution_count": 90,
   "id": "d3e25663",
   "metadata": {
    "execution": {
     "iopub.execute_input": "2022-07-29T17:21:03.172856Z",
     "iopub.status.busy": "2022-07-29T17:21:03.172497Z",
     "iopub.status.idle": "2022-07-29T17:21:03.189720Z",
     "shell.execute_reply": "2022-07-29T17:21:03.188753Z"
    },
    "papermill": {
     "duration": 0.064123,
     "end_time": "2022-07-29T17:21:03.191761",
     "exception": false,
     "start_time": "2022-07-29T17:21:03.127638",
     "status": "completed"
    },
    "tags": []
   },
   "outputs": [
    {
     "data": {
      "text/html": [
       "<div>\n",
       "<style scoped>\n",
       "    .dataframe tbody tr th:only-of-type {\n",
       "        vertical-align: middle;\n",
       "    }\n",
       "\n",
       "    .dataframe tbody tr th {\n",
       "        vertical-align: top;\n",
       "    }\n",
       "\n",
       "    .dataframe thead th {\n",
       "        text-align: right;\n",
       "    }\n",
       "</style>\n",
       "<table border=\"1\" class=\"dataframe\">\n",
       "  <thead>\n",
       "    <tr style=\"text-align: right;\">\n",
       "      <th></th>\n",
       "      <th>duration</th>\n",
       "      <th>days_left</th>\n",
       "      <th>airline_AirAsia</th>\n",
       "      <th>airline_Air_India</th>\n",
       "      <th>airline_GO_FIRST</th>\n",
       "      <th>airline_Indigo</th>\n",
       "      <th>airline_SpiceJet</th>\n",
       "      <th>airline_Vistara</th>\n",
       "      <th>source_city_Bangalore</th>\n",
       "      <th>source_city_Chennai</th>\n",
       "      <th>...</th>\n",
       "      <th>departure_time_Afternoon</th>\n",
       "      <th>departure_time_Early_Morning</th>\n",
       "      <th>departure_time_Evening</th>\n",
       "      <th>departure_time_Late_Night</th>\n",
       "      <th>departure_time_Morning</th>\n",
       "      <th>departure_time_Night</th>\n",
       "      <th>stops_one</th>\n",
       "      <th>stops_two_or_more</th>\n",
       "      <th>stops_zero</th>\n",
       "      <th>class_Economy</th>\n",
       "    </tr>\n",
       "  </thead>\n",
       "  <tbody>\n",
       "    <tr>\n",
       "      <th>298245</th>\n",
       "      <td>26.50</td>\n",
       "      <td>7</td>\n",
       "      <td>0</td>\n",
       "      <td>0</td>\n",
       "      <td>0</td>\n",
       "      <td>0</td>\n",
       "      <td>0</td>\n",
       "      <td>1</td>\n",
       "      <td>0</td>\n",
       "      <td>1</td>\n",
       "      <td>...</td>\n",
       "      <td>0</td>\n",
       "      <td>0</td>\n",
       "      <td>0</td>\n",
       "      <td>0</td>\n",
       "      <td>1</td>\n",
       "      <td>0</td>\n",
       "      <td>1</td>\n",
       "      <td>0</td>\n",
       "      <td>0</td>\n",
       "      <td>0</td>\n",
       "    </tr>\n",
       "    <tr>\n",
       "      <th>210650</th>\n",
       "      <td>25.08</td>\n",
       "      <td>38</td>\n",
       "      <td>0</td>\n",
       "      <td>1</td>\n",
       "      <td>0</td>\n",
       "      <td>0</td>\n",
       "      <td>0</td>\n",
       "      <td>0</td>\n",
       "      <td>0</td>\n",
       "      <td>0</td>\n",
       "      <td>...</td>\n",
       "      <td>0</td>\n",
       "      <td>0</td>\n",
       "      <td>0</td>\n",
       "      <td>0</td>\n",
       "      <td>1</td>\n",
       "      <td>0</td>\n",
       "      <td>1</td>\n",
       "      <td>0</td>\n",
       "      <td>0</td>\n",
       "      <td>0</td>\n",
       "    </tr>\n",
       "    <tr>\n",
       "      <th>38033</th>\n",
       "      <td>25.92</td>\n",
       "      <td>20</td>\n",
       "      <td>0</td>\n",
       "      <td>1</td>\n",
       "      <td>0</td>\n",
       "      <td>0</td>\n",
       "      <td>0</td>\n",
       "      <td>0</td>\n",
       "      <td>0</td>\n",
       "      <td>0</td>\n",
       "      <td>...</td>\n",
       "      <td>0</td>\n",
       "      <td>0</td>\n",
       "      <td>0</td>\n",
       "      <td>0</td>\n",
       "      <td>1</td>\n",
       "      <td>0</td>\n",
       "      <td>1</td>\n",
       "      <td>0</td>\n",
       "      <td>0</td>\n",
       "      <td>1</td>\n",
       "    </tr>\n",
       "    <tr>\n",
       "      <th>270667</th>\n",
       "      <td>21.42</td>\n",
       "      <td>11</td>\n",
       "      <td>0</td>\n",
       "      <td>0</td>\n",
       "      <td>0</td>\n",
       "      <td>0</td>\n",
       "      <td>0</td>\n",
       "      <td>1</td>\n",
       "      <td>0</td>\n",
       "      <td>0</td>\n",
       "      <td>...</td>\n",
       "      <td>0</td>\n",
       "      <td>0</td>\n",
       "      <td>0</td>\n",
       "      <td>0</td>\n",
       "      <td>1</td>\n",
       "      <td>0</td>\n",
       "      <td>1</td>\n",
       "      <td>0</td>\n",
       "      <td>0</td>\n",
       "      <td>0</td>\n",
       "    </tr>\n",
       "    <tr>\n",
       "      <th>248464</th>\n",
       "      <td>10.25</td>\n",
       "      <td>47</td>\n",
       "      <td>0</td>\n",
       "      <td>0</td>\n",
       "      <td>0</td>\n",
       "      <td>0</td>\n",
       "      <td>0</td>\n",
       "      <td>1</td>\n",
       "      <td>1</td>\n",
       "      <td>0</td>\n",
       "      <td>...</td>\n",
       "      <td>0</td>\n",
       "      <td>1</td>\n",
       "      <td>0</td>\n",
       "      <td>0</td>\n",
       "      <td>0</td>\n",
       "      <td>0</td>\n",
       "      <td>1</td>\n",
       "      <td>0</td>\n",
       "      <td>0</td>\n",
       "      <td>0</td>\n",
       "    </tr>\n",
       "  </tbody>\n",
       "</table>\n",
       "<p>5 rows × 24 columns</p>\n",
       "</div>"
      ],
      "text/plain": [
       "        duration  days_left  airline_AirAsia  airline_Air_India  \\\n",
       "298245     26.50          7                0                  0   \n",
       "210650     25.08         38                0                  1   \n",
       "38033      25.92         20                0                  1   \n",
       "270667     21.42         11                0                  0   \n",
       "248464     10.25         47                0                  0   \n",
       "\n",
       "        airline_GO_FIRST  airline_Indigo  airline_SpiceJet  airline_Vistara  \\\n",
       "298245                 0               0                 0                1   \n",
       "210650                 0               0                 0                0   \n",
       "38033                  0               0                 0                0   \n",
       "270667                 0               0                 0                1   \n",
       "248464                 0               0                 0                1   \n",
       "\n",
       "        source_city_Bangalore  source_city_Chennai  ...  \\\n",
       "298245                      0                    1  ...   \n",
       "210650                      0                    0  ...   \n",
       "38033                       0                    0  ...   \n",
       "270667                      0                    0  ...   \n",
       "248464                      1                    0  ...   \n",
       "\n",
       "        departure_time_Afternoon  departure_time_Early_Morning  \\\n",
       "298245                         0                             0   \n",
       "210650                         0                             0   \n",
       "38033                          0                             0   \n",
       "270667                         0                             0   \n",
       "248464                         0                             1   \n",
       "\n",
       "        departure_time_Evening  departure_time_Late_Night  \\\n",
       "298245                       0                          0   \n",
       "210650                       0                          0   \n",
       "38033                        0                          0   \n",
       "270667                       0                          0   \n",
       "248464                       0                          0   \n",
       "\n",
       "        departure_time_Morning  departure_time_Night  stops_one  \\\n",
       "298245                       1                     0          1   \n",
       "210650                       1                     0          1   \n",
       "38033                        1                     0          1   \n",
       "270667                       1                     0          1   \n",
       "248464                       0                     0          1   \n",
       "\n",
       "        stops_two_or_more  stops_zero  class_Economy  \n",
       "298245                  0           0              0  \n",
       "210650                  0           0              0  \n",
       "38033                   0           0              1  \n",
       "270667                  0           0              0  \n",
       "248464                  0           0              0  \n",
       "\n",
       "[5 rows x 24 columns]"
      ]
     },
     "execution_count": 90,
     "metadata": {},
     "output_type": "execute_result"
    }
   ],
   "source": [
    "X_train.head()"
   ]
  },
  {
   "cell_type": "code",
   "execution_count": 91,
   "id": "3555caf3",
   "metadata": {
    "execution": {
     "iopub.execute_input": "2022-07-29T17:21:03.284269Z",
     "iopub.status.busy": "2022-07-29T17:21:03.283951Z",
     "iopub.status.idle": "2022-07-29T17:21:03.330368Z",
     "shell.execute_reply": "2022-07-29T17:21:03.329262Z"
    },
    "papermill": {
     "duration": 0.0962,
     "end_time": "2022-07-29T17:21:03.333418",
     "exception": false,
     "start_time": "2022-07-29T17:21:03.237218",
     "status": "completed"
    },
    "tags": []
   },
   "outputs": [
    {
     "data": {
      "text/plain": [
       "array([[55573.96892426],\n",
       "       [44843.44391832],\n",
       "       [ 7834.98379964],\n",
       "       [56785.12663242],\n",
       "       [51683.16891261],\n",
       "       [51458.36591671],\n",
       "       [ 9039.14869856],\n",
       "       [  746.7422485 ],\n",
       "       [  366.33524959],\n",
       "       [ 1018.95695564]])"
      ]
     },
     "execution_count": 91,
     "metadata": {},
     "output_type": "execute_result"
    }
   ],
   "source": [
    "pls_model.predict(X_train)[0:10]"
   ]
  },
  {
   "cell_type": "code",
   "execution_count": 92,
   "id": "ae757e92",
   "metadata": {
    "execution": {
     "iopub.execute_input": "2022-07-29T17:21:03.480345Z",
     "iopub.status.busy": "2022-07-29T17:21:03.480039Z",
     "iopub.status.idle": "2022-07-29T17:21:03.489034Z",
     "shell.execute_reply": "2022-07-29T17:21:03.488167Z"
    },
    "papermill": {
     "duration": 0.074152,
     "end_time": "2022-07-29T17:21:03.490889",
     "exception": false,
     "start_time": "2022-07-29T17:21:03.416737",
     "status": "completed"
    },
    "tags": []
   },
   "outputs": [
    {
     "data": {
      "text/html": [
       "<div>\n",
       "<style scoped>\n",
       "    .dataframe tbody tr th:only-of-type {\n",
       "        vertical-align: middle;\n",
       "    }\n",
       "\n",
       "    .dataframe tbody tr th {\n",
       "        vertical-align: top;\n",
       "    }\n",
       "\n",
       "    .dataframe thead th {\n",
       "        text-align: right;\n",
       "    }\n",
       "</style>\n",
       "<table border=\"1\" class=\"dataframe\">\n",
       "  <thead>\n",
       "    <tr style=\"text-align: right;\">\n",
       "      <th></th>\n",
       "      <th>price</th>\n",
       "    </tr>\n",
       "  </thead>\n",
       "  <tbody>\n",
       "    <tr>\n",
       "      <th>298245</th>\n",
       "      <td>41064</td>\n",
       "    </tr>\n",
       "    <tr>\n",
       "      <th>210650</th>\n",
       "      <td>29776</td>\n",
       "    </tr>\n",
       "    <tr>\n",
       "      <th>38033</th>\n",
       "      <td>4251</td>\n",
       "    </tr>\n",
       "    <tr>\n",
       "      <th>270667</th>\n",
       "      <td>49207</td>\n",
       "    </tr>\n",
       "    <tr>\n",
       "      <th>248464</th>\n",
       "      <td>54841</td>\n",
       "    </tr>\n",
       "    <tr>\n",
       "      <th>244210</th>\n",
       "      <td>69885</td>\n",
       "    </tr>\n",
       "    <tr>\n",
       "      <th>45616</th>\n",
       "      <td>13031</td>\n",
       "    </tr>\n",
       "    <tr>\n",
       "      <th>133471</th>\n",
       "      <td>6566</td>\n",
       "    </tr>\n",
       "    <tr>\n",
       "      <th>37824</th>\n",
       "      <td>3918</td>\n",
       "    </tr>\n",
       "    <tr>\n",
       "      <th>199994</th>\n",
       "      <td>6985</td>\n",
       "    </tr>\n",
       "  </tbody>\n",
       "</table>\n",
       "</div>"
      ],
      "text/plain": [
       "        price\n",
       "298245  41064\n",
       "210650  29776\n",
       "38033    4251\n",
       "270667  49207\n",
       "248464  54841\n",
       "244210  69885\n",
       "45616   13031\n",
       "133471   6566\n",
       "37824    3918\n",
       "199994   6985"
      ]
     },
     "execution_count": 92,
     "metadata": {},
     "output_type": "execute_result"
    }
   ],
   "source": [
    "y_train[0:10].to_frame()"
   ]
  },
  {
   "cell_type": "code",
   "execution_count": 93,
   "id": "d94086a6",
   "metadata": {
    "execution": {
     "iopub.execute_input": "2022-07-29T17:21:03.580600Z",
     "iopub.status.busy": "2022-07-29T17:21:03.579829Z",
     "iopub.status.idle": "2022-07-29T17:21:03.624061Z",
     "shell.execute_reply": "2022-07-29T17:21:03.622884Z"
    },
    "papermill": {
     "duration": 0.092208,
     "end_time": "2022-07-29T17:21:03.627356",
     "exception": false,
     "start_time": "2022-07-29T17:21:03.535148",
     "status": "completed"
    },
    "tags": []
   },
   "outputs": [],
   "source": [
    "y_pred = pls_model.predict(X_train)"
   ]
  },
  {
   "cell_type": "code",
   "execution_count": 94,
   "id": "33778077",
   "metadata": {
    "execution": {
     "iopub.execute_input": "2022-07-29T17:21:03.776388Z",
     "iopub.status.busy": "2022-07-29T17:21:03.776061Z",
     "iopub.status.idle": "2022-07-29T17:21:03.784427Z",
     "shell.execute_reply": "2022-07-29T17:21:03.783459Z"
    },
    "papermill": {
     "duration": 0.076195,
     "end_time": "2022-07-29T17:21:03.786392",
     "exception": false,
     "start_time": "2022-07-29T17:21:03.710197",
     "status": "completed"
    },
    "tags": []
   },
   "outputs": [
    {
     "data": {
      "text/plain": [
       "8197.637351873536"
      ]
     },
     "execution_count": 94,
     "metadata": {},
     "output_type": "execute_result"
    }
   ],
   "source": [
    "np.sqrt(mean_squared_error(y_train, y_pred))"
   ]
  },
  {
   "cell_type": "code",
   "execution_count": 95,
   "id": "b1c93779",
   "metadata": {
    "execution": {
     "iopub.execute_input": "2022-07-29T17:21:03.877238Z",
     "iopub.status.busy": "2022-07-29T17:21:03.876428Z",
     "iopub.status.idle": "2022-07-29T17:21:03.891494Z",
     "shell.execute_reply": "2022-07-29T17:21:03.890524Z"
    },
    "papermill": {
     "duration": 0.062615,
     "end_time": "2022-07-29T17:21:03.893892",
     "exception": false,
     "start_time": "2022-07-29T17:21:03.831277",
     "status": "completed"
    },
    "tags": []
   },
   "outputs": [],
   "source": [
    "y_pred = pls_model.predict(X_test)"
   ]
  },
  {
   "cell_type": "code",
   "execution_count": 96,
   "id": "a1441613",
   "metadata": {
    "execution": {
     "iopub.execute_input": "2022-07-29T17:21:04.043918Z",
     "iopub.status.busy": "2022-07-29T17:21:04.043046Z",
     "iopub.status.idle": "2022-07-29T17:21:04.050856Z",
     "shell.execute_reply": "2022-07-29T17:21:04.049894Z"
    },
    "papermill": {
     "duration": 0.075544,
     "end_time": "2022-07-29T17:21:04.052799",
     "exception": false,
     "start_time": "2022-07-29T17:21:03.977255",
     "status": "completed"
    },
    "tags": []
   },
   "outputs": [
    {
     "data": {
      "text/plain": [
       "8162.733623582887"
      ]
     },
     "execution_count": 96,
     "metadata": {},
     "output_type": "execute_result"
    }
   ],
   "source": [
    "np.sqrt(mean_squared_error(y_test, y_pred))"
   ]
  },
  {
   "cell_type": "code",
   "execution_count": 97,
   "id": "11e3a0d6",
   "metadata": {
    "execution": {
     "iopub.execute_input": "2022-07-29T17:21:04.142768Z",
     "iopub.status.busy": "2022-07-29T17:21:04.141942Z",
     "iopub.status.idle": "2022-07-29T17:21:04.149540Z",
     "shell.execute_reply": "2022-07-29T17:21:04.148584Z"
    },
    "papermill": {
     "duration": 0.054428,
     "end_time": "2022-07-29T17:21:04.151538",
     "exception": false,
     "start_time": "2022-07-29T17:21:04.097110",
     "status": "completed"
    },
    "tags": []
   },
   "outputs": [
    {
     "data": {
      "text/plain": [
       "20889.660523133203"
      ]
     },
     "execution_count": 97,
     "metadata": {},
     "output_type": "execute_result"
    }
   ],
   "source": [
    "df1[\"price\"].mean()"
   ]
  },
  {
   "cell_type": "markdown",
   "id": "3cdd13a9",
   "metadata": {
    "papermill": {
     "duration": 0.045195,
     "end_time": "2022-07-29T17:21:04.241536",
     "exception": false,
     "start_time": "2022-07-29T17:21:04.196341",
     "status": "completed"
    },
    "tags": []
   },
   "source": [
    "## Model Tuning"
   ]
  },
  {
   "cell_type": "code",
   "execution_count": 98,
   "id": "f663a490",
   "metadata": {
    "execution": {
     "iopub.execute_input": "2022-07-29T17:21:04.333261Z",
     "iopub.status.busy": "2022-07-29T17:21:04.332686Z",
     "iopub.status.idle": "2022-07-29T17:25:25.356381Z",
     "shell.execute_reply": "2022-07-29T17:25:25.355481Z"
    },
    "papermill": {
     "duration": 261.117139,
     "end_time": "2022-07-29T17:25:25.404136",
     "exception": false,
     "start_time": "2022-07-29T17:21:04.286997",
     "status": "completed"
    },
    "tags": []
   },
   "outputs": [
    {
     "data": {
      "image/png": "[encoded data removed]",
      "text/plain": [
       "<Figure size 432x288 with 1 Axes>"
      ]
     },
     "metadata": {
      "needs_background": "light"
     },
     "output_type": "display_data"
    }
   ],
   "source": [
    "#CV\n",
    "cv_10 = model_selection.KFold(n_splits=10, shuffle=True, random_state=1)\n",
    "\n",
    "# Loop for calculating error\n",
    "RMSE = []\n",
    "\n",
    "for i in np.arange(1, X_train.shape[1] + 1):\n",
    "    pls = PLSRegression(n_components=i)\n",
    "    score = np.sqrt(-1*cross_val_score(pls, X_train, y_train, cv=cv_10, scoring='neg_mean_squared_error').mean())\n",
    "    RMSE.append(score)\n",
    "\n",
    "# Visualization of results\n",
    "plt.plot(np.arange(1, X_train.shape[1] + 1), np.array(RMSE), '-v', c = \"r\")\n",
    "plt.xlabel('Number of Components')\n",
    "plt.ylabel('RMSE')\n",
    "plt.title('Price');"
   ]
  },
  {
   "cell_type": "code",
   "execution_count": 99,
   "id": "47ad470c",
   "metadata": {
    "execution": {
     "iopub.execute_input": "2022-07-29T17:25:25.496663Z",
     "iopub.status.busy": "2022-07-29T17:25:25.496322Z",
     "iopub.status.idle": "2022-07-29T17:25:27.119736Z",
     "shell.execute_reply": "2022-07-29T17:25:27.118514Z"
    },
    "papermill": {
     "duration": 1.673347,
     "end_time": "2022-07-29T17:25:27.123111",
     "exception": false,
     "start_time": "2022-07-29T17:25:25.449764",
     "status": "completed"
    },
    "tags": []
   },
   "outputs": [],
   "source": [
    "pls_model = PLSRegression(n_components = 20).fit(X_train, y_train)"
   ]
  },
  {
   "cell_type": "code",
   "execution_count": 100,
   "id": "d938e5a3",
   "metadata": {
    "execution": {
     "iopub.execute_input": "2022-07-29T17:25:27.284847Z",
     "iopub.status.busy": "2022-07-29T17:25:27.283909Z",
     "iopub.status.idle": "2022-07-29T17:25:27.302038Z",
     "shell.execute_reply": "2022-07-29T17:25:27.300890Z"
    },
    "papermill": {
     "duration": 0.070375,
     "end_time": "2022-07-29T17:25:27.305149",
     "exception": false,
     "start_time": "2022-07-29T17:25:27.234774",
     "status": "completed"
    },
    "tags": []
   },
   "outputs": [],
   "source": [
    "y_pred = pls_model.predict(X_test)"
   ]
  },
  {
   "cell_type": "code",
   "execution_count": 101,
   "id": "9997e8a2",
   "metadata": {
    "execution": {
     "iopub.execute_input": "2022-07-29T17:25:27.456466Z",
     "iopub.status.busy": "2022-07-29T17:25:27.455574Z",
     "iopub.status.idle": "2022-07-29T17:25:27.463950Z",
     "shell.execute_reply": "2022-07-29T17:25:27.462988Z"
    },
    "papermill": {
     "duration": 0.076009,
     "end_time": "2022-07-29T17:25:27.465901",
     "exception": false,
     "start_time": "2022-07-29T17:25:27.389892",
     "status": "completed"
    },
    "tags": []
   },
   "outputs": [
    {
     "data": {
      "text/plain": [
       "6850.375744605577"
      ]
     },
     "execution_count": 101,
     "metadata": {},
     "output_type": "execute_result"
    }
   ],
   "source": [
    "np.sqrt(mean_squared_error(y_test, y_pred))"
   ]
  },
  {
   "cell_type": "markdown",
   "id": "4767899b",
   "metadata": {
    "papermill": {
     "duration": 0.043866,
     "end_time": "2022-07-29T17:25:27.554143",
     "exception": false,
     "start_time": "2022-07-29T17:25:27.510277",
     "status": "completed"
    },
    "tags": []
   },
   "source": [
    "# Ridge Regression"
   ]
  },
  {
   "cell_type": "markdown",
   "id": "8c8e1d70",
   "metadata": {
    "papermill": {
     "duration": 0.044628,
     "end_time": "2022-07-29T17:25:27.644576",
     "exception": false,
     "start_time": "2022-07-29T17:25:27.599948",
     "status": "completed"
    },
    "tags": []
   },
   "source": [
    "## Model"
   ]
  },
  {
   "cell_type": "code",
   "execution_count": 102,
   "id": "cc9d69e4",
   "metadata": {
    "execution": {
     "iopub.execute_input": "2022-07-29T17:25:27.736096Z",
     "iopub.status.busy": "2022-07-29T17:25:27.735172Z",
     "iopub.status.idle": "2022-07-29T17:25:27.809906Z",
     "shell.execute_reply": "2022-07-29T17:25:27.808886Z"
    },
    "papermill": {
     "duration": 0.123637,
     "end_time": "2022-07-29T17:25:27.812627",
     "exception": false,
     "start_time": "2022-07-29T17:25:27.688990",
     "status": "completed"
    },
    "tags": []
   },
   "outputs": [
    {
     "name": "stdout",
     "output_type": "stream",
     "text": [
      "X_train (225114, 24)\n",
      "y_train (225114,)\n",
      "X_test (75039, 24)\n",
      "y_test (75039,)\n",
      "training (300153, 25)\n"
     ]
    }
   ],
   "source": [
    "X_train, X_test, y_train, y_test = train_test_split(X, \n",
    "                                                    y, \n",
    "                                                    test_size=0.25, \n",
    "                                                    random_state=42)\n",
    "\n",
    "print(\"X_train\", X_train.shape)\n",
    "\n",
    "print(\"y_train\",y_train.shape)\n",
    "\n",
    "print(\"X_test\",X_test.shape)\n",
    "\n",
    "print(\"y_test\",y_test.shape)\n",
    "\n",
    "training = df1.copy()\n",
    "\n",
    "print(\"training\", training.shape)"
   ]
  },
  {
   "cell_type": "code",
   "execution_count": 103,
   "id": "8907d20d",
   "metadata": {
    "execution": {
     "iopub.execute_input": "2022-07-29T17:25:27.908410Z",
     "iopub.status.busy": "2022-07-29T17:25:27.907542Z",
     "iopub.status.idle": "2022-07-29T17:25:27.912251Z",
     "shell.execute_reply": "2022-07-29T17:25:27.911274Z"
    },
    "papermill": {
     "duration": 0.055447,
     "end_time": "2022-07-29T17:25:27.914191",
     "exception": false,
     "start_time": "2022-07-29T17:25:27.858744",
     "status": "completed"
    },
    "tags": []
   },
   "outputs": [],
   "source": [
    "from sklearn.linear_model import Ridge"
   ]
  },
  {
   "cell_type": "code",
   "execution_count": 104,
   "id": "5cb39445",
   "metadata": {
    "execution": {
     "iopub.execute_input": "2022-07-29T17:25:28.006924Z",
     "iopub.status.busy": "2022-07-29T17:25:28.005936Z",
     "iopub.status.idle": "2022-07-29T17:25:28.075708Z",
     "shell.execute_reply": "2022-07-29T17:25:28.074555Z"
    },
    "papermill": {
     "duration": 0.119217,
     "end_time": "2022-07-29T17:25:28.078983",
     "exception": false,
     "start_time": "2022-07-29T17:25:27.959766",
     "status": "completed"
    },
    "tags": []
   },
   "outputs": [
    {
     "data": {
      "text/plain": [
       "Ridge(alpha=0.1)"
      ]
     },
     "execution_count": 104,
     "metadata": {},
     "output_type": "execute_result"
    }
   ],
   "source": [
    "ridge_model = Ridge(alpha = 0.1).fit(X_train, y_train)\n",
    "ridge_model"
   ]
  },
  {
   "cell_type": "code",
   "execution_count": 105,
   "id": "ada6707f",
   "metadata": {
    "execution": {
     "iopub.execute_input": "2022-07-29T17:25:28.234282Z",
     "iopub.status.busy": "2022-07-29T17:25:28.233607Z",
     "iopub.status.idle": "2022-07-29T17:25:28.240342Z",
     "shell.execute_reply": "2022-07-29T17:25:28.239466Z"
    },
    "papermill": {
     "duration": 0.069635,
     "end_time": "2022-07-29T17:25:28.242300",
     "exception": false,
     "start_time": "2022-07-29T17:25:28.172665",
     "status": "completed"
    },
    "tags": []
   },
   "outputs": [
    {
     "data": {
      "text/plain": [
       "array([    46.58245725,   -131.28977254,  -1817.64140501,  -1664.92360776,\n",
       "          -97.37826985,    497.15903333,    740.12140099,   2342.66280268,\n",
       "          154.56577971,    167.14062245,   -855.5831638 ,  -1087.48807661,\n",
       "         1559.51840184,     61.84643637,   -584.19614613,     61.9167957 ,\n",
       "           52.59476369,    490.54412426,    169.64176025,   -190.50129139,\n",
       "         1796.76635173,   4261.09539445,  -6057.86175123, -44989.55470974])"
      ]
     },
     "execution_count": 105,
     "metadata": {},
     "output_type": "execute_result"
    }
   ],
   "source": [
    "ridge_model.coef_"
   ]
  },
  {
   "cell_type": "code",
   "execution_count": 106,
   "id": "64b1b0e5",
   "metadata": {
    "execution": {
     "iopub.execute_input": "2022-07-29T17:25:28.338685Z",
     "iopub.status.busy": "2022-07-29T17:25:28.337773Z",
     "iopub.status.idle": "2022-07-29T17:25:28.346716Z",
     "shell.execute_reply": "2022-07-29T17:25:28.345441Z"
    },
    "papermill": {
     "duration": 0.060241,
     "end_time": "2022-07-29T17:25:28.348982",
     "exception": false,
     "start_time": "2022-07-29T17:25:28.288741",
     "status": "completed"
    },
    "tags": []
   },
   "outputs": [
    {
     "data": {
      "text/plain": [
       "array([5.00000000e+09, 3.78231664e+09, 2.86118383e+09, 2.16438064e+09,\n",
       "       1.63727458e+09, 1.23853818e+09, 9.36908711e+08, 7.08737081e+08,\n",
       "       5.36133611e+08, 4.05565415e+08, 3.06795364e+08, 2.32079442e+08,\n",
       "       1.75559587e+08, 1.32804389e+08, 1.00461650e+08, 7.59955541e+07,\n",
       "       5.74878498e+07, 4.34874501e+07, 3.28966612e+07, 2.48851178e+07,\n",
       "       1.88246790e+07, 1.42401793e+07, 1.07721735e+07, 8.14875417e+06,\n",
       "       6.16423370e+06, 4.66301673e+06, 3.52740116e+06, 2.66834962e+06,\n",
       "       2.01850863e+06, 1.52692775e+06, 1.15506485e+06, 8.73764200e+05,\n",
       "       6.60970574e+05, 5.00000000e+05, 3.78231664e+05, 2.86118383e+05,\n",
       "       2.16438064e+05, 1.63727458e+05, 1.23853818e+05, 9.36908711e+04,\n",
       "       7.08737081e+04, 5.36133611e+04, 4.05565415e+04, 3.06795364e+04,\n",
       "       2.32079442e+04, 1.75559587e+04, 1.32804389e+04, 1.00461650e+04,\n",
       "       7.59955541e+03, 5.74878498e+03, 4.34874501e+03, 3.28966612e+03,\n",
       "       2.48851178e+03, 1.88246790e+03, 1.42401793e+03, 1.07721735e+03,\n",
       "       8.14875417e+02, 6.16423370e+02, 4.66301673e+02, 3.52740116e+02,\n",
       "       2.66834962e+02, 2.01850863e+02, 1.52692775e+02, 1.15506485e+02,\n",
       "       8.73764200e+01, 6.60970574e+01, 5.00000000e+01, 3.78231664e+01,\n",
       "       2.86118383e+01, 2.16438064e+01, 1.63727458e+01, 1.23853818e+01,\n",
       "       9.36908711e+00, 7.08737081e+00, 5.36133611e+00, 4.05565415e+00,\n",
       "       3.06795364e+00, 2.32079442e+00, 1.75559587e+00, 1.32804389e+00,\n",
       "       1.00461650e+00, 7.59955541e-01, 5.74878498e-01, 4.34874501e-01,\n",
       "       3.28966612e-01, 2.48851178e-01, 1.88246790e-01, 1.42401793e-01,\n",
       "       1.07721735e-01, 8.14875417e-02, 6.16423370e-02, 4.66301673e-02,\n",
       "       3.52740116e-02, 2.66834962e-02, 2.01850863e-02, 1.52692775e-02,\n",
       "       1.15506485e-02, 8.73764200e-03, 6.60970574e-03, 5.00000000e-03])"
      ]
     },
     "execution_count": 106,
     "metadata": {},
     "output_type": "execute_result"
    }
   ],
   "source": [
    "10**np.linspace(10,-2,100)*0.5 "
   ]
  },
  {
   "cell_type": "code",
   "execution_count": 107,
   "id": "20069650",
   "metadata": {
    "execution": {
     "iopub.execute_input": "2022-07-29T17:25:28.452166Z",
     "iopub.status.busy": "2022-07-29T17:25:28.451461Z",
     "iopub.status.idle": "2022-07-29T17:25:37.858053Z",
     "shell.execute_reply": "2022-07-29T17:25:37.857133Z"
    },
    "papermill": {
     "duration": 9.462112,
     "end_time": "2022-07-29T17:25:37.860106",
     "exception": false,
     "start_time": "2022-07-29T17:25:28.397994",
     "status": "completed"
    },
    "tags": []
   },
   "outputs": [
    {
     "data": {
      "image/png": "[encoded data removed]",
      "text/plain": [
       "<Figure size 432x288 with 1 Axes>"
      ]
     },
     "metadata": {
      "needs_background": "light"
     },
     "output_type": "display_data"
    }
   ],
   "source": [
    "lambdas = 10**np.linspace(10,-2,100)*0.5 \n",
    "\n",
    "ridge_model = Ridge()\n",
    "coefficients = []\n",
    "\n",
    "for i in lambdas:\n",
    "    ridge_model.set_params(alpha = i)\n",
    "    ridge_model.fit(X_train, y_train) \n",
    "    coefficients.append(ridge_model.coef_) \n",
    "    \n",
    "\n",
    "    \n",
    "ax = plt.gca()\n",
    "ax.plot(lambdas, coefficients) \n",
    "ax.set_xscale('log') \n",
    "\n",
    "plt.xlabel('Lambda(Alpha) Values')\n",
    "plt.ylabel('Coefficients/Weights')\n",
    "plt.title('Ridge Coefficients as a Function of Regularization');"
   ]
  },
  {
   "cell_type": "markdown",
   "id": "f9d17b06",
   "metadata": {
    "papermill": {
     "duration": 0.045112,
     "end_time": "2022-07-29T17:25:37.951664",
     "exception": false,
     "start_time": "2022-07-29T17:25:37.906552",
     "status": "completed"
    },
    "tags": []
   },
   "source": [
    "## Prediction"
   ]
  },
  {
   "cell_type": "code",
   "execution_count": 108,
   "id": "eecf87fa",
   "metadata": {
    "execution": {
     "iopub.execute_input": "2022-07-29T17:25:38.050497Z",
     "iopub.status.busy": "2022-07-29T17:25:38.049673Z",
     "iopub.status.idle": "2022-07-29T17:25:38.061917Z",
     "shell.execute_reply": "2022-07-29T17:25:38.060755Z"
    },
    "papermill": {
     "duration": 0.066656,
     "end_time": "2022-07-29T17:25:38.064478",
     "exception": false,
     "start_time": "2022-07-29T17:25:37.997822",
     "status": "completed"
    },
    "tags": []
   },
   "outputs": [],
   "source": [
    "y_pred = ridge_model.predict(X_test)"
   ]
  },
  {
   "cell_type": "code",
   "execution_count": 109,
   "id": "e779a4e1",
   "metadata": {
    "execution": {
     "iopub.execute_input": "2022-07-29T17:25:38.230487Z",
     "iopub.status.busy": "2022-07-29T17:25:38.230062Z",
     "iopub.status.idle": "2022-07-29T17:25:38.238734Z",
     "shell.execute_reply": "2022-07-29T17:25:38.237743Z"
    },
    "papermill": {
     "duration": 0.075668,
     "end_time": "2022-07-29T17:25:38.240839",
     "exception": false,
     "start_time": "2022-07-29T17:25:38.165171",
     "status": "completed"
    },
    "tags": []
   },
   "outputs": [
    {
     "data": {
      "text/plain": [
       "6850.375735769451"
      ]
     },
     "execution_count": 109,
     "metadata": {},
     "output_type": "execute_result"
    }
   ],
   "source": [
    "np.sqrt(mean_squared_error(y_test, y_pred))"
   ]
  },
  {
   "cell_type": "markdown",
   "id": "4f8f666b",
   "metadata": {
    "papermill": {
     "duration": 0.086287,
     "end_time": "2022-07-29T17:25:38.375925",
     "exception": false,
     "start_time": "2022-07-29T17:25:38.289638",
     "status": "completed"
    },
    "tags": []
   },
   "source": [
    "## Model Tuning"
   ]
  },
  {
   "cell_type": "code",
   "execution_count": 110,
   "id": "0b71b153",
   "metadata": {
    "execution": {
     "iopub.execute_input": "2022-07-29T17:25:38.471722Z",
     "iopub.status.busy": "2022-07-29T17:25:38.470620Z",
     "iopub.status.idle": "2022-07-29T17:25:38.476954Z",
     "shell.execute_reply": "2022-07-29T17:25:38.475944Z"
    },
    "papermill": {
     "duration": 0.05802,
     "end_time": "2022-07-29T17:25:38.479239",
     "exception": false,
     "start_time": "2022-07-29T17:25:38.421219",
     "status": "completed"
    },
    "tags": []
   },
   "outputs": [],
   "source": [
    "from sklearn.linear_model import RidgeCV\n",
    "ridge_cv = RidgeCV(alphas = lambdas, \n",
    "                   scoring = \"neg_mean_squared_error\",\n",
    "                   normalize = True)"
   ]
  },
  {
   "cell_type": "code",
   "execution_count": 111,
   "id": "fc9d96ab",
   "metadata": {
    "execution": {
     "iopub.execute_input": "2022-07-29T17:25:38.576456Z",
     "iopub.status.busy": "2022-07-29T17:25:38.575851Z",
     "iopub.status.idle": "2022-07-29T17:25:45.530166Z",
     "shell.execute_reply": "2022-07-29T17:25:45.529229Z"
    },
    "papermill": {
     "duration": 7.004998,
     "end_time": "2022-07-29T17:25:45.533012",
     "exception": false,
     "start_time": "2022-07-29T17:25:38.528014",
     "status": "completed"
    },
    "tags": []
   },
   "outputs": [
    {
     "data": {
      "text/plain": [
       "RidgeCV(alphas=array([5.00000000e+09, 3.78231664e+09, 2.86118383e+09, 2.16438064e+09,\n",
       "       1.63727458e+09, 1.23853818e+09, 9.36908711e+08, 7.08737081e+08,\n",
       "       5.36133611e+08, 4.05565415e+08, 3.06795364e+08, 2.32079442e+08,\n",
       "       1.75559587e+08, 1.32804389e+08, 1.00461650e+08, 7.59955541e+07,\n",
       "       5.74878498e+07, 4.34874501e+07, 3.28966612e+07, 2.48851178e+07,\n",
       "       1.88246790e+07, 1.42401793e+0...\n",
       "       1.00461650e+00, 7.59955541e-01, 5.74878498e-01, 4.34874501e-01,\n",
       "       3.28966612e-01, 2.48851178e-01, 1.88246790e-01, 1.42401793e-01,\n",
       "       1.07721735e-01, 8.14875417e-02, 6.16423370e-02, 4.66301673e-02,\n",
       "       3.52740116e-02, 2.66834962e-02, 2.01850863e-02, 1.52692775e-02,\n",
       "       1.15506485e-02, 8.73764200e-03, 6.60970574e-03, 5.00000000e-03]),\n",
       "        normalize=True, scoring='neg_mean_squared_error')"
      ]
     },
     "execution_count": 111,
     "metadata": {},
     "output_type": "execute_result"
    }
   ],
   "source": [
    "ridge_cv.fit(X_train, y_train)"
   ]
  },
  {
   "cell_type": "code",
   "execution_count": 112,
   "id": "34096792",
   "metadata": {
    "execution": {
     "iopub.execute_input": "2022-07-29T17:25:45.680532Z",
     "iopub.status.busy": "2022-07-29T17:25:45.680236Z",
     "iopub.status.idle": "2022-07-29T17:25:45.686385Z",
     "shell.execute_reply": "2022-07-29T17:25:45.685372Z"
    },
    "papermill": {
     "duration": 0.066861,
     "end_time": "2022-07-29T17:25:45.689003",
     "exception": false,
     "start_time": "2022-07-29T17:25:45.622142",
     "status": "completed"
    },
    "tags": []
   },
   "outputs": [
    {
     "data": {
      "text/plain": [
       "0.005"
      ]
     },
     "execution_count": 112,
     "metadata": {},
     "output_type": "execute_result"
    }
   ],
   "source": [
    "ridge_cv.alpha_"
   ]
  },
  {
   "cell_type": "code",
   "execution_count": 113,
   "id": "ca16ccb5",
   "metadata": {
    "execution": {
     "iopub.execute_input": "2022-07-29T17:25:45.782148Z",
     "iopub.status.busy": "2022-07-29T17:25:45.781841Z",
     "iopub.status.idle": "2022-07-29T17:25:45.879420Z",
     "shell.execute_reply": "2022-07-29T17:25:45.878166Z"
    },
    "papermill": {
     "duration": 0.147562,
     "end_time": "2022-07-29T17:25:45.882857",
     "exception": false,
     "start_time": "2022-07-29T17:25:45.735295",
     "status": "completed"
    },
    "tags": []
   },
   "outputs": [],
   "source": [
    "ridge_tuned = Ridge(alpha = ridge_cv.alpha_, \n",
    "                   normalize = True).fit(X_train,y_train)"
   ]
  },
  {
   "cell_type": "code",
   "execution_count": 114,
   "id": "7db33ad6",
   "metadata": {
    "execution": {
     "iopub.execute_input": "2022-07-29T17:25:46.036323Z",
     "iopub.status.busy": "2022-07-29T17:25:46.035995Z",
     "iopub.status.idle": "2022-07-29T17:25:46.051024Z",
     "shell.execute_reply": "2022-07-29T17:25:46.049676Z"
    },
    "papermill": {
     "duration": 0.08207,
     "end_time": "2022-07-29T17:25:46.053819",
     "exception": false,
     "start_time": "2022-07-29T17:25:45.971749",
     "status": "completed"
    },
    "tags": []
   },
   "outputs": [
    {
     "data": {
      "text/plain": [
       "6851.02325041194"
      ]
     },
     "execution_count": 114,
     "metadata": {},
     "output_type": "execute_result"
    }
   ],
   "source": [
    "np.sqrt(mean_squared_error(y_test, ridge_tuned.predict(X_test)))"
   ]
  },
  {
   "cell_type": "markdown",
   "id": "40b7f75d",
   "metadata": {
    "papermill": {
     "duration": 0.06286,
     "end_time": "2022-07-29T17:25:46.204303",
     "exception": false,
     "start_time": "2022-07-29T17:25:46.141443",
     "status": "completed"
    },
    "tags": []
   },
   "source": [
    "# Lasso Regression"
   ]
  },
  {
   "cell_type": "markdown",
   "id": "0743d218",
   "metadata": {
    "papermill": {
     "duration": 0.045397,
     "end_time": "2022-07-29T17:25:46.295496",
     "exception": false,
     "start_time": "2022-07-29T17:25:46.250099",
     "status": "completed"
    },
    "tags": []
   },
   "source": [
    "## Model"
   ]
  },
  {
   "cell_type": "code",
   "execution_count": 115,
   "id": "8bd61266",
   "metadata": {
    "execution": {
     "iopub.execute_input": "2022-07-29T17:25:46.388552Z",
     "iopub.status.busy": "2022-07-29T17:25:46.388222Z",
     "iopub.status.idle": "2022-07-29T17:25:46.458718Z",
     "shell.execute_reply": "2022-07-29T17:25:46.457743Z"
    },
    "papermill": {
     "duration": 0.120169,
     "end_time": "2022-07-29T17:25:46.461634",
     "exception": false,
     "start_time": "2022-07-29T17:25:46.341465",
     "status": "completed"
    },
    "tags": []
   },
   "outputs": [
    {
     "name": "stdout",
     "output_type": "stream",
     "text": [
      "X_train (225114, 24)\n",
      "y_train (225114,)\n",
      "X_test (75039, 24)\n",
      "y_test (75039,)\n",
      "training (300153, 25)\n"
     ]
    }
   ],
   "source": [
    "X_train, X_test, y_train, y_test = train_test_split(X, \n",
    "                                                    y, \n",
    "                                                    test_size=0.25, \n",
    "                                                    random_state=42)\n",
    "\n",
    "print(\"X_train\", X_train.shape)\n",
    "\n",
    "print(\"y_train\",y_train.shape)\n",
    "\n",
    "print(\"X_test\",X_test.shape)\n",
    "\n",
    "print(\"y_test\",y_test.shape)\n",
    "\n",
    "training = df1.copy()\n",
    "\n",
    "print(\"training\", training.shape)"
   ]
  },
  {
   "cell_type": "code",
   "execution_count": 116,
   "id": "25aa274f",
   "metadata": {
    "execution": {
     "iopub.execute_input": "2022-07-29T17:25:46.556789Z",
     "iopub.status.busy": "2022-07-29T17:25:46.556465Z",
     "iopub.status.idle": "2022-07-29T17:25:46.561157Z",
     "shell.execute_reply": "2022-07-29T17:25:46.559917Z"
    },
    "papermill": {
     "duration": 0.053495,
     "end_time": "2022-07-29T17:25:46.563141",
     "exception": false,
     "start_time": "2022-07-29T17:25:46.509646",
     "status": "completed"
    },
    "tags": []
   },
   "outputs": [],
   "source": [
    "from sklearn.linear_model import Lasso"
   ]
  },
  {
   "cell_type": "code",
   "execution_count": 117,
   "id": "b4637002",
   "metadata": {
    "execution": {
     "iopub.execute_input": "2022-07-29T17:25:46.658939Z",
     "iopub.status.busy": "2022-07-29T17:25:46.657412Z",
     "iopub.status.idle": "2022-07-29T17:25:47.876383Z",
     "shell.execute_reply": "2022-07-29T17:25:47.875253Z"
    },
    "papermill": {
     "duration": 1.270285,
     "end_time": "2022-07-29T17:25:47.879612",
     "exception": false,
     "start_time": "2022-07-29T17:25:46.609327",
     "status": "completed"
    },
    "tags": []
   },
   "outputs": [
    {
     "data": {
      "text/plain": [
       "Lasso(alpha=0.1)"
      ]
     },
     "execution_count": 117,
     "metadata": {},
     "output_type": "execute_result"
    }
   ],
   "source": [
    "lasso_model = Lasso(alpha = 0.1).fit(X_train, y_train)\n",
    "lasso_model"
   ]
  },
  {
   "cell_type": "code",
   "execution_count": 118,
   "id": "a5f443e3",
   "metadata": {
    "execution": {
     "iopub.execute_input": "2022-07-29T17:25:48.030455Z",
     "iopub.status.busy": "2022-07-29T17:25:48.030125Z",
     "iopub.status.idle": "2022-07-29T17:25:48.036414Z",
     "shell.execute_reply": "2022-07-29T17:25:48.035529Z"
    },
    "papermill": {
     "duration": 0.070682,
     "end_time": "2022-07-29T17:25:48.038277",
     "exception": false,
     "start_time": "2022-07-29T17:25:47.967595",
     "status": "completed"
    },
    "tags": []
   },
   "outputs": [
    {
     "data": {
      "text/plain": [
       "array([ 4.66355908e+01, -1.31288327e+02, -3.36813390e+03, -3.21715990e+03,\n",
       "       -1.64838802e+03, -1.05394147e+03, -8.09021321e+02,  7.90659910e+02,\n",
       "        5.41085946e+01,  6.63166884e+01, -9.55198565e+02, -1.18682335e+03,\n",
       "        1.45870690e+03, -3.76826340e+01, -6.36467386e+02,  8.61727244e+00,\n",
       "       -0.00000000e+00,  4.13930669e+02,  1.16530505e+02, -2.42901885e+02,\n",
       "        5.12332728e+03,  7.58554274e+03, -2.73015821e+03, -4.49894871e+04])"
      ]
     },
     "execution_count": 118,
     "metadata": {},
     "output_type": "execute_result"
    }
   ],
   "source": [
    "lasso_model.coef_"
   ]
  },
  {
   "cell_type": "code",
   "execution_count": 119,
   "id": "a40b99a8",
   "metadata": {
    "execution": {
     "iopub.execute_input": "2022-07-29T17:25:48.133857Z",
     "iopub.status.busy": "2022-07-29T17:25:48.132377Z",
     "iopub.status.idle": "2022-07-29T17:28:15.463501Z",
     "shell.execute_reply": "2022-07-29T17:28:15.462616Z"
    },
    "papermill": {
     "duration": 147.380345,
     "end_time": "2022-07-29T17:28:15.465464",
     "exception": false,
     "start_time": "2022-07-29T17:25:48.085119",
     "status": "completed"
    },
    "tags": []
   },
   "outputs": [
    {
     "data": {
      "text/plain": [
       "Text(0, 0.5, 'weights')"
      ]
     },
     "execution_count": 119,
     "metadata": {},
     "output_type": "execute_result"
    },
    {
     "data": {
      "image/png": "[encoded data removed]",
      "text/plain": [
       "<Figure size 432x288 with 1 Axes>"
      ]
     },
     "metadata": {
      "needs_background": "light"
     },
     "output_type": "display_data"
    }
   ],
   "source": [
    "lasso = Lasso()\n",
    "lambdas = 10**np.linspace(10,-2,100)*0.5 \n",
    "coefficients = []\n",
    "\n",
    "for i in lambdas:\n",
    "    lasso.set_params(alpha=i)\n",
    "    lasso.fit(X_train, y_train)\n",
    "    coefficients.append(lasso.coef_)\n",
    "    \n",
    "ax = plt.gca()\n",
    "ax.plot(lambdas*2, coefficients)\n",
    "ax.set_xscale('log')\n",
    "plt.axis('tight')\n",
    "plt.xlabel('alpha')\n",
    "plt.ylabel('weights')"
   ]
  },
  {
   "cell_type": "markdown",
   "id": "d5fcc35b",
   "metadata": {
    "papermill": {
     "duration": 0.047297,
     "end_time": "2022-07-29T17:28:15.560186",
     "exception": false,
     "start_time": "2022-07-29T17:28:15.512889",
     "status": "completed"
    },
    "tags": []
   },
   "source": [
    "## Prediction"
   ]
  },
  {
   "cell_type": "code",
   "execution_count": 120,
   "id": "d83dc0b2",
   "metadata": {
    "execution": {
     "iopub.execute_input": "2022-07-29T17:28:15.657263Z",
     "iopub.status.busy": "2022-07-29T17:28:15.656281Z",
     "iopub.status.idle": "2022-07-29T17:28:15.669770Z",
     "shell.execute_reply": "2022-07-29T17:28:15.668765Z"
    },
    "papermill": {
     "duration": 0.064407,
     "end_time": "2022-07-29T17:28:15.672897",
     "exception": false,
     "start_time": "2022-07-29T17:28:15.608490",
     "status": "completed"
    },
    "tags": []
   },
   "outputs": [
    {
     "data": {
      "text/plain": [
       "array([ 3417.22017019, 54103.23083579,  9276.2779025 , ...,\n",
       "        8244.45560448, 55804.91473322, -1652.33827396])"
      ]
     },
     "execution_count": 120,
     "metadata": {},
     "output_type": "execute_result"
    }
   ],
   "source": [
    "lasso_model.predict(X_test)"
   ]
  },
  {
   "cell_type": "code",
   "execution_count": 121,
   "id": "a05fdb3b",
   "metadata": {
    "execution": {
     "iopub.execute_input": "2022-07-29T17:28:15.829184Z",
     "iopub.status.busy": "2022-07-29T17:28:15.828562Z",
     "iopub.status.idle": "2022-07-29T17:28:15.839469Z",
     "shell.execute_reply": "2022-07-29T17:28:15.838467Z"
    },
    "papermill": {
     "duration": 0.07708,
     "end_time": "2022-07-29T17:28:15.841937",
     "exception": false,
     "start_time": "2022-07-29T17:28:15.764857",
     "status": "completed"
    },
    "tags": []
   },
   "outputs": [],
   "source": [
    "y_pred = lasso_model.predict(X_test)"
   ]
  },
  {
   "cell_type": "code",
   "execution_count": 122,
   "id": "d153e0cf",
   "metadata": {
    "execution": {
     "iopub.execute_input": "2022-07-29T17:28:15.997677Z",
     "iopub.status.busy": "2022-07-29T17:28:15.997356Z",
     "iopub.status.idle": "2022-07-29T17:28:16.005339Z",
     "shell.execute_reply": "2022-07-29T17:28:16.004433Z"
    },
    "papermill": {
     "duration": 0.077319,
     "end_time": "2022-07-29T17:28:16.007446",
     "exception": false,
     "start_time": "2022-07-29T17:28:15.930127",
     "status": "completed"
    },
    "tags": []
   },
   "outputs": [
    {
     "data": {
      "text/plain": [
       "6850.382374699668"
      ]
     },
     "execution_count": 122,
     "metadata": {},
     "output_type": "execute_result"
    }
   ],
   "source": [
    "np.sqrt(mean_squared_error(y_test, y_pred))"
   ]
  },
  {
   "cell_type": "markdown",
   "id": "e1628ccf",
   "metadata": {
    "papermill": {
     "duration": 0.046792,
     "end_time": "2022-07-29T17:28:16.103098",
     "exception": false,
     "start_time": "2022-07-29T17:28:16.056306",
     "status": "completed"
    },
    "tags": []
   },
   "source": [
    "## Model Tuning"
   ]
  },
  {
   "cell_type": "code",
   "execution_count": 123,
   "id": "49bf89cf",
   "metadata": {
    "execution": {
     "iopub.execute_input": "2022-07-29T17:28:16.199555Z",
     "iopub.status.busy": "2022-07-29T17:28:16.199234Z",
     "iopub.status.idle": "2022-07-29T17:28:16.203578Z",
     "shell.execute_reply": "2022-07-29T17:28:16.202591Z"
    },
    "papermill": {
     "duration": 0.054522,
     "end_time": "2022-07-29T17:28:16.205460",
     "exception": false,
     "start_time": "2022-07-29T17:28:16.150938",
     "status": "completed"
    },
    "tags": []
   },
   "outputs": [],
   "source": [
    "from sklearn.linear_model import LassoCV"
   ]
  },
  {
   "cell_type": "code",
   "execution_count": 124,
   "id": "89b3eb48",
   "metadata": {
    "execution": {
     "iopub.execute_input": "2022-07-29T17:28:16.300307Z",
     "iopub.status.busy": "2022-07-29T17:28:16.300017Z",
     "iopub.status.idle": "2022-07-29T17:28:16.304493Z",
     "shell.execute_reply": "2022-07-29T17:28:16.303501Z"
    },
    "papermill": {
     "duration": 0.054535,
     "end_time": "2022-07-29T17:28:16.306465",
     "exception": false,
     "start_time": "2022-07-29T17:28:16.251930",
     "status": "completed"
    },
    "tags": []
   },
   "outputs": [],
   "source": [
    "lasso_cv_model = LassoCV(alphas = None, \n",
    "                         cv = 10, \n",
    "                         max_iter = 10000, \n",
    "                         normalize = True)"
   ]
  },
  {
   "cell_type": "code",
   "execution_count": 125,
   "id": "910c2d96",
   "metadata": {
    "execution": {
     "iopub.execute_input": "2022-07-29T17:28:16.401432Z",
     "iopub.status.busy": "2022-07-29T17:28:16.400865Z",
     "iopub.status.idle": "2022-07-29T17:28:21.475688Z",
     "shell.execute_reply": "2022-07-29T17:28:21.474750Z"
    },
    "papermill": {
     "duration": 5.125293,
     "end_time": "2022-07-29T17:28:21.478750",
     "exception": false,
     "start_time": "2022-07-29T17:28:16.353457",
     "status": "completed"
    },
    "tags": []
   },
   "outputs": [
    {
     "data": {
      "text/plain": [
       "LassoCV(cv=10, max_iter=10000, normalize=True)"
      ]
     },
     "execution_count": 125,
     "metadata": {},
     "output_type": "execute_result"
    }
   ],
   "source": [
    "lasso_cv_model.fit(X_train,y_train)"
   ]
  },
  {
   "cell_type": "code",
   "execution_count": 126,
   "id": "f517afc1",
   "metadata": {
    "execution": {
     "iopub.execute_input": "2022-07-29T17:28:21.636125Z",
     "iopub.status.busy": "2022-07-29T17:28:21.635796Z",
     "iopub.status.idle": "2022-07-29T17:28:21.641785Z",
     "shell.execute_reply": "2022-07-29T17:28:21.640882Z"
    },
    "papermill": {
     "duration": 0.072705,
     "end_time": "2022-07-29T17:28:21.643673",
     "exception": false,
     "start_time": "2022-07-29T17:28:21.570968",
     "status": "completed"
    },
    "tags": []
   },
   "outputs": [
    {
     "data": {
      "text/plain": [
       "0.04485357068519255"
      ]
     },
     "execution_count": 126,
     "metadata": {},
     "output_type": "execute_result"
    }
   ],
   "source": [
    "lasso_cv_model.alpha_"
   ]
  },
  {
   "cell_type": "code",
   "execution_count": 127,
   "id": "b8cc69e5",
   "metadata": {
    "execution": {
     "iopub.execute_input": "2022-07-29T17:28:21.739647Z",
     "iopub.status.busy": "2022-07-29T17:28:21.739042Z",
     "iopub.status.idle": "2022-07-29T17:28:21.743442Z",
     "shell.execute_reply": "2022-07-29T17:28:21.742497Z"
    },
    "papermill": {
     "duration": 0.054664,
     "end_time": "2022-07-29T17:28:21.745447",
     "exception": false,
     "start_time": "2022-07-29T17:28:21.690783",
     "status": "completed"
    },
    "tags": []
   },
   "outputs": [],
   "source": [
    "lasso_tuned = Lasso(alpha = lasso_cv_model.alpha_)"
   ]
  },
  {
   "cell_type": "code",
   "execution_count": 128,
   "id": "155e446c",
   "metadata": {
    "execution": {
     "iopub.execute_input": "2022-07-29T17:28:21.841714Z",
     "iopub.status.busy": "2022-07-29T17:28:21.841389Z",
     "iopub.status.idle": "2022-07-29T17:28:24.291946Z",
     "shell.execute_reply": "2022-07-29T17:28:24.290969Z"
    },
    "papermill": {
     "duration": 2.501933,
     "end_time": "2022-07-29T17:28:24.294814",
     "exception": false,
     "start_time": "2022-07-29T17:28:21.792881",
     "status": "completed"
    },
    "tags": []
   },
   "outputs": [
    {
     "data": {
      "text/plain": [
       "Lasso(alpha=0.04485357068519255)"
      ]
     },
     "execution_count": 128,
     "metadata": {},
     "output_type": "execute_result"
    }
   ],
   "source": [
    "lasso_tuned.fit(X_train, y_train)"
   ]
  },
  {
   "cell_type": "code",
   "execution_count": 129,
   "id": "fe58e615",
   "metadata": {
    "execution": {
     "iopub.execute_input": "2022-07-29T17:28:24.449536Z",
     "iopub.status.busy": "2022-07-29T17:28:24.448694Z",
     "iopub.status.idle": "2022-07-29T17:28:24.460017Z",
     "shell.execute_reply": "2022-07-29T17:28:24.459003Z"
    },
    "papermill": {
     "duration": 0.079058,
     "end_time": "2022-07-29T17:28:24.463581",
     "exception": false,
     "start_time": "2022-07-29T17:28:24.384523",
     "status": "completed"
    },
    "tags": []
   },
   "outputs": [],
   "source": [
    "y_pred = lasso_tuned.predict(X_test)"
   ]
  },
  {
   "cell_type": "code",
   "execution_count": 130,
   "id": "3c03c85d",
   "metadata": {
    "execution": {
     "iopub.execute_input": "2022-07-29T17:28:24.683053Z",
     "iopub.status.busy": "2022-07-29T17:28:24.682434Z",
     "iopub.status.idle": "2022-07-29T17:28:24.692654Z",
     "shell.execute_reply": "2022-07-29T17:28:24.691798Z"
    },
    "papermill": {
     "duration": 0.098799,
     "end_time": "2022-07-29T17:28:24.697352",
     "exception": false,
     "start_time": "2022-07-29T17:28:24.598553",
     "status": "completed"
    },
    "tags": []
   },
   "outputs": [
    {
     "data": {
      "text/plain": [
       "6850.378654145184"
      ]
     },
     "execution_count": 130,
     "metadata": {},
     "output_type": "execute_result"
    }
   ],
   "source": [
    "np.sqrt(mean_squared_error(y_test, y_pred))"
   ]
  },
  {
   "cell_type": "markdown",
   "id": "48c279d7",
   "metadata": {
    "papermill": {
     "duration": 0.078304,
     "end_time": "2022-07-29T17:28:24.853691",
     "exception": false,
     "start_time": "2022-07-29T17:28:24.775387",
     "status": "completed"
    },
    "tags": []
   },
   "source": [
    "# Elastic Net Regression"
   ]
  },
  {
   "cell_type": "markdown",
   "id": "0c0884a6",
   "metadata": {
    "papermill": {
     "duration": 0.082612,
     "end_time": "2022-07-29T17:28:25.020861",
     "exception": false,
     "start_time": "2022-07-29T17:28:24.938249",
     "status": "completed"
    },
    "tags": []
   },
   "source": [
    "## Model"
   ]
  },
  {
   "cell_type": "code",
   "execution_count": 131,
   "id": "8ba129d7",
   "metadata": {
    "execution": {
     "iopub.execute_input": "2022-07-29T17:28:25.186644Z",
     "iopub.status.busy": "2022-07-29T17:28:25.186210Z",
     "iopub.status.idle": "2022-07-29T17:28:25.330736Z",
     "shell.execute_reply": "2022-07-29T17:28:25.329055Z"
    },
    "papermill": {
     "duration": 0.228026,
     "end_time": "2022-07-29T17:28:25.333249",
     "exception": false,
     "start_time": "2022-07-29T17:28:25.105223",
     "status": "completed"
    },
    "tags": []
   },
   "outputs": [
    {
     "name": "stdout",
     "output_type": "stream",
     "text": [
      "X_train (225114, 24)\n",
      "y_train (225114,)\n",
      "X_test (75039, 24)\n",
      "y_test (75039,)\n",
      "training (300153, 25)\n"
     ]
    }
   ],
   "source": [
    "X_train, X_test, y_train, y_test = train_test_split(X, \n",
    "                                                    y, \n",
    "                                                    test_size=0.25, \n",
    "                                                    random_state=42)\n",
    "\n",
    "print(\"X_train\", X_train.shape)\n",
    "\n",
    "print(\"y_train\",y_train.shape)\n",
    "\n",
    "print(\"X_test\",X_test.shape)\n",
    "\n",
    "print(\"y_test\",y_test.shape)\n",
    "\n",
    "training = df1.copy()\n",
    "\n",
    "print(\"training\", training.shape)"
   ]
  },
  {
   "cell_type": "code",
   "execution_count": 132,
   "id": "6cde53ad",
   "metadata": {
    "execution": {
     "iopub.execute_input": "2022-07-29T17:28:25.512974Z",
     "iopub.status.busy": "2022-07-29T17:28:25.511733Z",
     "iopub.status.idle": "2022-07-29T17:28:25.518449Z",
     "shell.execute_reply": "2022-07-29T17:28:25.517011Z"
    },
    "papermill": {
     "duration": 0.100006,
     "end_time": "2022-07-29T17:28:25.523190",
     "exception": false,
     "start_time": "2022-07-29T17:28:25.423184",
     "status": "completed"
    },
    "tags": []
   },
   "outputs": [],
   "source": [
    "from sklearn.linear_model import ElasticNet"
   ]
  },
  {
   "cell_type": "code",
   "execution_count": 133,
   "id": "891b41eb",
   "metadata": {
    "execution": {
     "iopub.execute_input": "2022-07-29T17:28:25.693328Z",
     "iopub.status.busy": "2022-07-29T17:28:25.692960Z",
     "iopub.status.idle": "2022-07-29T17:28:25.867204Z",
     "shell.execute_reply": "2022-07-29T17:28:25.865974Z"
    },
    "papermill": {
     "duration": 0.257588,
     "end_time": "2022-07-29T17:28:25.870947",
     "exception": false,
     "start_time": "2022-07-29T17:28:25.613359",
     "status": "completed"
    },
    "tags": []
   },
   "outputs": [],
   "source": [
    "enet_model = ElasticNet().fit(X_train, y_train)"
   ]
  },
  {
   "cell_type": "code",
   "execution_count": 134,
   "id": "9811fcbe",
   "metadata": {
    "execution": {
     "iopub.execute_input": "2022-07-29T17:28:26.027763Z",
     "iopub.status.busy": "2022-07-29T17:28:26.027406Z",
     "iopub.status.idle": "2022-07-29T17:28:26.034180Z",
     "shell.execute_reply": "2022-07-29T17:28:26.033177Z"
    },
    "papermill": {
     "duration": 0.075406,
     "end_time": "2022-07-29T17:28:26.037174",
     "exception": false,
     "start_time": "2022-07-29T17:28:25.961768",
     "status": "completed"
    },
    "tags": []
   },
   "outputs": [
    {
     "data": {
      "text/plain": [
       "array([ 3.84249156e+02, -1.37414690e+02, -9.33598934e+02,  4.66061646e+02,\n",
       "       -1.11143090e+03, -1.64938414e+03, -5.37761879e+02,  3.76811400e+03,\n",
       "        1.21368330e+02,  1.01958053e+02, -3.50560426e+02, -2.18516697e+02,\n",
       "        2.02421369e+02,  1.41329338e+02, -2.41730250e+02, -1.04375409e+01,\n",
       "       -9.06158354e+01, -3.19797117e+01,  2.65222445e+02,  1.11542088e+02,\n",
       "        1.27049706e+03, -3.66566151e+02, -9.02931901e+02, -1.29233275e+04])"
      ]
     },
     "execution_count": 134,
     "metadata": {},
     "output_type": "execute_result"
    }
   ],
   "source": [
    "enet_model.coef_"
   ]
  },
  {
   "cell_type": "code",
   "execution_count": 135,
   "id": "2b2a9358",
   "metadata": {
    "execution": {
     "iopub.execute_input": "2022-07-29T17:28:26.139658Z",
     "iopub.status.busy": "2022-07-29T17:28:26.139297Z",
     "iopub.status.idle": "2022-07-29T17:28:26.145555Z",
     "shell.execute_reply": "2022-07-29T17:28:26.144509Z"
    },
    "papermill": {
     "duration": 0.063125,
     "end_time": "2022-07-29T17:28:26.149123",
     "exception": false,
     "start_time": "2022-07-29T17:28:26.085998",
     "status": "completed"
    },
    "tags": []
   },
   "outputs": [
    {
     "data": {
      "text/plain": [
       "26375.142719309155"
      ]
     },
     "execution_count": 135,
     "metadata": {},
     "output_type": "execute_result"
    }
   ],
   "source": [
    "enet_model.intercept_"
   ]
  },
  {
   "cell_type": "markdown",
   "id": "ad8382d9",
   "metadata": {
    "papermill": {
     "duration": 0.047445,
     "end_time": "2022-07-29T17:28:26.243783",
     "exception": false,
     "start_time": "2022-07-29T17:28:26.196338",
     "status": "completed"
    },
    "tags": []
   },
   "source": [
    "## Prediction"
   ]
  },
  {
   "cell_type": "code",
   "execution_count": 136,
   "id": "5aea73cf",
   "metadata": {
    "execution": {
     "iopub.execute_input": "2022-07-29T17:28:26.340980Z",
     "iopub.status.busy": "2022-07-29T17:28:26.340468Z",
     "iopub.status.idle": "2022-07-29T17:28:26.347076Z",
     "shell.execute_reply": "2022-07-29T17:28:26.346191Z"
    },
    "papermill": {
     "duration": 0.058212,
     "end_time": "2022-07-29T17:28:26.349175",
     "exception": false,
     "start_time": "2022-07-29T17:28:26.290963",
     "status": "completed"
    },
    "tags": []
   },
   "outputs": [
    {
     "data": {
      "text/plain": [
       "ElasticNet()"
      ]
     },
     "execution_count": 136,
     "metadata": {},
     "output_type": "execute_result"
    }
   ],
   "source": [
    "enet_model"
   ]
  },
  {
   "cell_type": "code",
   "execution_count": 137,
   "id": "bd9d1be0",
   "metadata": {
    "execution": {
     "iopub.execute_input": "2022-07-29T17:28:26.447416Z",
     "iopub.status.busy": "2022-07-29T17:28:26.447114Z",
     "iopub.status.idle": "2022-07-29T17:28:26.460114Z",
     "shell.execute_reply": "2022-07-29T17:28:26.459073Z"
    },
    "papermill": {
     "duration": 0.06459,
     "end_time": "2022-07-29T17:28:26.462210",
     "exception": false,
     "start_time": "2022-07-29T17:28:26.397620",
     "status": "completed"
    },
    "tags": []
   },
   "outputs": [
    {
     "data": {
      "text/plain": [
       "array([17195.36914379, 29887.14981283, 17358.68390844, ...,\n",
       "       19841.0047138 , 33177.68831973,  9474.97638   ])"
      ]
     },
     "execution_count": 137,
     "metadata": {},
     "output_type": "execute_result"
    }
   ],
   "source": [
    "enet_model.predict(X_test)"
   ]
  },
  {
   "cell_type": "code",
   "execution_count": 138,
   "id": "566b9db0",
   "metadata": {
    "execution": {
     "iopub.execute_input": "2022-07-29T17:28:26.620600Z",
     "iopub.status.busy": "2022-07-29T17:28:26.620266Z",
     "iopub.status.idle": "2022-07-29T17:28:26.633162Z",
     "shell.execute_reply": "2022-07-29T17:28:26.631183Z"
    },
    "papermill": {
     "duration": 0.082534,
     "end_time": "2022-07-29T17:28:26.635825",
     "exception": false,
     "start_time": "2022-07-29T17:28:26.553291",
     "status": "completed"
    },
    "tags": []
   },
   "outputs": [],
   "source": [
    "y_pred = enet_model.predict(X_test)"
   ]
  },
  {
   "cell_type": "code",
   "execution_count": 139,
   "id": "c5e9f54c",
   "metadata": {
    "execution": {
     "iopub.execute_input": "2022-07-29T17:28:26.791507Z",
     "iopub.status.busy": "2022-07-29T17:28:26.791169Z",
     "iopub.status.idle": "2022-07-29T17:28:26.799636Z",
     "shell.execute_reply": "2022-07-29T17:28:26.798695Z"
    },
    "papermill": {
     "duration": 0.07653,
     "end_time": "2022-07-29T17:28:26.801627",
     "exception": false,
     "start_time": "2022-07-29T17:28:26.725097",
     "status": "completed"
    },
    "tags": []
   },
   "outputs": [
    {
     "data": {
      "text/plain": [
       "15816.449996999649"
      ]
     },
     "execution_count": 139,
     "metadata": {},
     "output_type": "execute_result"
    }
   ],
   "source": [
    "np.sqrt(mean_squared_error(y_test, y_pred))"
   ]
  },
  {
   "cell_type": "code",
   "execution_count": 140,
   "id": "07684323",
   "metadata": {
    "execution": {
     "iopub.execute_input": "2022-07-29T17:28:26.900467Z",
     "iopub.status.busy": "2022-07-29T17:28:26.900168Z",
     "iopub.status.idle": "2022-07-29T17:28:26.908555Z",
     "shell.execute_reply": "2022-07-29T17:28:26.907648Z"
    },
    "papermill": {
     "duration": 0.06023,
     "end_time": "2022-07-29T17:28:26.910542",
     "exception": false,
     "start_time": "2022-07-29T17:28:26.850312",
     "status": "completed"
    },
    "tags": []
   },
   "outputs": [
    {
     "data": {
      "text/plain": [
       "0.5148344638095399"
      ]
     },
     "execution_count": 140,
     "metadata": {},
     "output_type": "execute_result"
    }
   ],
   "source": [
    "r2_score(y_test, y_pred)"
   ]
  },
  {
   "cell_type": "markdown",
   "id": "337cf16f",
   "metadata": {
    "papermill": {
     "duration": 0.04761,
     "end_time": "2022-07-29T17:28:27.006339",
     "exception": false,
     "start_time": "2022-07-29T17:28:26.958729",
     "status": "completed"
    },
    "tags": []
   },
   "source": [
    "## Model Tuning"
   ]
  },
  {
   "cell_type": "code",
   "execution_count": 141,
   "id": "b6a53980",
   "metadata": {
    "execution": {
     "iopub.execute_input": "2022-07-29T17:28:27.103666Z",
     "iopub.status.busy": "2022-07-29T17:28:27.103291Z",
     "iopub.status.idle": "2022-07-29T17:28:27.108376Z",
     "shell.execute_reply": "2022-07-29T17:28:27.107389Z"
    },
    "papermill": {
     "duration": 0.056388,
     "end_time": "2022-07-29T17:28:27.110404",
     "exception": false,
     "start_time": "2022-07-29T17:28:27.054016",
     "status": "completed"
    },
    "tags": []
   },
   "outputs": [],
   "source": [
    "from sklearn.linear_model import ElasticNetCV"
   ]
  },
  {
   "cell_type": "code",
   "execution_count": 142,
   "id": "a5592457",
   "metadata": {
    "execution": {
     "iopub.execute_input": "2022-07-29T17:28:27.217470Z",
     "iopub.status.busy": "2022-07-29T17:28:27.217142Z",
     "iopub.status.idle": "2022-07-29T17:28:30.335808Z",
     "shell.execute_reply": "2022-07-29T17:28:30.334508Z"
    },
    "papermill": {
     "duration": 3.172386,
     "end_time": "2022-07-29T17:28:30.339471",
     "exception": false,
     "start_time": "2022-07-29T17:28:27.167085",
     "status": "completed"
    },
    "tags": []
   },
   "outputs": [],
   "source": [
    "enet_cv_model = ElasticNetCV(cv = 10, random_state = 0).fit(X_train, y_train)"
   ]
  },
  {
   "cell_type": "code",
   "execution_count": 143,
   "id": "be8892d3",
   "metadata": {
    "execution": {
     "iopub.execute_input": "2022-07-29T17:28:30.496927Z",
     "iopub.status.busy": "2022-07-29T17:28:30.496549Z",
     "iopub.status.idle": "2022-07-29T17:28:30.503024Z",
     "shell.execute_reply": "2022-07-29T17:28:30.502017Z"
    },
    "papermill": {
     "duration": 0.073,
     "end_time": "2022-07-29T17:28:30.506087",
     "exception": false,
     "start_time": "2022-07-29T17:28:30.433087",
     "status": "completed"
    },
    "tags": []
   },
   "outputs": [
    {
     "data": {
      "text/plain": [
       "66.18700938098989"
      ]
     },
     "execution_count": 143,
     "metadata": {},
     "output_type": "execute_result"
    }
   ],
   "source": [
    "enet_cv_model.alpha_"
   ]
  },
  {
   "cell_type": "code",
   "execution_count": 144,
   "id": "ccaa5f65",
   "metadata": {
    "execution": {
     "iopub.execute_input": "2022-07-29T17:28:30.604260Z",
     "iopub.status.busy": "2022-07-29T17:28:30.603965Z",
     "iopub.status.idle": "2022-07-29T17:28:30.609907Z",
     "shell.execute_reply": "2022-07-29T17:28:30.608970Z"
    },
    "papermill": {
     "duration": 0.05725,
     "end_time": "2022-07-29T17:28:30.611884",
     "exception": false,
     "start_time": "2022-07-29T17:28:30.554634",
     "status": "completed"
    },
    "tags": []
   },
   "outputs": [
    {
     "data": {
      "text/plain": [
       "ElasticNetCV(cv=10, random_state=0)"
      ]
     },
     "execution_count": 144,
     "metadata": {},
     "output_type": "execute_result"
    }
   ],
   "source": [
    "enet_cv_model"
   ]
  },
  {
   "cell_type": "code",
   "execution_count": 145,
   "id": "df274baf",
   "metadata": {
    "execution": {
     "iopub.execute_input": "2022-07-29T17:28:30.711134Z",
     "iopub.status.busy": "2022-07-29T17:28:30.710860Z",
     "iopub.status.idle": "2022-07-29T17:28:30.808417Z",
     "shell.execute_reply": "2022-07-29T17:28:30.807217Z"
    },
    "papermill": {
     "duration": 0.150517,
     "end_time": "2022-07-29T17:28:30.811606",
     "exception": false,
     "start_time": "2022-07-29T17:28:30.661089",
     "status": "completed"
    },
    "tags": []
   },
   "outputs": [],
   "source": [
    "enet_tuned = ElasticNet(alpha = enet_cv_model.alpha_).fit(X_train,y_train)"
   ]
  },
  {
   "cell_type": "code",
   "execution_count": 146,
   "id": "a7b31f06",
   "metadata": {
    "execution": {
     "iopub.execute_input": "2022-07-29T17:28:30.970929Z",
     "iopub.status.busy": "2022-07-29T17:28:30.970421Z",
     "iopub.status.idle": "2022-07-29T17:28:30.981439Z",
     "shell.execute_reply": "2022-07-29T17:28:30.980400Z"
    },
    "papermill": {
     "duration": 0.080528,
     "end_time": "2022-07-29T17:28:30.984122",
     "exception": false,
     "start_time": "2022-07-29T17:28:30.903594",
     "status": "completed"
    },
    "tags": []
   },
   "outputs": [],
   "source": [
    "y_pred = enet_tuned.predict(X_test)"
   ]
  },
  {
   "cell_type": "code",
   "execution_count": 147,
   "id": "385f4f54",
   "metadata": {
    "execution": {
     "iopub.execute_input": "2022-07-29T17:28:31.143553Z",
     "iopub.status.busy": "2022-07-29T17:28:31.143207Z",
     "iopub.status.idle": "2022-07-29T17:28:31.150879Z",
     "shell.execute_reply": "2022-07-29T17:28:31.149943Z"
    },
    "papermill": {
     "duration": 0.076581,
     "end_time": "2022-07-29T17:28:31.152844",
     "exception": false,
     "start_time": "2022-07-29T17:28:31.076263",
     "status": "completed"
    },
    "tags": []
   },
   "outputs": [
    {
     "data": {
      "text/plain": [
       "22055.104896329227"
      ]
     },
     "execution_count": 147,
     "metadata": {},
     "output_type": "execute_result"
    }
   ],
   "source": [
    "np.sqrt(mean_squared_error(y_test, y_pred))"
   ]
  },
  {
   "cell_type": "markdown",
   "id": "f3031148",
   "metadata": {
    "papermill": {
     "duration": 0.049017,
     "end_time": "2022-07-29T17:28:31.251804",
     "exception": false,
     "start_time": "2022-07-29T17:28:31.202787",
     "status": "completed"
    },
    "tags": []
   },
   "source": [
    "# Results\n",
    "\n",
    "\n",
    "Simple Linear Regression : np.sqrt(np.mean(k_t['hata_kare']))           : 18783.46946262304\n",
    "\n",
    "\n",
    "Multiple Linear Regression : \n",
    "\n",
    "np.sqrt(-cross_val_score(model, \n",
    "                X_test, \n",
    "                y_test, \n",
    "                cv = 10, \n",
    "                scoring = \"neg_mean_squared_error\")).mean()                 :  6860.827286208287\n",
    "\n",
    "\n",
    "PCR : np.sqrt(mean_squared_error(y_test, y_pred))                           : 9008.824966205219\n",
    "\n",
    "\n",
    "PLS : np.sqrt(mean_squared_error(y_test, y_pred))                          : 6850.375744605577\n",
    "\n",
    "\n",
    "Ridge : np.sqrt(mean_squared_error(y_test, ridge_tuned.predict(X_test)))   : 6851.02325041194\n",
    "\n",
    "\n",
    "Lasso: np.sqrt(mean_squared_error(y_test, y_pred))                        : 6850.378654145184\n",
    "\n",
    "\n",
    "ElasticNet : np.sqrt(mean_squared_error(y_test, y_pred))                  : 22055.104896329227"
   ]
  },
  {
   "cell_type": "markdown",
   "id": "a7e868b0",
   "metadata": {
    "papermill": {
     "duration": 0.048136,
     "end_time": "2022-07-29T17:28:31.348187",
     "exception": false,
     "start_time": "2022-07-29T17:28:31.300051",
     "status": "completed"
    },
    "tags": []
   },
   "source": [
    "<!-- Sonuçlar: \n",
    "\n",
    "Basit Doğrusal Regresyon : np.sqrt(np.mean(k_t['hata_kare'])) \t\t\t     : 18783.46946262304\n",
    "\n",
    "\n",
    "Çoklu Doğrusal Regresyon : \n",
    "\n",
    "np.sqrt(-cross_val_score(model, \n",
    "                X_test, \n",
    "                y_test, \n",
    "                cv = 10, \n",
    "                scoring = \"neg_mean_squared_error\")).mean()\n",
    "\n",
    "                                                                             : 6860.827286208287\n",
    "\n",
    "\n",
    "PCR : np.sqrt(mean_squared_error(y_test, y_pred)) \t\t\t\t             : 9008.824966205219\n",
    "\n",
    "\n",
    "PLS : np.sqrt(mean_squared_error(y_test, y_pred)) \t\t\t             \t : 6850.375744605577\n",
    "\n",
    "\n",
    "Ridge : np.sqrt(mean_squared_error(y_test, ridge_tuned.predict(X_test))) \t : 6851.02325041194\n",
    "\n",
    "\n",
    "Lasso: np.sqrt(mean_squared_error(y_test, y_pred)) \t\t\t\t             : 6850.378654145184\n",
    "\n",
    "\n",
    "ElasticNet : np.sqrt(mean_squared_error(y_test, y_pred)) \t\t\t         : 22055.104896329227 -->"
   ]
  }
 ],
 "metadata": {
  "kernelspec": {
   "display_name": "Python 3",
   "language": "python",
   "name": "python3"
  },
  "language_info": {
   "codemirror_mode": {
    "name": "ipython",
    "version": 3
   },
   "file_extension": ".py",
   "mimetype": "text/x-python",
   "name": "python",
   "nbconvert_exporter": "python",
   "pygments_lexer": "ipython3",
   "version": "3.7.12"
  },
  "papermill": {
   "default_parameters": {},
   "duration": 552.303973,
   "end_time": "2022-07-29T17:28:32.020148",
   "environment_variables": {},
   "exception": null,
   "input_path": "__notebook__.ipynb",
   "output_path": "__notebook__.ipynb",
   "parameters": {},
   "start_time": "2022-07-29T17:19:19.716175",
   "version": "2.3.4"
  }
 },
 "nbformat": 4,
 "nbformat_minor": 5
}
